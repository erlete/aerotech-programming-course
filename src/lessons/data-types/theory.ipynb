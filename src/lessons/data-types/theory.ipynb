{
  "cells": [
    {
      "attachments": {},
      "cell_type": "markdown",
      "metadata": {},
      "source": [
        "> Remember to create a branch named `data-types`\n",
        "\n",
        "# Data types: ways to classify information\n",
        "\n",
        "As many other languages, Python has got several built-in data types that can represent information."
      ]
    },
    {
      "attachments": {},
      "cell_type": "markdown",
      "metadata": {
        "id": "e4XETFi_VHlF"
      },
      "source": [
        "## Literals and variables, *literally*\n",
        "\n",
        "- **Literals**: generic values associated to specific symbols or combinations of symbols.\n",
        "- **Variables**: references to values located in the memory of the device that executes the program.\n",
        "\n",
        "In Python, variables are not linked to any specific data type (the language does not provide strict typing functionalities), which means that variables can be reassigned to any other data type without raising errors."
      ]
    },
    {
      "cell_type": "code",
      "execution_count": null,
      "metadata": {
        "colab": {
          "base_uri": "https://localhost:8080/"
        },
        "id": "4GwVDrlQVYfW",
        "outputId": "49755e4c-fe7a-467d-9411-2a812bd32530"
      },
      "outputs": [],
      "source": [
        "# These are literals:\n",
        "\n",
        "2\n",
        "12.3\n",
        "\"hello\"\n",
        "True\n",
        "\n",
        "# This is a literal assigned to a variable:\n",
        "\n",
        "var = 2\n",
        "\n",
        "# Once the variable is assigned, its value can be accessed by calling it.\n",
        "# The example below passes the variable as argument to the print function:\n",
        "\n",
        "print(var)\n"
      ]
    },
    {
      "attachments": {},
      "cell_type": "markdown",
      "metadata": {
        "id": "PHk4urEyjaBG"
      },
      "source": [
        "### _Exercise 1: Variable creation_\n",
        "\n",
        "Steps:\n",
        "\n",
        "1. Create a variable named `my_first_variable` that contains value `69`.\n",
        "\n",
        "- [Click here to open the script in the editor](./exercises/exercise_01.py)\n",
        "- Test the script using `Ctrl + Shift + P` > `Tasks: Run Task` > `Test exercise`"
      ]
    },
    {
      "attachments": {},
      "cell_type": "markdown",
      "metadata": {
        "id": "QWhQ9lm-MPAX"
      },
      "source": [
        "### _Exercise 2: Variable data type determination_\n",
        "\n",
        "Initial data:\n",
        "\n",
        "- `unknown`: variable that contains a value of unknown data type.\n",
        "\n",
        "Steps:\n",
        "\n",
        "1. Search for information about the **function** that allows you to pass a variable as an argument and know the data **type** it contains.\n",
        "2. Get the result of passing the `unknown` variable as argument to said function and assign it to the `known_type` variable.\n",
        "\n",
        "- [Click here to open the script in the editor](./exercises/exercise_02.py)\n",
        "- Test the script using `Ctrl + Shift + P` > `Tasks: Run Task` > `Test exercise`"
      ]
    },
    {
      "attachments": {},
      "cell_type": "markdown",
      "metadata": {
        "id": "6oOOkT45XuXu"
      },
      "source": [
        "## Non sequential data types\n",
        "\n",
        "- **Sequentiality**: capacity of a given data type to define a sequence of values.\n",
        "- **Mutability**: capacity of a given data type to be modified after its creation.\n",
        "\n",
        "Non sequential data types are those composed of a single element, which cannot be modified after its creation (i.e. the operation `1 = 2` is not possible).\n",
        "\n",
        "There are four built-in non sequential data types in Python:\n",
        "\n",
        "- `int`: numeric values without decimals\n",
        "- `float`: numeric values with decimals\n",
        "- `complex`: numeric values with real and imaginary parts\n",
        "- `bool`: boolean values."
      ]
    },
    {
      "cell_type": "code",
      "execution_count": null,
      "metadata": {
        "id": "8tIDwTgtY6r0"
      },
      "outputs": [],
      "source": [
        "# Integer value:\n",
        "\n",
        "integer_variable = 1\n",
        "\n",
        "# Float value:\n",
        "\n",
        "float_variable = 1.2\n",
        "\n",
        "# Complex value:\n",
        "\n",
        "complex_variable = 1 + 2j\n",
        "\n",
        "# Boolean value:\n",
        "\n",
        "boolean_variable = True\n"
      ]
    },
    {
      "attachments": {},
      "cell_type": "markdown",
      "metadata": {
        "id": "T06h9c4SnQJ9"
      },
      "source": [
        "### _Exercise 3: Non sequential data types_\n",
        "\n",
        "Steps:\n",
        "\n",
        "1. Create two variables named `var_1` and `var_2` that contain, respectively, the value of Pi (with **four decimals**) and the number of seconds in a day.\n",
        "\n",
        "- [Click here to open the script in the editor](./exercises/exercise_03.py)\n",
        "- Test the script using `Ctrl + Shift + P` > `Tasks: Run Task` > `Test exercise`"
      ]
    },
    {
      "attachments": {},
      "cell_type": "markdown",
      "metadata": {
        "id": "-wLghVJBcgTI"
      },
      "source": [
        "### Data type conversion (type casting)\n",
        "\n",
        "Python allows to change the data type of its elements with some flexibility. Thus, it is possible to convert a `float` into an `int` and vice versa, but (for example) it is not possible to convert a `str` into an `int`."
      ]
    },
    {
      "cell_type": "code",
      "execution_count": null,
      "metadata": {
        "colab": {
          "base_uri": "https://localhost:8080/"
        },
        "id": "l-OQZayYc23i",
        "outputId": "b838d749-ad90-4d6b-b3c0-45367cf986ec"
      },
      "outputs": [],
      "source": [
        "# This is a float value assigned to a variable:\n",
        "\n",
        "variable = 6.9\n",
        "print(\"The value of the variable is: \", variable)\n",
        "print(\"The data type of the variable is: \", type(variable))\n",
        "\n",
        "# Now, its value is being casted into an integer:\n",
        "\n",
        "variable = int(variable)  # The value will be truncated (not rounded).\n",
        "print(\"The value of the variable is: \", variable)\n",
        "print(\"The data type of the variable is: \", type(variable))\n"
      ]
    },
    {
      "attachments": {},
      "cell_type": "markdown",
      "metadata": {
        "id": "gyh4tAzSpoSS"
      },
      "source": [
        "#### _Exercise 4: Type casting_\n",
        "\n",
        "Initial data:\n",
        "\n",
        "- Variable `value` with value `123`.\n",
        "\n",
        "Steps:\n",
        "\n",
        "1. Create a variable named `casted` that contains the value of the `value` variable casted to a string.\n",
        "\n",
        "- [Click here to open the script in the editor](./exercises/exercise_04.py)\n",
        "- Test the script using `Ctrl + Shift + P` > `Tasks: Run Task` > `Test exercise`"
      ]
    },
    {
      "attachments": {},
      "cell_type": "markdown",
      "metadata": {
        "id": "nZiRVHwsrBLL"
      },
      "source": [
        "#### _Playground: Type casting_\n",
        "\n",
        "- Create a variable and assign the `\"hey!\"` value to it. Then, try to convert it into an `int` data type. What happens?\n",
        "- What happens if you try to do the exact same thing but the value of the variable is `\"69\"`?"
      ]
    },
    {
      "cell_type": "code",
      "execution_count": null,
      "metadata": {
        "id": "hX_DdzpYrEjm"
      },
      "outputs": [],
      "source": [
        "phrase = \"Oops!\"\n"
      ]
    },
    {
      "attachments": {},
      "cell_type": "markdown",
      "metadata": {},
      "source": [
        "## Boolean values... true or false?\n",
        "\n",
        "The boolean data type (`bool`) is the one that acts on any Python instruction internally, without anyone noticing.\n",
        "\n",
        "Variants of this data type are the literals `True` and `False`.\n",
        "\n",
        "A curious fact about this data type is that any other data type in Python contains it, implicitly. In other words, any data type in Python can be *casted* to `bool`, as can be seen below:"
      ]
    },
    {
      "cell_type": "code",
      "execution_count": null,
      "metadata": {
        "colab": {
          "base_uri": "https://localhost:8080/"
        },
        "id": "ic8oWd8Gdo_L",
        "outputId": "a7a3f0d0-b27a-40db-fbee-cb85a4c15ef0"
      },
      "outputs": [],
      "source": [
        "# Boolean casting for every basic data type in Python:\n",
        "\n",
        "print(\"Boolean value of True: \", bool(True))\n",
        "print(\"Boolean value of False: \", bool(False))\n",
        "\n",
        "print(\"Boolean value of 1: \", bool(1))\n",
        "print(\"Boolean value of 1.2: \", bool(1.2))\n",
        "print(\"Boolean value of 1 + 2j:\", bool(1 + 2j))\n",
        "\n",
        "print(\"Boolean value of 'Hello':\", bool(\"Hello\"))\n",
        "print(\"Boolean value of (1, 2, 3):\", bool((1, 2, 3)))\n",
        "print(\"Boolean value of []:\", bool([]))\n",
        "print(\"Boolean value of {1, 2, 3}:\", bool({1, 2, 3}))\n",
        "print(\"Boolean value of {'key_1': 'value_1'}:\", bool({\"key_1\": \"value_1\"}))\n"
      ]
    },
    {
      "cell_type": "code",
      "execution_count": null,
      "metadata": {
        "id": "tYn7pXnRfZbr"
      },
      "outputs": [],
      "source": [
        "# Wait... what?\n",
        "\n",
        "print(\"Boolean value of the boolean type: \", bool(bool))\n",
        "print(\"Boolean value of a generic boolean value: \", bool(bool()))\n"
      ]
    },
    {
      "attachments": {},
      "cell_type": "markdown",
      "metadata": {
        "id": "El2v0RFbp_D_"
      },
      "source": [
        "### _Exercise 5: Boolean values_\n",
        "\n",
        "Steps:\n",
        "\n",
        "1. Create a variable named `bool_list` that contains the result of casting the list `[]` to `bool`.\n",
        "2. Create a variable named `bool_string` that contains the result of casting the string `\"\"` to `bool`.\n",
        "3. Create a variable named `bool_int` that contains the result of casting the integer `0` to `bool`.\n",
        "4. Create a variable named `bool_float` that contains the result of casting the float `0.0` to `bool`.\n",
        "\n",
        "What do these results mean?\n",
        "\n",
        "- [Click here to open the script in the editor](./exercises/exercise_05.py)\n",
        "- Test the script using `Ctrl + Shift + P` > `Tasks: Run Task` > `Test exercise`"
      ]
    },
    {
      "attachments": {},
      "cell_type": "markdown",
      "metadata": {},
      "source": [
        "## Sequential data types: one thing after another\n",
        "\n",
        "Sequential data types are those that allow storage of a sequence of elements. They have got useful methods for accessing, modifying and deleting elements.\n",
        "\n",
        "Built-in sequential data types in Python include Strings (`str`), Tuples (`tuple`), Lists (`list`), Sets (`set`) and Dictionaries (`dict`):\n",
        "\n",
        "- **Strings**: ordered, mutable sequences of characters.\n",
        "- **Tuples**: ordered, immutable sequences of elements.\n",
        "- **Lists**: ordered, mutable sequences of elements.\n",
        "- **Sets**: unordered, mutable collections of unique elements.\n",
        "- **Dictionaries**: unordered, mutable collections of unique key-value pairs."
      ]
    },
    {
      "cell_type": "code",
      "execution_count": null,
      "metadata": {},
      "outputs": [],
      "source": [
        "# String:\n",
        "\n",
        "string_value = \"Strong string strung in the stream\"\n",
        "\n",
        "# Tuple:\n",
        "\n",
        "tuple_variable = (1, 2, 3)\n",
        "\n",
        "# List:\n",
        "\n",
        "list_variable = [1, 2, 3]\n",
        "\n",
        "# Set:\n",
        "\n",
        "set_variable = {1, 2, 3}\n",
        "\n",
        "# Dictionary:\n",
        "\n",
        "dictionary_variable = {\n",
        "    \"key_1\": \"value_1\",\n",
        "    \"key_2\": \"value_2\",\n",
        "}\n"
      ]
    },
    {
      "attachments": {},
      "cell_type": "markdown",
      "metadata": {
        "id": "OnnQ2dKwoNti"
      },
      "source": [
        "### _Exercise 6: Sequential data types_\n",
        "\n",
        "Steps:\n",
        "\n",
        "1. Create a variable named `my_list` that contains a list with values from `1` to `5` (included).\n",
        "2. Create a variable named `my_set` that contains a set with values from `-2` to `0` (included).\n",
        "3. Create a variable named `my_string` that contains the characters `'a'`, `'b'` and `'c'` together.\n",
        "4. Create a variable named `my_list_2` that contains the split words contained in the phrase `\"I'm learning Python\"`.\n",
        "5. Create a variable named `my_dict` that relates the keys of `\"seconds\"`, `\"minutes\"` and `\"hours\"` with the amount of seconds, minutes and hours that there are in a day (respectively).\n",
        "\n",
        "- [Click here to open the script in the editor](./exercises/exercise_06.py)\n",
        "- Test the script using `Ctrl + Shift + P` > `Tasks: Run Task` > `Test exercise`"
      ]
    },
    {
      "attachments": {},
      "cell_type": "markdown",
      "metadata": {},
      "source": [
        "### Length of a sequence: is it long enough?\n",
        "\n",
        "Knowing the length of a sequence is a very useful tool when working with sequential data types, since it allows to know the number of elements that a sequence contains.\n",
        "\n",
        "The length of **any sequence** can be obtained by using the `len()` function, which will be an integer value. Note that if said function is applied to a non-sequential data type, an error will be raised."
      ]
    },
    {
      "cell_type": "code",
      "execution_count": null,
      "metadata": {},
      "outputs": [],
      "source": [
        "# This is a string:\n",
        "\n",
        "var = \"Hello!\"\n",
        "\n",
        "# Its length can be determined using the `len` method:\n",
        "\n",
        "print(\"Length (amount of characters) of the string: \", len(var))\n"
      ]
    },
    {
      "attachments": {},
      "cell_type": "markdown",
      "metadata": {},
      "source": [
        "### Indices\n",
        "\n",
        "Indices are values that can be used to represent a position in a sequence, such as an integer or a string. In Python, indices start at `0` and end at `n-1`, where `n` is the length of the sequence.\n",
        "\n",
        "Let's take a *string* as an example:"
      ]
    },
    {
      "cell_type": "code",
      "execution_count": null,
      "metadata": {},
      "outputs": [],
      "source": [
        "var = \"I am a sequence\"\n",
        "\n",
        "# Knowing that indices start at `0` and end at `len(value) - 1`:\n",
        "\n",
        "print(\"First character of the string: \", var[0])\n",
        "print(\"Last character of the string: \", var[len(var) - 1])\n",
        "print(\"Some character in the middle: \", var[7])\n",
        "\n",
        "# Negative indices are supported in Python:\n",
        "\n",
        "print(\"Last character of the string: \", var[-1])\n",
        "print(\"Penultimate character of the string: \", var[-2])\n",
        "print(\"Some character in the middle: \", var[-10])\n",
        "print(\"First character of the string: \", var[-len(var)])\n"
      ]
    },
    {
      "attachments": {},
      "cell_type": "markdown",
      "metadata": {
        "id": "zfFHvKQufcr_"
      },
      "source": [
        "### Splices\n",
        "\n",
        "Simply put, splices are ranges of indices that allow access to the elements of a sequence. They can be really useful in case you want to extract a specific part of a sequence. They are expressed in a `[start:stop:step]` format, where:\n",
        "\n",
        "- `start` is the index of the first element to be included in the slice. Defaults to `0`.\n",
        "- `stop` is the index of the penultimate element to be included in the slice (the end itself is excluded). Defaults to the length of the sequence.\n",
        "- `step` is the increment between indices. Defaults to `1`.\n",
        "\n",
        "A key point to take into account is that the first index of a slice is included in the result, while the last one is not. Let's take a look at an example:"
      ]
    },
    {
      "cell_type": "code",
      "execution_count": null,
      "metadata": {},
      "outputs": [],
      "source": [
        "var = \"I am another sequence\"\n",
        "\n",
        "# Examples:\n",
        "\n",
        "print(\"Whole string: \", var[0:len(var)])\n",
        "print(\"First 7 characters: \", var[0:8])  # The last index is not included.\n",
        "print(\"Elements in even positions: \", var[0:len(var):2])\n",
        "\n",
        "# Start, stop and step values can be omitted:\n",
        "\n",
        "print(\"Whole string: \", var[::])\n",
        "print(\"First 7 characters: \", var[:8])\n",
        "print(\"Elements in even positions: \", var[::2])\n"
      ]
    },
    {
      "attachments": {},
      "cell_type": "markdown",
      "metadata": {},
      "source": [
        "### _Exercise 7: Indices and splices_\n",
        "\n",
        "Initial data:\n",
        "\n",
        "- Variable `full_name` with value `\"Don Juan Quintela\"`.\n",
        "\n",
        "Steps:\n",
        "\n",
        "1. Create a variable named `initial` that contains the first letter of the `full_name` variable.\n",
        "2. Create a variable named `middle_name` that contains the middle name of the `full_name` variable.\n",
        "3. Create a variable named `last_name` that contains the last name of the `full_name` variable.\n",
        "\n",
        "- [Click here to open the script in the editor](./exercises/exercise_07.py)\n",
        "- Test the script using `Ctrl + Shift + P` > `Tasks: Run Task` > `Test exercise`"
      ]
    },
    {
      "attachments": {},
      "cell_type": "markdown",
      "metadata": {},
      "source": [
        "### _Exercise 8: Reverse string using splices_\n",
        "\n",
        "Initial data:\n",
        "\n",
        "- Variable `full_name` with value `\"Ubuntu Nativo Molanes\"`.\n",
        "\n",
        "Steps:\n",
        "\n",
        "1. Create a variable named `reversed_name` that contains the `full_name` variable in reverse order **using splices**.\n",
        "\n",
        "- [Click here to open the script in the editor](./exercises/exercise_08.py)\n",
        "- Test the script using `Ctrl + Shift + P` > `Tasks: Run Task` > `Test exercise`"
      ]
    },
    {
      "attachments": {},
      "cell_type": "markdown",
      "metadata": {
        "id": "AXBibNILWogP"
      },
      "source": [
        "## Strings\n",
        "\n",
        "Strings are, probably, one of the most versatile data types in Python, right behind booleans. They allow modifications of almost every kind, from changing from uppercase to lowercase to finding regular expressions."
      ]
    },
    {
      "cell_type": "code",
      "execution_count": null,
      "metadata": {
        "id": "OHOh8N3HXKmt"
      },
      "outputs": [],
      "source": [
        "# Basic string manipulation:\n",
        "\n",
        "string = \"This is definitely NOT Flipped Learning\"\n",
        "\n",
        "# Conversion to lowercase:\n",
        "\n",
        "print(\"Lowercase: \", string.lower())\n",
        "\n",
        "# Conversion to uppercase:\n",
        "\n",
        "print(\"Uppercase: \", string.upper())\n",
        "\n",
        "# Capitalize the leading character of the string:\n",
        "\n",
        "print(\"Capitalize: \", string.capitalize())\n",
        "\n",
        "# Capitalize the leading character of the each word in the string:\n",
        "\n",
        "print(\"Title: \", string.title())\n",
        "\n",
        "# Swap upper and lower case characters:\n",
        "\n",
        "print(\"Swap: \", string.swapcase())\n"
      ]
    },
    {
      "cell_type": "code",
      "execution_count": null,
      "metadata": {
        "id": "qLunIOy4Y7dP"
      },
      "outputs": [],
      "source": [
        "# Advanced string manipulation:\n",
        "\n",
        "string = \"    Lorem ipsum dolor sit down and pay attention    \"\n",
        "\n",
        "# Find a substring in the string:\n",
        "\n",
        "print(\"Finding \\\"sit down\\\" position: \", string.find(\"sit down\"))\n",
        "\n",
        "# Replace a substring with another substring:\n",
        "\n",
        "print(\"Replacing spaces with underscores: \", string.replace(' ', '_'))\n",
        "\n",
        "# Removing leading and trailing whitespace in the string:\n",
        "\n",
        "print(\"Removing leading and trailing whitespace: \", string.strip())\n"
      ]
    },
    {
      "attachments": {},
      "cell_type": "markdown",
      "metadata": {},
      "source": [
        "### _Exercise 9: String manipulation_\n",
        "\n",
        "Initial data:\n",
        "\n",
        "- Variable `full_name` with value `\"   Jijiji Baamonde   \"`.\n",
        "\n",
        "Steps:\n",
        "\n",
        "1. Remove the spaces at the beginning and end of the `full_name` variable.\n",
        "2. Convert the `full_name` variable to uppercase.\n",
        "3. Store the position of the first occurrence of the letter `\"A\"` in the `full_name` variable in a variable named `first_a`.\n",
        "\n",
        "- [Click here to open the script in the editor](./exercises/exercise_09.py)\n",
        "- Test the script using `Ctrl + Shift + P` > `Tasks: Run Task` > `Test exercise`"
      ]
    },
    {
      "attachments": {},
      "cell_type": "markdown",
      "metadata": {
        "id": "aXINHotfgDpf"
      },
      "source": [
        "## Lists\n",
        "\n",
        "Lists allow concatenating a series of elements, accessing them and modifying them with total freedom, they are **ordered**, **mutable** structures."
      ]
    },
    {
      "cell_type": "code",
      "execution_count": null,
      "metadata": {
        "id": "HzAZNACagUoJ"
      },
      "outputs": [],
      "source": [
        "# List methods:\n",
        "\n",
        "my_list = [3, 2, 1, ['a', 'b']]\n",
        "\n",
        "# List length:\n",
        "\n",
        "print(\"List length: \", len(my_list))\n",
        "print(\"Length of the last item in the list: \", len(my_list[-1]), end=\"\\n\\n\")\n",
        "\n",
        "# Single item addition:\n",
        "\n",
        "print(\"List before append: \", my_list)\n",
        "my_list.append(\"hello\")\n",
        "print(\"List after append: \", my_list, end=\"\\n\\n\")\n",
        "\n",
        "# Multiple item addition:\n",
        "\n",
        "print(\"List before extend: \", my_list)\n",
        "my_list.extend([\"how\", \"are\", \"you\"])\n",
        "print(\"List after extend: \", my_list, end=\"\\n\\n\")\n",
        "\n",
        "# Item removal:\n",
        "\n",
        "print(\"Base list: \", my_list)\n",
        "my_list.pop()\n",
        "print(\"Last element removed: \", my_list)\n",
        "my_list.pop(len(my_list) // 2)\n",
        "print(\"Middle element removed: \", my_list, end=\"\\n\\n\")\n",
        "\n",
        "# Count number of items in list:\n",
        "\n",
        "print(\"How many 2s are in the list? There is \", my_list.count(2), end=\"\\n\\n\")\n",
        "\n",
        "# Reverse list contents:\n",
        "\n",
        "print(\"List before reverse: \", my_list)\n",
        "my_list.reverse()\n",
        "print(\"List after reverse: \", my_list, end=\"\\n\\n\")\n",
        "\n",
        "# List contents' wipe:\n",
        "\n",
        "print(\"List before clear: \", my_list)\n",
        "my_list.clear()\n",
        "print(\"List after clear: \", my_list)\n"
      ]
    },
    {
      "attachments": {},
      "cell_type": "markdown",
      "metadata": {
        "id": "X5vDXmythC8x"
      },
      "source": [
        "#### _Exercise 10: List copy_\n",
        "\n",
        "Initial data:\n",
        "\n",
        "- Variable `list_1` with value `[\"a\", \"b\", \"c\"]`.\n",
        "\n",
        "Steps:\n",
        "\n",
        "1. Create a variable named `list_2` that **copies** the elements of the `list_1` variable. If `list_2` is modified, `list_1` should not be modified.\n",
        "\n",
        "- [Click here to open the script in the editor](./exercises/exercise_10.py)\n",
        "- Test the script using `Ctrl + Shift + P` > `Tasks: Run Task` > `Test exercise`"
      ]
    },
    {
      "attachments": {},
      "cell_type": "markdown",
      "metadata": {
        "id": "BBSFyKFQkHwc"
      },
      "source": [
        "#### _Exercise 11: List sorting_\n",
        "\n",
        "Initial data:\n",
        "\n",
        "- Variable `list_1` with value `[7, 4, -1, 2, 0]`.\n",
        "\n",
        "Steps:\n",
        "\n",
        "1. Sort the elements of the `list_1` variable in ascending order.\n",
        "\n",
        "- [Click here to open the script in the editor](./exercises/exercise_11.py)\n",
        "- Test the script using `Ctrl + Shift + P` > `Tasks: Run Task` > `Test exercise`"
      ]
    },
    {
      "attachments": {},
      "cell_type": "markdown",
      "metadata": {
        "id": "Ybv_UgZp6SGA"
      },
      "source": [
        "## Tuples\n",
        "\n",
        "Tuples allow concatenating and accessing a series of elements, but they do not allow modifications, they are **ordered**, **immutable** structures."
      ]
    },
    {
      "cell_type": "code",
      "execution_count": null,
      "metadata": {
        "tags": []
      },
      "outputs": [],
      "source": [
        "# Empty tuple:\n",
        "\n",
        "my_tuple = ()\n",
        "\n",
        "# Tuple with one element:\n",
        "\n",
        "my_tuple = (1,)  # Note the comma!\n",
        "\n",
        "# Tuple with multiple elements:\n",
        "\n",
        "my_tuple = (1, 2, 3)\n"
      ]
    },
    {
      "cell_type": "code",
      "execution_count": null,
      "metadata": {},
      "outputs": [],
      "source": [
        "my_tuple = (1, 2, 3)\n",
        "\n",
        "# Indexing:\n",
        "\n",
        "my_tuple[0]  # First element.\n",
        "my_tuple[-1]  # Last element.\n",
        "my_tuple[1:3]  # Elements from index 1 to 2.\n",
        "\n",
        "# Modifications are not allowed in tuples.\n"
      ]
    },
    {
      "attachments": {},
      "cell_type": "markdown",
      "metadata": {},
      "source": [
        "### _Exercise 12: Tuple count_\n",
        "\n",
        "Initial data:\n",
        "\n",
        "- Variable `tuple_1` with value `(1, 1, 2, 3, 4, 5, 5, 5, 6)`.\n",
        "\n",
        "Steps:\n",
        "\n",
        "1. Count the number of times the number `5` appears in the `tuple_1` variable and save the result to the `count` variable.\n",
        "\n",
        "- [Click here to open the script in the editor](./exercises/exercise_12.py)\n",
        "- Test the script using `Ctrl + Shift + P` > `Tasks: Run Task` > `Test exercise`"
      ]
    },
    {
      "attachments": {},
      "cell_type": "markdown",
      "metadata": {
        "id": "MiHIYdZ96qvQ"
      },
      "source": [
        "## Dictionaries\n",
        "\n",
        "Dictionaries allow classifying series of key-value pairs, accessing them and modifying them with total freedom, they are **unordered**, **mutable** structures.\n",
        "\n",
        "It is always important to keep in mind that the data types used as dictionary keys must be immutable, that is, their elements cannot be modified. This is the case of integers, floats, complex numbers, strings and tuples. Lists cannot be used as dictionary keys. Furthermore, dictionaries do not allow repeated keys. If a key is repeated, the value associated with it will be overwritten with the last key definition.\n",
        " \n",
        "The values of a dictionary are not accessible through indices, as it happens with lists, tuples or strings. In this case, between the brackets should go the name of the key related to the value that is wanted to be found."
      ]
    },
    {
      "cell_type": "code",
      "execution_count": null,
      "metadata": {
        "colab": {
          "base_uri": "https://localhost:8080/"
        },
        "id": "0yHek5Dd7CeP",
        "outputId": "0b83779d-ba76-49bd-99ca-c9669ac466fb"
      },
      "outputs": [],
      "source": [
        "# Empty dictionary:\n",
        "\n",
        "my_dict = {}\n",
        "\n",
        "# Dictionary with one key-value pair:\n",
        "\n",
        "my_dict = {\n",
        "    \"key\": \"value\"\n",
        "}\n",
        "\n",
        "# Dictionary with multiple key-value pairs:\n",
        "\n",
        "my_dict = {\n",
        "    \"key_1\": \"value_1\",\n",
        "    \"key_2\": \"value_2\",\n",
        "    \"key_3\": \"value_3\"\n",
        "}\n"
      ]
    },
    {
      "cell_type": "code",
      "execution_count": null,
      "metadata": {},
      "outputs": [],
      "source": [
        "my_dict = {\n",
        "    \"key1\": \"value_1\",\n",
        "    \"key2\": \"value_2\",\n",
        "    \"key3\": \"value_3\"\n",
        "}\n",
        "\n",
        "# Indexing (using keywords):\n",
        "\n",
        "my_dict[\"key1\"]  # First element.\n",
        "my_dict[\"key3\"]  # Last element.\n",
        "\n",
        "# Modification (using keywords):\n",
        "\n",
        "my_dict[\"key1\"] = \"new_value_1\"\n"
      ]
    },
    {
      "attachments": {},
      "cell_type": "markdown",
      "metadata": {},
      "source": [
        "> Remember to create a pull request for branch `data-types`\n",
        "\n",
        "# Navigation\n",
        "\n",
        "- **Previous lesson**: [Introduction](../introduction.ipynb)\n",
        "- **Next lesson**: [Operators](../operators/theory.ipynb)"
      ]
    }
  ],
  "metadata": {
    "colab": {
      "collapsed_sections": [],
      "provenance": []
    },
    "kernelspec": {
      "display_name": "Python 3",
      "language": "python",
      "name": "python3"
    },
    "language_info": {
      "codemirror_mode": {
        "name": "ipython",
        "version": 3
      },
      "file_extension": ".py",
      "mimetype": "text/x-python",
      "name": "python",
      "nbconvert_exporter": "python",
      "pygments_lexer": "ipython3",
      "version": "3.11.1"
    },
    "vscode": {
      "interpreter": {
        "hash": "5238573367df39f7286bb46f9ff5f08f63a01a80960060ce41e3c79b190280fa"
      }
    }
  },
  "nbformat": 4,
  "nbformat_minor": 0
}
