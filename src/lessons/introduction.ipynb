{
  "cells": [
    {
      "attachments": {},
      "cell_type": "markdown",
      "metadata": {},
      "source": [
        "# Introduction\n",
        "\n",
        "Welcome to the introduction for the Python Programming course!\n",
        "\n",
        "The course consists on several lessons with an estimated explanation and completion time of about 4 hours per class. It will take you through the fundamental bases of Python programming. Ideally, at the end of the course, a basic-intermediate level of Python programming can be achieved."
      ]
    },
    {
      "attachments": {},
      "cell_type": "markdown",
      "metadata": {
        "id": "fa0IqaRlUL0P"
      },
      "source": [
        "## What is Python?\n",
        "\n",
        "Python is an interpreted, high-level, object-oriented, multi-purpose programming language. It has got a wide variety of applications and functionality extensions."
      ]
    },
    {
      "attachments": {},
      "cell_type": "markdown",
      "metadata": {},
      "source": [
        "## Where to develop and execute Python code?\n",
        "\n",
        "Python can be developed and executed in multiple environments, from a simple notepad and a command line to a full-featured IDE.\n",
        "\n",
        "Following the introduction of this course, it will be assumed that you will use the Visual Studio Code editor for developing and executing Python code."
      ]
    },
    {
      "cell_type": "code",
      "execution_count": 2,
      "metadata": {
        "id": "no-CxxrzUz_O"
      },
      "outputs": [
        {
          "name": "stdout",
          "output_type": "stream",
          "text": [
            "Hello, World!\n"
          ]
        }
      ],
      "source": [
        "# This is a comment. It will not be executed when the program runs.\n",
        "# Comments begin with a hash symbol (#) and continue to the end of the line.\n",
        "# They can be used to explain code statements, but too many comments can be misleading.\n",
        "\n",
        "# Click the \"Run\" button above to execute the code in this cell.\n",
        "# You should see the text \"Hello, World!\" printed to the console.\n",
        "\n",
        "print(\"Hello, World!\")  # This statement prints text to the console."
      ]
    },
    {
      "attachments": {},
      "cell_type": "markdown",
      "metadata": {
        "id": "GAtxOuy2OS5T"
      },
      "source": [
        "### *Playground: Printing data to screen*\n",
        "\n",
        "Explore the editor and develop a simple Python program that prints some text to the screen.\n",
        "\n",
        "Use the black box below to develop your code. You can execute the code by pressing the \"Run\" button or by pressing Ctrl+Enter."
      ]
    },
    {
      "cell_type": "code",
      "execution_count": null,
      "metadata": {},
      "outputs": [],
      "source": []
    },
    {
      "attachments": {},
      "cell_type": "markdown",
      "metadata": {},
      "source": [
        "# Navigation\n",
        "\n",
        "- **Next lesson**: [Data types](./data-types/theory.ipynb)"
      ]
    }
  ],
  "metadata": {
    "colab": {
      "collapsed_sections": [],
      "provenance": []
    },
    "kernelspec": {
      "display_name": "Python 3",
      "language": "python",
      "name": "python3"
    },
    "language_info": {
      "codemirror_mode": {
        "name": "ipython",
        "version": 3
      },
      "file_extension": ".py",
      "mimetype": "text/x-python",
      "name": "python",
      "nbconvert_exporter": "python",
      "pygments_lexer": "ipython3",
      "version": "3.11.1"
    },
    "vscode": {
      "interpreter": {
        "hash": "5238573367df39f7286bb46f9ff5f08f63a01a80960060ce41e3c79b190280fa"
      }
    }
  },
  "nbformat": 4,
  "nbformat_minor": 0
}
