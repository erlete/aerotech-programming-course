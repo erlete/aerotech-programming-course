{
  "cells": [
    {
      "attachments": {},
      "cell_type": "markdown",
      "metadata": {
        "id": "1qhIr4_eIcWO"
      },
      "source": [
        "> Remember to create a branch named `classes`\n",
        "\n",
        "# Classes\n",
        "\n",
        "**Instance**: individual and specific generation of a class.\n",
        "\n",
        "Classes are the main element of Python programming. Objects are instances of a class, being able to have specific values for its components, which allows object identification.\n",
        "\n",
        "In fact, each element in Python is an object (even classes themselves!)."
      ]
    },
    {
      "attachments": {},
      "cell_type": "markdown",
      "metadata": {
        "id": "BtYd_VPjsdfL"
      },
      "source": [
        "## Inanimate elements: attributes\n",
        "\n",
        "Attributes are variables linked to an instance of a class. They work like any normal variable, only that they contain a reference to the object itself that allows to operate internally with them.\n",
        "\n",
        "This reference is, specifically, the word `self`. As can be deduced, such a reference indicates that everything that is linked to it will be related internally with the class to which it points."
      ]
    },
    {
      "attachments": {},
      "cell_type": "markdown",
      "metadata": {
        "id": "ZAlj9cKHIfsG"
      },
      "source": [
        "## Animate elements: methods\n",
        "\n",
        "Methods of a class are normal and ordinary functions that can act internally in the same class, leaving their access restricted from outside.\n",
        "\n",
        "Just like attributes, they contain a reference to the class, which is specified as the first argument to any instance method, `self`."
      ]
    },
    {
      "attachments": {},
      "cell_type": "markdown",
      "metadata": {
        "id": "ACS12vgvswhM"
      },
      "source": [
        "### Class constructor: from the ground up\n",
        "\n",
        "The constructor is a fundamental function or method for each class. It allows to generate instances of the same with specific values that can be passed as arguments. The amount of arguments that can be passed to the class call is the same as the number of arguments that the constructor receives minus one (the `self` argument is only used internally).\n",
        "\n",
        "Do not be afraid of the name, it is a very simple function with a _suuuuuuper_ predictable behavior."
      ]
    },
    {
      "cell_type": "code",
      "execution_count": null,
      "metadata": {},
      "outputs": [],
      "source": [
        "# Basic class example 1:\n",
        "\n",
        "# Class definition:\n",
        "\n",
        "class Drone:\n",
        "\n",
        "    def __init__(self):  # Constructor method.\n",
        "        self.color = \"red\"  # Predefined attributes.\n",
        "        self.rotor_count = 4\n",
        "\n",
        "# Class instantiation:\n",
        "\n",
        "my_drone = Drone()  # This calls the constructor method.\n",
        "\n",
        "print(f\"Class: {Drone}\")\n",
        "print(f\"Instance: {my_drone}\")\n",
        "\n",
        "print(f\"Drone color: {my_drone.color}\")\n",
        "print(f\"Drone rotor count: {my_drone.rotor_count}\")\n"
      ]
    },
    {
      "cell_type": "code",
      "execution_count": null,
      "metadata": {},
      "outputs": [],
      "source": [
        "# Basic class example 2:\n",
        "\n",
        "class Drone:\n",
        "\n",
        "    def __init__(self, color, rotor_count):\n",
        "        self.color = color  # Dynamically defined attributes.\n",
        "        self.rotor_count = rotor_count\n",
        "\n",
        "\n",
        "my_drone = Drone(\"blue\", 4)  # The constructor now accepts arguments.\n",
        "\n",
        "print(f\"Instance: {my_drone}\")\n",
        "print(f\"Drone color: {my_drone.color}\")\n",
        "print(f\"Drone rotor count: {my_drone.rotor_count}\")\n"
      ]
    },
    {
      "attachments": {},
      "cell_type": "markdown",
      "metadata": {
        "id": "q2uvqKvhJLLV"
      },
      "source": [
        "### User-defined methods\n",
        "\n",
        "User-defined methods are all those functionalities implemented manually by the user, which contain a custom routine. Once again, they are still methods, so the definition of the function is nothing out of the ordinary."
      ]
    },
    {
      "cell_type": "code",
      "execution_count": null,
      "metadata": {},
      "outputs": [],
      "source": [
        "# Basic class example 3:\n",
        "\n",
        "class Drone:\n",
        "\n",
        "    def __init__(self, color, rotor_count):\n",
        "        self.color = color\n",
        "        self.rotor_count = rotor_count\n",
        "\n",
        "    def fly(self):  # Custom method.\n",
        "        print(\"Flying...\")\n",
        "\n",
        "\n",
        "my_drone = Drone(\"blue\", 4)\n",
        "\n",
        "print(f\"Instance: {my_drone}\")\n",
        "print(f\"Drone color: {my_drone.color}\")\n",
        "print(f\"Drone rotor count: {my_drone.rotor_count}\")\n",
        "\n",
        "for _ in range(3):\n",
        "    my_drone.fly()\n"
      ]
    },
    {
      "attachments": {},
      "cell_type": "markdown",
      "metadata": {
        "id": "POOEAcmfJQGV"
      },
      "source": [
        "### Magic methods\n",
        "\n",
        "Magic methods are special routines that allow the class to interact with basic Python structures, such as the `len` function, operations on elements and even its representation on screen.\n",
        "\n",
        "Such methods are defined encapsulated between two underscores (`__`). In case you are wondering... yes: the constructor is a magic method!"
      ]
    },
    {
      "cell_type": "code",
      "execution_count": null,
      "metadata": {},
      "outputs": [],
      "source": [
        "# Basic class example 4:\n",
        "\n",
        "class Drone:\n",
        "\n",
        "    def __init__(self, color, rotor_count):\n",
        "        self.color = color\n",
        "        self.rotor_count = rotor_count\n",
        "\n",
        "    def fly(self):\n",
        "        print(\"Flying...\")\n",
        "\n",
        "    def __str__(self):  # Magic method.\n",
        "        return f\"{self.color.title()} drone with {self.rotor_count} rotors\"\n",
        "\n",
        "\n",
        "my_drone = Drone(\"blue\", 4)\n",
        "\n",
        "print(f\"Instance: {my_drone}\")\n",
        "print(f\"Drone color: {my_drone.color}\")\n",
        "print(f\"Drone rotor_count: {my_drone.rotor_count}\")\n"
      ]
    },
    {
      "attachments": {},
      "cell_type": "markdown",
      "metadata": {},
      "source": [
        "### _Exercise 22: Class creation_\n",
        "\n",
        "Steps:\n",
        "\n",
        "1. Create a class `Coordinate` that accepts two arguments during instantiation, `x` and `y`. Link them to two attributes of the class with the same names.\n",
        "\n",
        "- [Click here to open the script in the editor](./exercises/exercise_22.py)\n",
        "- Test the script using `Ctrl + Shift + P` > `Tasks: Run Task` > `Test exercise`"
      ]
    },
    {
      "attachments": {},
      "cell_type": "markdown",
      "metadata": {
        "id": "T-nW8msnJTGF"
      },
      "source": [
        "## Attribute and method display\n",
        "\n",
        "It has been said that all elements in Python are instances of a class. This means that all objects have specific attributes and methods that can be accessed by the user. All the attributes and methods of a class can be visualized using the `dir` method. For example, `dir(Drone)` displays all the attributes and methods of the `Drone` class. The same can be done with any object, such as `dir(my_drone)`.\n",
        "\n",
        "This function also works with modules and packages, which will be explained in the following lessons, so keep it in mind!"
      ]
    },
    {
      "cell_type": "code",
      "execution_count": null,
      "metadata": {},
      "outputs": [],
      "source": [
        "# Method visualization:\n",
        "\n",
        "class Drone:\n",
        "\n",
        "    def __init__(self, color, rotor_count):\n",
        "        self.color = color\n",
        "        self.rotor_count = rotor_count\n",
        "\n",
        "    def fly(self):\n",
        "        print(\"Flying...\")\n",
        "\n",
        "    def __len__(self):\n",
        "        return self.rotor_count\n",
        "\n",
        "\n",
        "my_drone = Drone(\"blue\", 3)\n",
        "\n",
        "print(f\"Attributes and methods of the class: {dir(Drone)}\")\n",
        "print(f\"Attributes and methods of the instance: {dir(my_drone)}\")\n",
        "\n",
        "# Note that the instance has got `color` and `rotor_count` attributes, while\n",
        "#   the class itself has not. This is because the attributes are defined in the\n",
        "#   constructor method, which is called when the instance is created.\n"
      ]
    },
    {
      "attachments": {},
      "cell_type": "markdown",
      "metadata": {},
      "source": [
        "### *Playground: Listing attributes and methods of the string class*\n",
        "\n",
        "Explore the functionality of the `dir` method and display all attributes and methods of the string class.\n",
        "\n",
        "Use the black box below to develop your code. You can execute the code by pressing the \"Run\" button or by pressing Ctrl+Enter."
      ]
    },
    {
      "cell_type": "code",
      "execution_count": null,
      "metadata": {},
      "outputs": [],
      "source": []
    },
    {
      "attachments": {},
      "cell_type": "markdown",
      "metadata": {
        "id": "lgPTvEC83m0W"
      },
      "source": [
        "## Attribute and method visibility\n",
        "\n",
        "Python does not provide with access levels (other languages, such as Java, do). However, there is a certain functionality and convention that establishes how to define an attribute or method of a class to denote that it should not be accessible by the user.\n",
        "\n",
        "There are three levels of privatization, depending on the number of underscores that precede the name of the attribute or method that is defined:\n",
        "\n",
        "- **Public**: no underscore (*i.e. `fly`*). Should be accessible inside and outside the class.\n",
        "- **Protected**: one underscore (*i.e. `_bounce`*). Should be accessible outside the class, but not publicly used.\n",
        "- **Private**: two underscores (*i.e. `__bounce`*). Should be used only inside the class.\n",
        "\n",
        "Note that these underscores are only located before the name of the attribute or method, not after it. This allows distinguishing between the protected/private methods and magic ones."
      ]
    },
    {
      "attachments": {},
      "cell_type": "markdown",
      "metadata": {},
      "source": [
        "### _Exercise 23: Attribute visibility_\n",
        "\n",
        "Steps:\n",
        "\n",
        "1. Find information about how to access each attribute type in Python.\n",
        "2. Create a class `Car` that implements three attributes: `color`, `license_plate` and `vin_number`. **They should be public, protected and private, respectively**.\n",
        "3. Create a car instance that gets `\"red\"` as color, `\"1234ABCD\"` as license plate and `12340987` as VIN number.\n",
        "4. Create three variables (`ext_color`, `ext_license_plate` and `ext_vin_number`) that store the values of the attributes of **the car instance**.\n",
        "\n",
        "- [Click here to open the script in the editor](./exercises/exercise_23.py)\n",
        "- Test the script using `Ctrl + Shift + P` > `Tasks: Run Task` > `Test exercise`"
      ]
    },
    {
      "attachments": {},
      "cell_type": "markdown",
      "metadata": {
        "id": "x1W1BVL-PqPQ"
      },
      "source": [
        "## Decorators\n",
        "\n",
        "Decorators are functions that receive another function as an argument. In this course they will not be covered in depth due to the complexity they can add, but a couple of very basic examples of the same will be used that allow to structure the classes in a more organized way.\n",
        "\n",
        "Decorators are used by adding a `@decorator_function` syntax on to of the definition of the function to be decorated. The decorator function receives as an argument the function to be decorated, and returns the decorated function."
      ]
    },
    {
      "attachments": {},
      "cell_type": "markdown",
      "metadata": {
        "id": "a8QPiK_QPvPP"
      },
      "source": [
        "### Getters\n",
        "\n",
        "Getters are special methods that are used to extract the information of protected/private attributes in a controlled way. They are defined using the `@property` decorator on top of the function definition. Said function **must not accept any arguments** apart from the `self` reference. It should be named as the protected/private attribute it is used to retrieve, but without any underscores. They should return the value of the attribute, with all required modifications (if any)."
      ]
    },
    {
      "cell_type": "code",
      "execution_count": null,
      "metadata": {},
      "outputs": [],
      "source": [
        "# Getter definition:\n",
        "\n",
        "class Drone:\n",
        "\n",
        "    def __init__(self, color, rotor_count):\n",
        "        self._color = color\n",
        "        self._rotor_count = rotor_count\n",
        "\n",
        "    @property  # This indicates that the method is a getter.\n",
        "    def color(self):  # This defines the getter.\n",
        "        return self._color  # Returns the value of the protected attribute.\n",
        "\n",
        "    def fly(self):\n",
        "        print(\"Flying...\")\n",
        "\n",
        "    def __len__(self):\n",
        "        return self._rotor_count\n"
      ]
    },
    {
      "attachments": {},
      "cell_type": "markdown",
      "metadata": {
        "id": "w8vShhMQQluw"
      },
      "source": [
        "### Setters\n",
        "\n",
        "Setters are another variant of special methods that are used to set the information of protected/private attributes in a controlled way (i.e. performing data type checks before the assignation). They are defined using the `@getter_name.setter` decorator on top of the function definition. Note that setters cannot exist without getters, since their decorator is named after the getter. Said function **must accept one argument** apart from the `self` reference. Said argument is the value to be assigned to the attribute. The name of the argument does not really matter."
      ]
    },
    {
      "cell_type": "code",
      "execution_count": null,
      "metadata": {},
      "outputs": [],
      "source": [
        "# Setter definition:\n",
        "\n",
        "class Drone:\n",
        "\n",
        "    def __init__(self, color, rotor_count):\n",
        "        self._color = color\n",
        "        self._rotor_count = rotor_count\n",
        "\n",
        "    @property\n",
        "    def color(self):\n",
        "        return self._color\n",
        "\n",
        "    @color.setter  # This indicates that the method is a setter.\n",
        "    def color(self, value):  # The value argument is the new attribute value.\n",
        "        # Type check:\n",
        "        if not isinstance(value, str):\n",
        "            raise TypeError(\"the value must be a `str` type.\")\n",
        "\n",
        "        self._color = value  # Assigns the value to the protected attribute.\n",
        "\n",
        "    def fly(self):\n",
        "        print(\"Flying...\")\n",
        "\n",
        "    def __len__(self):\n",
        "        return self._rotor_count\n"
      ]
    },
    {
      "cell_type": "code",
      "execution_count": null,
      "metadata": {},
      "outputs": [],
      "source": [
        "# Attribute modification:\n",
        "\n",
        "# Class definition:\n",
        "\n",
        "class Drone:\n",
        "\n",
        "    def __init__(self, color, rotor_count):\n",
        "        self._color = color\n",
        "        self._rotor_count = rotor_count\n",
        "\n",
        "    @property\n",
        "    def color(self):\n",
        "        return self._color\n",
        "\n",
        "    @color.setter\n",
        "    def color(self, value):\n",
        "        if not isinstance(value, str):\n",
        "          raise TypeError(\"the value must be a `str` type.\")\n",
        "\n",
        "        self._color = value\n",
        "\n",
        "# Class instantiation:\n",
        "\n",
        "my_drone = Drone(\"red\", 4)\n",
        "\n",
        "print(\"Color: \", my_drone.color)\n",
        "print(\"Rotor count: \", my_drone._rotor_count)\n",
        "\n",
        "my_drone.color = \"blue\"\n",
        "\n",
        "print(\"Color: \", my_drone.color)\n",
        "print(\"Rotor count: \", my_drone._rotor_count)\n",
        "\n",
        "my_drone.color = 1  # This raises an exception.\n"
      ]
    },
    {
      "attachments": {},
      "cell_type": "markdown",
      "metadata": {},
      "source": [
        "## _Exercise 24: Advanced class_\n",
        "\n",
        "Steps:\n",
        "\n",
        "1. Create a `Coordinate` class with two attributes: `x` and `y`.\n",
        "2. Implement **getter** and **setter** methods for both `x` and `y` attributes. The getter method should **always return a float**. The setter methods should check that the value passed as argument is an integer or float. If not, they must raise a `TypeError` exception. \n",
        "3. Implement a `distance_to_origin` method that does not accept any arguments (apart from `self`) and returns the distance of the coordinate to the origin.\n",
        "4. Implement addition and subtraction **magic methods** that allow operations between coordinate instances using the `+` and `-` operators.\n",
        "5. (Optional) If the last step seems easy to you, implement **all arithmetic, comparison and logical operator methods**, as well as `__len__`, `__hash__`, `__iter__`, `__repr__` and `__str__` methods.\n",
        "\n",
        "- [Click here to open the script in the editor](./exercises/exercise_24.py)\n",
        "- Test the script using `Ctrl + Shift + P` > `Tasks: Run Task` > `Test exercise`"
      ]
    },
    {
      "attachments": {},
      "cell_type": "markdown",
      "metadata": {
        "id": "r-Rz_VPURUv3"
      },
      "source": [
        "## Class inheritance\n",
        "\n",
        "Since Python is a object-oriented language, based on classes, it also provides with all the functionalities included in said paradigm.\n",
        "\n",
        "Generally, it is a good practice to define a class with an interface structure so that another class with specific functionalities can inherit from it."
      ]
    },
    {
      "cell_type": "code",
      "execution_count": null,
      "metadata": {},
      "outputs": [],
      "source": [
        "class FileReader:\n",
        "    \"\"\"File reader base class.\n",
        "\n",
        "    This class serves as a base class for specific file readers. It provides\n",
        "    with some attributes for file path and encoding, and a method to read the\n",
        "    file contents.\n",
        "\n",
        "    Attributes:\n",
        "        path (str): file path.\n",
        "        encoding (str): file encoding.\n",
        "        data (str): file contents as text.\n",
        "        EXTENSION (str): file extension.\n",
        "    \"\"\"\n",
        "\n",
        "    EXTENSION = None\n",
        "\n",
        "    def __init__(self, path, encoding):\n",
        "        \"\"\"Initialize a FileReader instance.\n",
        "\n",
        "        Args:\n",
        "            path (str): file path.\n",
        "            encoding (str): file encoding.\n",
        "        \"\"\"\n",
        "        self.path = path\n",
        "        self._check_extension()\n",
        "        self.encoding = encoding\n",
        "        self._data = None\n",
        "\n",
        "    @property\n",
        "    def path(self):\n",
        "        \"\"\"Get file path.\n",
        "\n",
        "        Returns:\n",
        "            str: file path.\n",
        "        \"\"\"\n",
        "        return self._path\n",
        "\n",
        "    @path.setter\n",
        "    def path(self, value):\n",
        "        \"\"\"Set file path.\n",
        "\n",
        "        Args:\n",
        "            value (str): file path.\n",
        "        \"\"\"\n",
        "        if not isinstance(value, str):\n",
        "            raise TypeError(\n",
        "                \"expected type str for\"\n",
        "                + f\" {self.__class__.__name__}.path but got\"\n",
        "                + f\" {type(value).__name__} instead\"\n",
        "            )\n",
        "\n",
        "        self._path = value\n",
        "\n",
        "    @property\n",
        "    def encoding(self):\n",
        "        \"\"\"Get file encoding.\n",
        "\n",
        "        Returns:\n",
        "            str: file encoding.\n",
        "        \"\"\"\n",
        "        return self._encoding\n",
        "\n",
        "    @encoding.setter\n",
        "    def encoding(self, value):\n",
        "        \"\"\"Set file encoding.\n",
        "\n",
        "        Args:\n",
        "            value (str): file encoding.\n",
        "        \"\"\"\n",
        "        if not isinstance(value, str):\n",
        "            raise TypeError(\n",
        "                \"expected type str for\"\n",
        "                + f\" {self.__class__.__name__}.encoding but got\"\n",
        "                + f\" {type(value).__name__} instead\"\n",
        "            )\n",
        "\n",
        "        self._encoding = value\n",
        "\n",
        "    @property\n",
        "    def data(self):\n",
        "        \"\"\"Get file contents.\n",
        "\n",
        "        Returns:\n",
        "            str: file contents as text.\n",
        "        \"\"\"\n",
        "        if self._data is None:\n",
        "            self._data = self.read()\n",
        "\n",
        "        return self._data\n",
        "\n",
        "    def _check_extension(self):\n",
        "        \"\"\"Check file extension.\"\"\"\n",
        "        if not self._path.lower().endswith(self.EXTENSION):\n",
        "            raise ValueError(\n",
        "                f\"expected file extension {self.EXTENSION} for\"\n",
        "                + f\" {self.__class__.__name__}.path but got\"\n",
        "                + f\" {self._path.split('.')[-1]} instead\"\n",
        "            )\n",
        "\n",
        "    def read(self):\n",
        "        \"\"\"Read file contents.\n",
        "\n",
        "        Returns:\n",
        "            str: file contents as text.\n",
        "        \"\"\"\n",
        "        pass\n",
        "\n",
        "\n",
        "class MDReader(FileReader):\n",
        "    \"\"\"Markdown file reader.\n",
        "\n",
        "    Attributes:\n",
        "        path (str): file path.\n",
        "        encoding (str): file encoding.\n",
        "        data (str): file contents as text.\n",
        "    \"\"\"\n",
        "\n",
        "    EXTENSION = \"md\"\n",
        "\n",
        "    def __init__(self, path, encoding):\n",
        "        \"\"\"Initialize a MDReader instance.\n",
        "\n",
        "        Args:\n",
        "            path (str): file path.\n",
        "            encoding (str): file encoding.\n",
        "        \"\"\"\n",
        "        super().__init__(path, encoding)\n",
        "\n",
        "    def read(self):\n",
        "        \"\"\"Read file contents.\n",
        "\n",
        "        Returns:\n",
        "            str: file contents as text.\n",
        "        \"\"\"\n",
        "        with open(self.path, mode=\"r\", encoding=self.encoding) as fp:\n",
        "            data = fp.read().title()\n",
        "\n",
        "        return data\n",
        "\n",
        "\n",
        "# Example:\n",
        "\n",
        "md_reader = MDReader(\"../README.md\", \"utf-8\")\n",
        "print(md_reader.data)\n",
        "\n",
        "md_reader = MDReader(\"theory.ipynb\", \"utf-8\")  # This raises an exception.\n"
      ]
    },
    {
      "attachments": {},
      "cell_type": "markdown",
      "metadata": {},
      "source": [
        "> Remember to create a pull request for branch `classes`\n",
        "\n",
        "# Navigation\n",
        "\n",
        "- **Previous lesson**: [Functions](../functions/theory.ipynb)\n",
        "- **Next lesson**: [Exceptions](../exceptions/theory.ipynb)"
      ]
    }
  ],
  "metadata": {
    "colab": {
      "collapsed_sections": [],
      "provenance": []
    },
    "kernelspec": {
      "display_name": "Python 3",
      "language": "python",
      "name": "python3"
    },
    "language_info": {
      "codemirror_mode": {
        "name": "ipython",
        "version": 3
      },
      "file_extension": ".py",
      "mimetype": "text/x-python",
      "name": "python",
      "nbconvert_exporter": "python",
      "pygments_lexer": "ipython3",
      "version": "3.11.4"
    },
    "vscode": {
      "interpreter": {
        "hash": "5238573367df39f7286bb46f9ff5f08f63a01a80960060ce41e3c79b190280fa"
      }
    }
  },
  "nbformat": 4,
  "nbformat_minor": 0
}
