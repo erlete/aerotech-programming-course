{
  "cells": [
    {
      "attachments": {},
      "cell_type": "markdown",
      "metadata": {
        "id": "jgM44_91PJ6u"
      },
      "source": [
        "> Remember to create a branch named `conditional-structures`\n",
        "\n",
        "# Conditional statements: which path does the program follow?\n",
        "\n",
        "Conditional statements are instructions that, depending on a given condition, can generate alternative execution flows for the program, altering its linearity."
      ]
    },
    {
      "attachments": {},
      "cell_type": "markdown",
      "metadata": {
        "id": "CZ-ETOLYPT4y"
      },
      "source": [
        "## Simple conditional\n",
        "\n",
        "The simple conditional (*if*) consists of a single instruction that determines if a condition is true. If it is, it executes the code it contains."
      ]
    },
    {
      "cell_type": "code",
      "execution_count": null,
      "metadata": {},
      "outputs": [],
      "source": [
        "variable = 2\n",
        "\n",
        "if variable == 2:\n",
        "    print(\"The value of the variable is 2!\")\n"
      ]
    },
    {
      "attachments": {},
      "cell_type": "markdown",
      "metadata": {
        "id": "xQhhJaLuPkl2"
      },
      "source": [
        "## Closed conditional\n",
        "\n",
        "The closed conditional (*if-else*) consists of two instructions: the first one determines if a condition is true, and if it is, it executes the code block associated with it. The second one executes the code block associated with it in case the condition of the first one is not true."
      ]
    },
    {
      "cell_type": "code",
      "execution_count": null,
      "metadata": {},
      "outputs": [],
      "source": [
        "variable = 3\n",
        "\n",
        "if variable == 2:\n",
        "    print(\"The value of the variable is 2!\")\n",
        "\n",
        "else:\n",
        "    print(\"The value of the variable is not 2!\")\n"
      ]
    },
    {
      "attachments": {},
      "cell_type": "markdown",
      "metadata": {
        "id": "_IKeLXMdQEF1"
      },
      "source": [
        "## Compound closed conditional\n",
        "\n",
        "The compound closed conditional (*if-elif-else*) consists of a series of instructions, headed by an `if` that evaluates if a given condition is true, followed by a series of `elif` instructions that evaluate if a condition is true only when none of the previous ones has been. Finally, it contains an `else` that executes a code block in case none of the conditions has been true."
      ]
    },
    {
      "cell_type": "code",
      "execution_count": 1,
      "metadata": {},
      "outputs": [
        {
          "name": "stdout",
          "output_type": "stream",
          "text": [
            "The value is greater or equal to 1!\n"
          ]
        }
      ],
      "source": [
        "variable = 4\n",
        "\n",
        "if variable < 0:\n",
        "    print(\"The value is negative!\")\n",
        "\n",
        "elif variable >= 1:  # This is True and it has been executed.\n",
        "    print(\"The value is greater or equal to 1!\")\n",
        "\n",
        "elif variable == 4:  # This is True, yet it has not been executed.\n",
        "    print(\"The value is 4\")\n",
        "\n",
        "else:\n",
        "    print(\"The value must be located between 0 and 1...\")\n"
      ]
    },
    {
      "attachments": {},
      "cell_type": "markdown",
      "metadata": {
        "id": "LloG-xx5SQGC"
      },
      "source": [
        "### Observation: compound closed conditional vs. consecutive simple conditionals\n",
        "\n",
        "It is interesting to observe that the `elif` instruction stops considering subsequent evaluations if its condition is met. This does not happen with consecutive simple conditionals, as can be observed in the following example:"
      ]
    },
    {
      "cell_type": "code",
      "execution_count": 2,
      "metadata": {},
      "outputs": [
        {
          "name": "stdout",
          "output_type": "stream",
          "text": [
            "The value is greater or equal to 1!\n",
            "The value is 4\n"
          ]
        }
      ],
      "source": [
        "# Consecutive ifs:\n",
        "\n",
        "variable = 4\n",
        "\n",
        "if variable < 0:\n",
        "    print(\"The value is negative!\")\n",
        "\n",
        "if variable >= 1:  # This is True and it has been executed.\n",
        "    print(\"The value is greater or equal to 1!\")\n",
        "\n",
        "if variable == 4:  # This is True and it has been executed.\n",
        "    print(\"The value is 4\")\n"
      ]
    },
    {
      "attachments": {},
      "cell_type": "markdown",
      "metadata": {},
      "source": [
        "### _Exercise 16: Conditional structures_\n",
        "\n",
        "Initial data:\n",
        "\n",
        "- `n`: a variable containing an integer value.\n",
        "\n",
        "Steps:\n",
        "\n",
        "1. Design a program that stores a message in the `message` variable, depending on the value of `n`:\n",
        "\n",
        "    1. If `n` is negative, store the message \"The number is negative\".\n",
        "    2. If `n` is positive, store the message \"The number is positive\".\n",
        "    3. If `n` is zero, store the message \"The number is zero\".\n",
        "    4. If `n` is even, **add** \" and even\" to the message.\n",
        "    5. If `n` is odd, **add** \" and odd\" to the message.\n",
        "\n",
        "- [Click here to open the script in the editor](./exercises/exercise_16.py)\n",
        "- Test the script using `Ctrl + Shift + P` > `Tasks: Run Task` > `Test exercise`"
      ]
    },
    {
      "attachments": {},
      "cell_type": "markdown",
      "metadata": {},
      "source": [
        "> Remember to create a pull request for branch `conditional-structures`\n",
        "\n",
        "# Navigation\n",
        "\n",
        "- **Previous lesson**: [Operators](../operators/theory.ipynb)\n",
        "- **Next lesson**: [Iteration structures](../iteration-structures/theory.ipynb)"
      ]
    }
  ],
  "metadata": {
    "colab": {
      "collapsed_sections": [],
      "provenance": []
    },
    "kernelspec": {
      "display_name": "Python 3",
      "language": "python",
      "name": "python3"
    },
    "language_info": {
      "codemirror_mode": {
        "name": "ipython",
        "version": 3
      },
      "file_extension": ".py",
      "mimetype": "text/x-python",
      "name": "python",
      "nbconvert_exporter": "python",
      "pygments_lexer": "ipython3",
      "version": "3.11.1"
    },
    "vscode": {
      "interpreter": {
        "hash": "5238573367df39f7286bb46f9ff5f08f63a01a80960060ce41e3c79b190280fa"
      }
    }
  },
  "nbformat": 4,
  "nbformat_minor": 0
}
