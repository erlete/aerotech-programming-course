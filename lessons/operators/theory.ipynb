{
  "cells": [
    {
      "attachments": {},
      "cell_type": "markdown",
      "metadata": {
        "id": "s_sbnh_Ewsgu"
      },
      "source": [
        "> Remember to create a branch named `operators`\n",
        "\n",
        "# Operators: relations between data\n",
        "\n",
        "In Python, there are a series of operators. The simplest ones are the arithmetic ones, followed by the assignment ones (which can be composed with the previous ones). Afterwards, there are the comparison ones, and finally, the logical operators."
      ]
    },
    {
      "attachments": {},
      "cell_type": "markdown",
      "metadata": {
        "id": "SvpjY-HSxO1g"
      },
      "source": [
        "## Arithmetic operators\n",
        "\n",
        "This type of operators are used to perform arithmetic operations between terms. The ones of addition and subtraction can be **unary** (they act on a single element) or **binary** (they relate two elements).\n",
        "\n",
        "Types:\n",
        "\n",
        "- **Addition (`+`)**: adds a given value to another.\n",
        "- **Subtraction (`-`)**: subtracts a given value from another.\n",
        "- **Multiplication (`*`)**: multiplies a value by another given.\n",
        "- **Exponentiation (`**`)**: raises a value to another given.\n",
        "- **Floating division (`/`)**: divides a value by another given and returns a floating result.\n",
        "- **Integer division (`//`)**: divides a value by another given and returns an integer result (truncated).\n",
        "- **Modulus (`%`)**: divides a value by another given and returns the remainder of the division."
      ]
    },
    {
      "cell_type": "code",
      "execution_count": null,
      "metadata": {
        "id": "GOa8cDAKwxMM"
      },
      "outputs": [],
      "source": [
        "# Unary operators:\n",
        "\n",
        "# Addition:\n",
        "\n",
        "positive_value = +1  # This is equivalent to 1.\n",
        "\n",
        "# Subtraction:\n",
        "\n",
        "negative_value = -1\n",
        "\n",
        "print(\"Positive: \", positive_value)\n",
        "print(\"Negative: \", negative_value)\n"
      ]
    },
    {
      "cell_type": "code",
      "execution_count": null,
      "metadata": {
        "colab": {
          "base_uri": "https://localhost:8080/"
        },
        "id": "Tc16VI_CxwvN",
        "outputId": "df09aea3-1c27-45d0-f8cc-e081aae7072c"
      },
      "outputs": [],
      "source": [
        "# Binary operators:\n",
        "\n",
        "# Addition:\n",
        "\n",
        "print(\"1 + 1\\t= \", 1 + 1)\n",
        "\n",
        "# Subtraction:\n",
        "\n",
        "print(\"2 - 1\\t= \", 2 - 1)\n",
        "\n",
        "# Multiplication:\n",
        "\n",
        "print(\"2 * 3\\t= \", 2 * 3)\n",
        "\n",
        "# Exponentiation:\n",
        "\n",
        "print(\"2 ** 3\\t= \", 2 ** 3)\n",
        "\n",
        "# Floating-point division:\n",
        "\n",
        "print(\"8 / 3\\t= \", 8 / 3)\n",
        "\n",
        "# Integer division:\n",
        "\n",
        "print(\"8 // 3\\t= \", 8 // 3)\n",
        "\n",
        "# Modulus (remainder):\n",
        "# a % b is equal to a - ((a // b) * b).\n",
        "\n",
        "print(\"11 % 2\\t= \", 8 % 3)\n"
      ]
    },
    {
      "attachments": {},
      "cell_type": "markdown",
      "metadata": {
        "id": "zurBYu9tItto"
      },
      "source": [
        "### _Exercise 13: Arithmetic operators_\n",
        "\n",
        "Initial data:\n",
        "\n",
        "- `vector_1`: a tuple of two elements representing coordinate A.\n",
        "- `vector_2`: a tuple of two elements representing coordinate B.\n",
        "\n",
        "Steps:\n",
        "\n",
        "1. Create a variable `distance` that computes the distance between the two coordinates **only using basic arithmetic operations**.\n",
        "\n",
        "- [Click here to open the script in the editor](./exercises/exercise_13.py)\n",
        "- Test the script using `Ctrl + Shift + P` > `Tasks: Run Task` > `Test exercise`"
      ]
    },
    {
      "attachments": {},
      "cell_type": "markdown",
      "metadata": {
        "id": "L0Ol7imCFdVM"
      },
      "source": [
        "## Assignment operators\n",
        "\n",
        "This type of operators are used to assign a value to a variable, but they can be combined with arithmetic operators to offer a more complete and compact functionality.\n",
        "\n",
        "Types:\n",
        "\n",
        "- **Assignment (`=`)**: assigns a given value to a variable.\n",
        "- **Assignment and addition (`+=`)**: adds a given value to the value of a variable and assigns the result to the variable itself.\n",
        "- **Assignment and subtraction (`-=`)**: subtracts a given value from the value of a variable and assigns the result to the variable itself.\n",
        "- **Assignment and multiplication (`*=`)**: multiplies the value of a variable by a given value and assigns the result to the variable itself.\n",
        "- **Assignment and exponentiation (`**=`)**: raises the value of a variable to a given value and assigns the result to the variable itself.\n",
        "- **Assignment and floating division (`/=`)**: divides the value of a variable by a given value and assigns the result (floating) to the variable itself.\n",
        "- **Assignment and integer division (`//=`)**: divides the value of a variable by a given value and assigns the result (integer) to the variable itself.\n",
        "- **Assignment and modulus division (`%=`)**: divides the value of a variable by a given value and assigns the remainder to the variable itself."
      ]
    },
    {
      "cell_type": "code",
      "execution_count": null,
      "metadata": {
        "id": "TcGUhU4jFnPJ"
      },
      "outputs": [],
      "source": [
        "# Assignation:\n",
        "\n",
        "variable = 1  # The value is now 1.\n",
        "\n",
        "# Assignation and addition:\n",
        "\n",
        "variable += 1  # The value is now 2.\n",
        "\n",
        "# Assignation and subtraction:\n",
        "\n",
        "variable -= 3  # The value is now -1.\n",
        "\n",
        "# Assignation and multiplication:\n",
        "\n",
        "variable *= -2  # The value is now 2.\n",
        "\n",
        "# Assignation and exponentiation:\n",
        "\n",
        "variable **= 2  # The value is now 4.\n",
        "\n",
        "# Assignation and floating-point division:\n",
        "\n",
        "variable /= 1  # The value is now 4.0.\n",
        "\n",
        "# Assignation and integer division:\n",
        "\n",
        "variable //= 1  # The value is now 2.\n",
        "\n",
        "# Assignation and modulus division:\n",
        "\n",
        "variable %= 1  # The value is now 1.\n"
      ]
    },
    {
      "attachments": {},
      "cell_type": "markdown",
      "metadata": {
        "id": "otcmnO8RIkYs"
      },
      "source": [
        "## Comparison operators\n",
        "\n",
        "This type of operators allow comparing numeric values following the corresponding arithmetic rules.\n",
        "\n",
        "Types:\n",
        "\n",
        "- **Equal to (`==`)**: indicates if two elements are equal.\n",
        "- **Different from (`!=`)**: indicates if two elements are different.\n",
        "- **Less than (`<`)**: indicates if the first element is less than the second.\n",
        "- **Greater than (`>`)**: indicates if the first element is greater than the second.\n",
        "- **Less than or equal to (`<=`)**: indicates if the first element is less than or equal to the second.\n",
        "- **Greater than or equal to (`>=`)**: indicates if the first element is greater than or equal to the second."
      ]
    },
    {
      "cell_type": "code",
      "execution_count": null,
      "metadata": {
        "colab": {
          "base_uri": "https://localhost:8080/"
        },
        "id": "9Rrq5lAWNGsa",
        "outputId": "78cb50c0-e7af-4cfb-82cf-9a1e6e8fbaaa"
      },
      "outputs": [],
      "source": [
        "# Equal to:\n",
        "\n",
        "print(\"1 == 1\\t: \", 1 == 1)\n",
        "\n",
        "# Different than:\n",
        "\n",
        "print(\"2 != 1\\t: \", 2 != 1)\n",
        "\n",
        "# Lower than:\n",
        "\n",
        "print(\"2 < 3\\t: \", 2 < 3)\n",
        "\n",
        "# Greater than:\n",
        "\n",
        "print(f\"2 > 3\\t: \", 2 > 3)\n",
        "\n",
        "# Lower than or equal to:\n",
        "\n",
        "print(f\"3 <= 3\\t: \", 8 <= 3)\n",
        "\n",
        "# Greater than or equal to:\n",
        "\n",
        "print(f\"2 >= 3\\t: \", 8 >= 3)\n"
      ]
    },
    {
      "attachments": {},
      "cell_type": "markdown",
      "metadata": {},
      "source": [
        "### _Exercise 14: Comparison operators_\n",
        "\n",
        "Initial data:\n",
        "\n",
        "- `value_1`: a variable containing value `-1`.\n",
        "- `value_2`: a variable containing value `5`.\n",
        "\n",
        "Steps:\n",
        "\n",
        "1. Create a variable `eq` that contains the result of comparing whether `value_1` is equal to `value_2`.\n",
        "2. Create a variable `ne` that contains the result of comparing whether `value_1` is different from `value_2`.\n",
        "3. Create a variable `gt` that contains the result of comparing whether `value_1` is greater than `value_2`.\n",
        "4. Create a variable `lt` that contains the result of comparing whether `value_1` is less than `value_2`.\n",
        "5. Create a variable `ge` that contains the result of comparing whether `value_1` is greater than or equal to `value_2`.\n",
        "6. Create a variable `le` that contains the result of comparing whether `value_1` is less than or equal to `value_2`.\n",
        "\n",
        "- [Click here to open the script in the editor](./exercises/exercise_14.py)\n",
        "- Test the script using `Ctrl + Shift + P` > `Tasks: Run Task` > `Test exercise`"
      ]
    },
    {
      "attachments": {},
      "cell_type": "markdown",
      "metadata": {
        "id": "JLqDKf6pN_tT"
      },
      "source": [
        "## Logical operators\n",
        "\n",
        "This type of operators are used to combine boolean values and return another boolean value that responds to the rules of propositional logic established by each operation.\n",
        "\n",
        "Types:\n",
        "\n",
        "- **Not (`not`)**: negates the boolean value of an element.\n",
        "- **And (`and`)**: checks if the values of two boolean elements are true.\n",
        "- **Or (`or`)**: checks if all or any of the values of two boolean elements are true."
      ]
    },
    {
      "cell_type": "code",
      "execution_count": null,
      "metadata": {
        "colab": {
          "base_uri": "https://localhost:8080/"
        },
        "id": "z5FvYb8pO3x9",
        "outputId": "7dbbf23a-43d9-4ce8-b5e9-02b3ba8aea81"
      },
      "outputs": [],
      "source": [
        "# Not:\n",
        "\n",
        "print(\"not True\\t: \", not True)\n",
        "\n",
        "# And:\n",
        "\n",
        "print(\"True and False\\t: \", True and False)\n",
        "\n",
        "# Or:\n",
        "\n",
        "print(\"True or False\\t: \", True or False)\n",
        "\n",
        "# Xor:\n",
        "\n",
        "print(\"True xor False\\t: \", True ^ True)\n"
      ]
    },
    {
      "attachments": {},
      "cell_type": "markdown",
      "metadata": {},
      "source": [
        "### _Exercise 15: Logical operators_\n",
        "\n",
        "Initial data:\n",
        "\n",
        "- `value_1`: a variable containing value `-1`.\n",
        "- `value_2`: a variable containing value `5`.\n",
        "\n",
        "Steps:\n",
        "\n",
        "1. Create a variable `comp` that contains the result of comparing whether `value_1` is positive **and** lower than `value_2`.\n",
        "\n",
        "- [Click here to open the script in the editor](./exercises/exercise_15.py)\n",
        "- Test the script using `Ctrl + Shift + P` > `Tasks: Run Task` > `Test exercise`"
      ]
    },
    {
      "attachments": {},
      "cell_type": "markdown",
      "metadata": {},
      "source": [
        "> Remember to create a pull request for branch `operators`\n",
        "\n",
        "# Navigation\n",
        "\n",
        "- **Previous lesson**: [Data types](../data-types/theory.ipynb)\n",
        "- **Next lesson**: [Conditional structures](../conditional-structures/theory.ipynb)"
      ]
    }
  ],
  "metadata": {
    "colab": {
      "collapsed_sections": [],
      "provenance": []
    },
    "kernelspec": {
      "display_name": "Python 3",
      "language": "python",
      "name": "python3"
    },
    "language_info": {
      "codemirror_mode": {
        "name": "ipython",
        "version": 3
      },
      "file_extension": ".py",
      "mimetype": "text/x-python",
      "name": "python",
      "nbconvert_exporter": "python",
      "pygments_lexer": "ipython3",
      "version": "3.11.1"
    },
    "vscode": {
      "interpreter": {
        "hash": "5238573367df39f7286bb46f9ff5f08f63a01a80960060ce41e3c79b190280fa"
      }
    }
  },
  "nbformat": 4,
  "nbformat_minor": 0
}
