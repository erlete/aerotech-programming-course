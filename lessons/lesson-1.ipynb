{
  "nbformat": 4,
  "nbformat_minor": 0,
  "metadata": {
    "colab": {
      "provenance": [],
      "collapsed_sections": []
    },
    "kernelspec": {
      "name": "python3",
      "display_name": "Python 3"
    },
    "language_info": {
      "name": "python"
    }
  },
  "cells": [
    {
      "cell_type": "markdown",
      "source": [
        "# Introducción\n",
        "\n",
        "Este es el notebook interactivo de la primera clase del curso de Python para UVigo Motorsport (2022 - 2023)."
      ],
      "metadata": {
        "id": "iQy4mx5LUj5r"
      }
    },
    {
      "cell_type": "markdown",
      "source": [
        "# ¿Qué es Python?\n",
        "\n",
        "Python es un lenguaje interpretado, orientado a objetos y multipropósito. Tiene gran variedad de aplicaciones y extensiones de su funcionalidad."
      ],
      "metadata": {
        "id": "fa0IqaRlUL0P"
      }
    },
    {
      "cell_type": "markdown",
      "source": [
        "# ¿Dónde elaborar y ejecutar código en Python?\n",
        "\n",
        "Se puede escribir código en Python desde la terminal (consola), el propio IDE de Python o cualquier editor de texto/código disponible hoy en día (recomendable el uso de VSCode).\n",
        "\n",
        "¡Incluso se puede ejecutar desde Google Collab en máquinas virtuales remotas!"
      ],
      "metadata": {
        "id": "Z4WTjn0RUay2"
      }
    },
    {
      "cell_type": "code",
      "source": [
        "# This is a comment.\n",
        "\n",
        "print(\"Hello, World!\")  # This statement prints text to the console."
      ],
      "metadata": {
        "id": "no-CxxrzUz_O"
      },
      "execution_count": null,
      "outputs": []
    },
    {
      "cell_type": "markdown",
      "source": [
        "## _Ejercicio: Introducción_\n",
        "\n",
        "Realizar un codificador de texto a imagen introduciendo datos en los píxeles de ruido de la misma.\n",
        "\n",
        "Más información en https://r.mtdv.me/articles/text-encoding-to-image-noise."
      ],
      "metadata": {
        "id": "GAtxOuy2OS5T"
      }
    },
    {
      "cell_type": "markdown",
      "source": [
        "# Tipos de datos: maneras de clasificar la información\n",
        "\n",
        "Como todo lenguaje, Python dispone de varios tipos de datos con diferentes peculiaridades, que estudiaremos a continuación."
      ],
      "metadata": {
        "id": "IIWKXTYkU6ow"
      }
    },
    {
      "cell_type": "markdown",
      "source": [
        "## Literales y variables, literalmente\n",
        "\n",
        "**Literales**: valores genéricos asociados a símbolos concretos o conjuntos de los mismos.\n",
        "\n",
        "**Variables**: referencias a valores genéricos localizados en la memoria del dispositivo que ejecuta el programa.\n",
        "\n",
        "En Python, las variables no están ligadas a un tipo de dato concreto, por lo que se pueden sobreescribir sin errores."
      ],
      "metadata": {
        "id": "e4XETFi_VHlF"
      }
    },
    {
      "cell_type": "code",
      "source": [
        "# This is a literal:\n",
        "\n",
        "2\n",
        "\n",
        "# This is a literal assigned to a variable:\n",
        "\n",
        "variable_1 = 2\n",
        "\n",
        "# Now, you can print the value of the variable on-screen:\n",
        "\n",
        "print(variable_1)"
      ],
      "metadata": {
        "id": "4GwVDrlQVYfW",
        "colab": {
          "base_uri": "https://localhost:8080/"
        },
        "outputId": "49755e4c-fe7a-467d-9411-2a812bd32530"
      },
      "execution_count": null,
      "outputs": [
        {
          "output_type": "stream",
          "name": "stdout",
          "text": [
            "2\n"
          ]
        }
      ]
    },
    {
      "cell_type": "markdown",
      "source": [
        "### _Ejercicio: Creación de variables_\n",
        "\n",
        "Crea una variable llamada `my_first_variable` que contenga el valor `69`."
      ],
      "metadata": {
        "id": "PHk4urEyjaBG"
      }
    },
    {
      "cell_type": "code",
      "source": [
        "# Write your answer below:\n",
        "\n"
      ],
      "metadata": {
        "id": "jA5t7pYcjqAJ"
      },
      "execution_count": null,
      "outputs": []
    },
    {
      "cell_type": "markdown",
      "source": [
        "### _Ejercicio: Determinación del tipo de dato de una variable_\n",
        "\n",
        "Busca información sobre la **función** que te permite pasar como argumento una variable y conocer el tipo de dato que contiene.\n",
        "\n",
        "Muestra en pantalla el tipo de dato de la variable `unknown`."
      ],
      "metadata": {
        "id": "QWhQ9lm-MPAX"
      }
    },
    {
      "cell_type": "code",
      "source": [
        "# Do not modify this (base data):\n",
        "\n",
        "unknown = \"What am I?\"\n",
        "\n",
        "# Write your code below:\n",
        "\n"
      ],
      "metadata": {
        "id": "YsniH95-Mbw3"
      },
      "execution_count": null,
      "outputs": []
    },
    {
      "cell_type": "markdown",
      "source": [
        "## Tipos de datos no secuenciales\n",
        "\n",
        "**Secuencialidad**: capacidad de un tipo de dato para definir una secuencia de valores.\n",
        "\n",
        "Los tipos de datos no secuenciales básicos en Python abarcan los Enteros (`int`), Decimales (`float`) y Complejos (`complex`):\n",
        "\n",
        "* **Enteros**: valores numéricos sin parte decimal.\n",
        "* **Decimales**: valores numéricos con parte decimal.\n",
        "* **Complejos**: valores numéricos con parte real y compleja."
      ],
      "metadata": {
        "id": "6oOOkT45XuXu"
      }
    },
    {
      "cell_type": "code",
      "source": [
        "# Let's assign non-sequential values to variables:\n",
        "\n",
        "# Integer value:\n",
        "\n",
        "integer_variable = 1\n",
        "\n",
        "# Float value:\n",
        "\n",
        "float_variable = 1.2\n",
        "\n",
        "# Complex value:\n",
        "\n",
        "complex_variable = 1 + 2j"
      ],
      "metadata": {
        "id": "8tIDwTgtY6r0"
      },
      "execution_count": null,
      "outputs": []
    },
    {
      "cell_type": "markdown",
      "source": [
        "### _Ejercicio: Tipos de datos no secuenciales_\n",
        "\n",
        "Crea dos variables llamadas `var_1` y `var_2` que contengan, respectivamente, el valor de Pi (con cuatro decimales) y el número de horas en un día.\n",
        "\n",
        "En la misma línea de cada variable definida indica, mediante un comentario, el tipo de dato que contiene."
      ],
      "metadata": {
        "id": "T06h9c4SnQJ9"
      }
    },
    {
      "cell_type": "code",
      "source": [
        "# Write your answer below:\n",
        "\n"
      ],
      "metadata": {
        "id": "m0OQRNY3oDkW"
      },
      "execution_count": null,
      "outputs": []
    },
    {
      "cell_type": "markdown",
      "source": [
        "## Tipos de datos secuenciales\n",
        "\n",
        "Los tipos de datos secuenciales básicos en Python abarcan los Strings (`str`), Tuplas (`tuple`), Listas (`list`), Sets (`set`) y Diccionarios (`dict`):\n",
        "\n",
        "* **Strings**: conjuntos ordenados de caracteres.\n",
        "* **Tuplas/Listas**: conjuntos ordenados de elementos.\n",
        "* **Sets**: conjuntos no ordenados de elementos.\n",
        "* **Diccionarios**: conjuntos de elementos relacionados mediante pares clave-valor."
      ],
      "metadata": {
        "id": "aQZD0ZaVY7bL"
      }
    },
    {
      "cell_type": "code",
      "source": [
        "# Let's assign sequential values to a variable:\n",
        "\n",
        "# String value:\n",
        "\n",
        "string_value = \"Strong string strung in the stream\"\n",
        "\n",
        "# Tuple value:\n",
        "\n",
        "tuple_variable = (1, 2, 3)\n",
        "\n",
        "# List value:\n",
        "\n",
        "list_variable = [1, 2, 3]\n",
        "\n",
        "# Set value:\n",
        "\n",
        "set_variable = {1, 2, 3}\n",
        "\n",
        "# Dictionary value:\n",
        "\n",
        "dictionary_variable = {\n",
        "    \"key_1\": \"value_1\",\n",
        "    \"key_2\": \"value_2\",\n",
        "}"
      ],
      "metadata": {
        "id": "TzUhnhAeYCl-"
      },
      "execution_count": null,
      "outputs": []
    },
    {
      "cell_type": "markdown",
      "source": [
        "### _Ejercicio: Tipos de datos secuenciales_\n",
        "\n",
        "Crea tres variables (llámalas como quieras) que contengan los siguientes datos:\n",
        "\n",
        "1. Lista con valores del `1` al `5` (incluidos).\n",
        "2. Set con valores del `-2` al `0` (incluidos).\n",
        "3. String con los caracteres `'a'`, `'b'` y `'c'`.\n",
        "4. Lista de las palabras contenidas en la frase `\"I'm learning Python\"`.\n",
        "5. Diccionario que relacione las claves de `\"seconds\"`, `\"minutes\"` y `\"hours\"` con la cantidad de los segundos, minutos y horas que hay en un día (respectivamente)."
      ],
      "metadata": {
        "id": "OnnQ2dKwoNti"
      }
    },
    {
      "cell_type": "code",
      "source": [
        "# Write your answer below:\n",
        "\n"
      ],
      "metadata": {
        "id": "jGlGKBt4pRUV"
      },
      "execution_count": null,
      "outputs": []
    },
    {
      "cell_type": "markdown",
      "source": [
        "## Cambio de tipo de datos (*type casting*)\n",
        "\n",
        "Python permite cambiar el tipo de datos de sus elementos con cierta flexibilidad. De este modo, es posible convertir un `float` en un `int` y viceversa, pero (por ejemplo) no es posible convertir un `str` a un `int`."
      ],
      "metadata": {
        "id": "-wLghVJBcgTI"
      }
    },
    {
      "cell_type": "code",
      "source": [
        "# This is a float value assigned to a variable:\n",
        "\n",
        "variable = 6.9\n",
        "print(\"The value of the variable is: \", variable)\n",
        "print(\"The data type of the variable is: \", type(variable))\n",
        "\n",
        "# Now, its value is being casted into an integer:\n",
        "\n",
        "variable = int(variable)  # The value will be truncated (not rounded).\n",
        "print(\"The value of the variable is: \", variable)\n",
        "print(\"The data type of the variable is: \", type(variable))"
      ],
      "metadata": {
        "id": "l-OQZayYc23i",
        "colab": {
          "base_uri": "https://localhost:8080/"
        },
        "outputId": "b838d749-ad90-4d6b-b3c0-45367cf986ec"
      },
      "execution_count": null,
      "outputs": [
        {
          "output_type": "stream",
          "name": "stdout",
          "text": [
            "The value of the variable is:  6.9\n",
            "The data type of the variable is:  <class 'float'>\n",
            "The value of the variable is:  6\n",
            "The data type of the variable is:  <class 'int'>\n"
          ]
        }
      ]
    },
    {
      "cell_type": "markdown",
      "source": [
        "### _Ejercicio: Cambio de tipo de datos (1)_\n",
        "\n",
        "Convierte un `int` cualquiera a un `float` y asigna el resultado a una variable. Seguidamente, convierte un `float` cualquiera a un `int` y asigna el resultado a otra variable distinta.\n",
        "\n",
        "Finalmente, imprime los resultados en pantalla."
      ],
      "metadata": {
        "id": "gyh4tAzSpoSS"
      }
    },
    {
      "cell_type": "code",
      "source": [
        "# Write your answer below:\n",
        "\n"
      ],
      "metadata": {
        "id": "L7VuDxdOpnc3"
      },
      "execution_count": null,
      "outputs": []
    },
    {
      "cell_type": "markdown",
      "source": [
        "### _Ejercicio: Cambio de tipo de datos (2)_\n",
        "\n",
        "Prueba a crear una variable que contenga un `str` e intenta cambiar el tipo de datos de dicha variable a `int`. ¿Qué ocurre?"
      ],
      "metadata": {
        "id": "nZiRVHwsrBLL"
      }
    },
    {
      "cell_type": "code",
      "source": [
        "# Write your answer below:\n",
        "\n"
      ],
      "metadata": {
        "id": "hX_DdzpYrEjm"
      },
      "execution_count": null,
      "outputs": []
    },
    {
      "cell_type": "markdown",
      "source": [
        "## Booleanos... ¿verdadero o falso?\n",
        "\n",
        "El tipo de dato Booleano (`bool`) es el que actúa sobre cualquier instrucción de Python de manera interna, sin que nadie se dé cuenta.\n",
        "\n",
        "Las variantes de este dato son los literales `True` y `False`.\n",
        "\n",
        "Un dato curioso acerca de este tipo de dato es que cualquier otro tipo de dato en Python lo contiene, implícitamente. En otras palabras, cualquier tipo de dato en Python puede ser *casteado* a `bool`, como se puede ver a continuación:"
      ],
      "metadata": {
        "id": "TQp5fZDvcFYV"
      }
    },
    {
      "cell_type": "code",
      "source": [
        "# Boolean casting for every basic data type in Python:\n",
        "\n",
        "print(\"Boolean value of True: \", bool(True))\n",
        "print(\"Boolean value of False: \", bool(False))\n",
        "\n",
        "print(\"Boolean value of 1: \", bool(1))\n",
        "print(\"Boolean value of 1.2: \", bool(1.2))\n",
        "print(\"Boolean value of 1 + 2j:\", bool(1 + 2j))\n",
        "\n",
        "print(\"Boolean value of 'Hello':\", bool(\"Hello\"))\n",
        "print(\"Boolean value of (1, 2, 3):\", bool((1, 2, 3)))\n",
        "print(\"Boolean value of []:\", bool([]))\n",
        "print(\"Boolean value of {1, 2, 3}:\", bool({1, 2, 3}))\n",
        "print(\"Boolean value of {'key_1': 'value_1'}:\", bool({\"key_1\": \"value_1\"}))"
      ],
      "metadata": {
        "id": "ic8oWd8Gdo_L",
        "colab": {
          "base_uri": "https://localhost:8080/"
        },
        "outputId": "a7a3f0d0-b27a-40db-fbee-cb85a4c15ef0"
      },
      "execution_count": null,
      "outputs": [
        {
          "output_type": "stream",
          "name": "stdout",
          "text": [
            "Boolean value of True:  True\n",
            "Boolean value of False:  False\n",
            "Boolean value of 1:  True\n",
            "Boolean value of 1.2:  True\n",
            "Boolean value of 1 + 2j: True\n",
            "Boolean value of 'Hello': True\n",
            "Boolean value of (1, 2, 3): True\n",
            "Boolean value of []: False\n",
            "Boolean value of {1, 2, 3}: True\n",
            "Boolean value of {'key_1': 'value_1'}: True\n"
          ]
        }
      ]
    },
    {
      "cell_type": "code",
      "source": [
        "# Wait... what?\n",
        "\n",
        "print(\"Boolean value of the boolean type: \", bool(bool))\n",
        "print(\"Boolean value of a generic boolean value: \", bool(bool()))"
      ],
      "metadata": {
        "id": "tYn7pXnRfZbr"
      },
      "execution_count": null,
      "outputs": []
    },
    {
      "cell_type": "markdown",
      "source": [
        "### _Ejercicio: Booleanos_\n",
        "\n",
        "Crea una serie de variables (mínimo 4, máximo 6) que contengan distintos tipos de datos (los que quieras, con los contenidos que te parezca) e imprime su valor booleano en pantalla.\n",
        "\n",
        "_**Sugerencia**: prueba a crear una lista vacía y una tupla con varios elementos y razona por qué sus valores booleanos son, respectivamente, `False` y `True`._"
      ],
      "metadata": {
        "id": "El2v0RFbp_D_"
      }
    },
    {
      "cell_type": "code",
      "source": [
        "# Write your answer below:\n",
        "\n"
      ],
      "metadata": {
        "id": "-xdxgipCsUmQ"
      },
      "execution_count": null,
      "outputs": []
    },
    {
      "cell_type": "markdown",
      "source": [
        "# Interacción con tipos de datos secuenciales\n",
        "\n",
        "Los tipos de datos secuenciales presentan varias formas de interacción, permitiendo añadir y retirar elementos, sustituir expresiones, encontrar referencias, etc."
      ],
      "metadata": {
        "id": "V-rXfS89WXZg"
      }
    },
    {
      "cell_type": "markdown",
      "source": [
        "## Splices\n",
        "\n",
        "Los _splices_ son secciones de un elemento secuencial que permiten acceder a sus elementos internos. Generalmente, los Strings, Listas y Tuplas permiten acceso por indexación (indicando la posición del elemento al que se quiere acceder). A continuación se puede ver un ejemplo de cómo funcionan los _splices_."
      ],
      "metadata": {
        "id": "zfFHvKQufcr_"
      }
    },
    {
      "cell_type": "code",
      "source": [
        "# String splicing:\n",
        "\n",
        "string = \"YOLOv5 is the best mapping software ever!\"\n",
        "\n",
        "# Single element access ([index]):\n",
        "\n",
        "print(\"Character at the first position: \", string[0])\n",
        "print(\"Character in the middle: \", string[len(string) // 2])\n",
        "print(\"Character at the last position: \", string[-1], end=\"\\n\\n\")\n",
        "\n",
        "# Multiple element access ([start:stop]):\n",
        "\n",
        "print(\"First 10 characters: \", string[:10])\n",
        "print(\"Characters in positions 5 to 10: \", string[5:10])\n",
        "print(\"Last 10 characters: \", string[-10:])\n",
        "print(\"Whole string: \", string[:], end=\"\\n\\n\")\n",
        "\n",
        "# Multiple element access ([start:stop:step]):\n",
        "\n",
        "print(\"Characters in even positions: \", string[::2])\n",
        "print(\"Whole string: \", string[::])\n",
        "print(\"Whole string (reversed): \", string[::-1], end=\"\\n\\n\")"
      ],
      "metadata": {
        "id": "I3x-u0vSf7Dh",
        "colab": {
          "base_uri": "https://localhost:8080/"
        },
        "outputId": "f4b3f594-be20-45de-8879-cd90d488b737"
      },
      "execution_count": null,
      "outputs": [
        {
          "output_type": "stream",
          "name": "stdout",
          "text": [
            "Character at the first position:  Y\n",
            "Character in the middle:  a\n",
            "Character at the last position:  !\n",
            "\n",
            "First 10 characters:  YOLOv5 is \n",
            "Characters in positions 5 to 10:  5 is \n",
            "Last 10 characters:  ware ever!\n",
            "Whole string:  YOLOv5 is the best mapping software ever!\n",
            "\n",
            "Characters in even positions:  YLv stebs apn otaeee!\n",
            "Whole string:  YOLOv5 is the best mapping software ever!\n",
            "Whole string (reversed):  !reve erawtfos gnippam tseb eht si 5vOLOY\n",
            "\n"
          ]
        }
      ]
    },
    {
      "cell_type": "markdown",
      "source": [
        "## Strings\n",
        "\n",
        "Los Strings son, posiblemente, uno de los tipos de datos más versátiles de todo Python, detrás de los Booleanos. Permiten modificaciones de casi todo tipo, desde cambiar de mayúsculas a minúsculas hasta encontrar expresiones regulares."
      ],
      "metadata": {
        "id": "AXBibNILWogP"
      }
    },
    {
      "cell_type": "markdown",
      "source": [
        "### Métodos\n",
        "\n",
        "Para poder utilizar los métodos de un `str`, primero es necesario crear una variable asignada a uno. También se puede hacer mediante un literal, pero no es muy útil, que digamos.\n",
        "\n",
        "A continuación se muestran varias modificaciones básicas de este tipo de datos."
      ],
      "metadata": {
        "id": "va6GEDSyW_2_"
      }
    },
    {
      "cell_type": "code",
      "source": [
        "# Basic string manipulation:\n",
        "\n",
        "string = \"This is definitely NOT Flipped Learning\"\n",
        "\n",
        "# Conversion to lowercase:\n",
        "\n",
        "print(\"Lowercase: \", string.lower())\n",
        "\n",
        "# Conversion to uppercase:\n",
        "\n",
        "print(\"Uppercase: \", string.upper())\n",
        "\n",
        "# Capitalize the leading character of the string:\n",
        "\n",
        "print(\"Capitalize: \", string.capitalize())\n",
        "\n",
        "# Capitalize the leading character of the each word in the string:\n",
        "\n",
        "print(\"Title: \", string.title())\n",
        "\n",
        "# Swap upper and lower case characters:\n",
        "\n",
        "print(\"Swap: \", string.swapcase())"
      ],
      "metadata": {
        "id": "OHOh8N3HXKmt"
      },
      "execution_count": null,
      "outputs": []
    },
    {
      "cell_type": "markdown",
      "source": [
        "Claramente, estas operaciones parecen demasiado sencillas, por lo que a menudo conviene conocer algunas un poco más complicadas para poder manipular extensamente un texto:"
      ],
      "metadata": {
        "id": "Dm7gkkGnYyZW"
      }
    },
    {
      "cell_type": "code",
      "source": [
        "# Advanced string manipulation:\n",
        "\n",
        "string = \"    Lorem ipsum dolor sit down and pay attention       \"\n",
        "\n",
        "# Find a substring in the string:\n",
        "\n",
        "print(\"Finding 'sit down': \", string.find(\"sit down\"))\n",
        "\n",
        "# Replace a substring with another substring:\n",
        "\n",
        "print(\"Replacing 'o' with '@': \", string.replace('o', '@'))\n",
        "\n",
        "# Removing leading and trailing whitespace in the string:\n",
        "\n",
        "print(\"Removing leading and trailing whitespace: \", string.strip())"
      ],
      "metadata": {
        "id": "qLunIOy4Y7dP"
      },
      "execution_count": null,
      "outputs": []
    },
    {
      "cell_type": "markdown",
      "source": [
        "## Listas\n",
        "\n",
        "Las listas permiten concatenar una serie de elementos, acceder a ellos y modificarlos con total libertad, son estructuras __mutables__."
      ],
      "metadata": {
        "id": "aXINHotfgDpf"
      }
    },
    {
      "cell_type": "markdown",
      "source": [
        "### Métodos\n",
        "\n",
        "De nuevo, la lista a manipular debe estar asociada a una variable para poder realizar cambios sobre la misma.\n",
        "\n",
        "Algunas operaciones sobre listas engloban los siguientes métodos:"
      ],
      "metadata": {
        "id": "QGc7-kF_gJfp"
      }
    },
    {
      "cell_type": "code",
      "source": [
        "# List methods:\n",
        "\n",
        "my_list = [3, 2, 1, ['a', 'b']]\n",
        "\n",
        "# List length:\n",
        "\n",
        "print(\"List length: \", len(my_list))\n",
        "print(\"Length of the last item in the list: \", len(my_list[-1]), end=\"\\n\\n\")\n",
        "\n",
        "# Single item addition:\n",
        "\n",
        "print(\"List before append: \", my_list)\n",
        "my_list.append(\"hello\")\n",
        "print(\"List after append: \", my_list, end=\"\\n\\n\")\n",
        "\n",
        "# Multiple item addition:\n",
        "\n",
        "print(\"List before extend: \", my_list)\n",
        "my_list.extend([\"how\", \"are\", \"you\"])\n",
        "print(\"List after extend: \", my_list, end=\"\\n\\n\")\n",
        "\n",
        "# Item removal:\n",
        "\n",
        "print(\"Base list: \", my_list)\n",
        "my_list.pop()\n",
        "print(\"Last element removed: \", my_list)\n",
        "my_list.pop(len(my_list) // 2)\n",
        "print(\"Middle element removed: \", my_list, end=\"\\n\\n\")\n",
        "\n",
        "# Count number of items in list:\n",
        "\n",
        "print(\"How many 2s are in the list? There is \", my_list.count(2), end=\"\\n\\n\")\n",
        "\n",
        "# Reverse list contents:\n",
        "\n",
        "print(\"List before reverse: \", my_list)\n",
        "my_list.reverse()\n",
        "print(\"List after reverse: \", my_list, end=\"\\n\\n\")\n",
        "\n",
        "# List contents' wipe:\n",
        "\n",
        "print(\"List before clear: \", my_list)\n",
        "my_list.clear()\n",
        "print(\"List after clear: \", my_list)"
      ],
      "metadata": {
        "id": "HzAZNACagUoJ"
      },
      "execution_count": null,
      "outputs": []
    },
    {
      "cell_type": "markdown",
      "source": [
        "#### _Ejercicio: Copia de listas_\n",
        "\n",
        "A partir de una variable llamada `list_1` que contiene una lista, crea otra variable llamdada `list_2` que contenga los elementos de la primera lista (sin copiarlos a mano).\n",
        "\n",
        "*__Aviso__: los elementos de ambas listas deben ser independientes (si se modifica `list_1` no se deberá modificar `list_2`).*"
      ],
      "metadata": {
        "id": "X5vDXmythC8x"
      }
    },
    {
      "cell_type": "code",
      "source": [
        "# Do not modify this (base data):\n",
        "\n",
        "list_1 = [1, 2, 3, 4, 5]\n",
        "\n",
        "# Write your code below:\n",
        "\n",
        "\n",
        "\n",
        "# Do not modify this (automatic answer check):\n",
        "\n",
        "assert list_1 is not list_2, \"Error: Lists are not independent.\"\n",
        "print(\"OK!\")"
      ],
      "metadata": {
        "id": "5291xN6QhlsS"
      },
      "execution_count": null,
      "outputs": []
    },
    {
      "cell_type": "markdown",
      "source": [
        "#### _Ejercicio: Ordenación de listas_\n",
        "\n",
        "Dada una lista `list_1`, guarda en la variable `list_2` una copia ordenada (de menor a mayor) e independiente de la primera.\n",
        "\n",
        "_**Sugerencia**: busca el método de las listas que te se ajusta a los requisitos de este ejercicio._"
      ],
      "metadata": {
        "id": "BBSFyKFQkHwc"
      }
    },
    {
      "cell_type": "code",
      "source": [
        "# Do not modify this (base data):\n",
        "\n",
        "list_1 = [5, 3, -1, 2, 3, 0]\n",
        "\n",
        "# Write your code below:\n",
        "\n",
        " \n",
        "\n",
        "# Do not modify this (automatic answer check):\n",
        "\n",
        "assert list_1 is not list_2, \"Error: lists are not independent.\"\n",
        "assert all(list_2[i] <= list_2[i + 1] for i in range(len(list_2) - 1)), \"Error: the list is not sorted.\"\n",
        "print(\"OK!\")"
      ],
      "metadata": {
        "id": "g33o4kPtkUNc"
      },
      "execution_count": null,
      "outputs": []
    },
    {
      "cell_type": "markdown",
      "source": [
        "## Tuplas\n",
        "\n",
        "Las Tuplas son tipos de datos secuenciales altamente similares a las Listas. Su principal diferencia es que las Listas permiten editar el contenido de sus posiciones, mientras que las tuplas no. Son estructuras __inmutables__."
      ],
      "metadata": {
        "id": "Ybv_UgZp6SGA"
      }
    },
    {
      "cell_type": "markdown",
      "source": [
        "## Diccionarios\n",
        "\n",
        "Los Diccionarios son, como se ha mencionado anteriormente, relaciones de pares de valores. Presentan una serie de peculiaridades, como puede ser el hecho de que en caso de que una entrada se repita, su valor se sobreescribirá con el más reciente. No existen entradas repetidas.\n",
        "\n",
        "Siempre se debe tener en cuenta que los tipos de datos utilizados como claves del diccionario deben ser inmutables, esto es, que sus elementos no puedan sufrir modificaciones. Este es el caso de los Enteros, Decimales, Complejos, Strings y Tuplas. Las Listas no sirven como claves de diccionario.\n",
        "\n",
        "Los valores de un diccionario no son accesibles mediante índices, como pasa con las Listas, Tuplas o Strings. En este caso, entre los corchetes deberá ir el nombre de la clave relacionada con el valor que se quiere hallar."
      ],
      "metadata": {
        "id": "MiHIYdZ96qvQ"
      }
    },
    {
      "cell_type": "code",
      "source": [
        "# Dictionary access example:\n",
        "\n",
        "# Dictionary definition:\n",
        "\n",
        "my_dict = {\n",
        "    \"key_1\": 1,\n",
        "    \"key_2\": 2,\n",
        "    \"key_3\": 3\n",
        "}\n",
        "\n",
        "# Dictionary access:\n",
        "\n",
        "print(my_dict)\n",
        "print(my_dict[\"key_2\"])"
      ],
      "metadata": {
        "id": "0yHek5Dd7CeP",
        "colab": {
          "base_uri": "https://localhost:8080/"
        },
        "outputId": "0b83779d-ba76-49bd-99ca-c9669ac466fb"
      },
      "execution_count": null,
      "outputs": [
        {
          "output_type": "stream",
          "name": "stdout",
          "text": [
            "{724: 1, 'key_2': 2, 'key_3': 3}\n",
            "1\n"
          ]
        }
      ]
    },
    {
      "cell_type": "code",
      "source": [
        "# Dictionary update example:\n",
        "\n",
        "my_dict = {\n",
        "    \"key_1\": 1,\n",
        "    \"key_2\": 2,\n",
        "    \"key_3\": 3\n",
        "}\n",
        "\n",
        "my_dict[\"key_2\"] = 5  # Updates the value related to the \"key_2\" key.\n",
        "\n",
        "print(my_dict)\n",
        "print(my_dict[\"key_2\"])"
      ],
      "metadata": {
        "id": "XvHSqtTW7eE5",
        "colab": {
          "base_uri": "https://localhost:8080/"
        },
        "outputId": "1ce4beca-4484-411d-942a-8347433d2815"
      },
      "execution_count": null,
      "outputs": [
        {
          "output_type": "stream",
          "name": "stdout",
          "text": [
            "{'key_1': 1, 'key_2': 5, 'key_3': 3}\n",
            "5\n"
          ]
        }
      ]
    },
    {
      "cell_type": "markdown",
      "source": [
        "# Operadores: relaciones entre datos\n",
        "\n",
        "En Python existen una serie de operadores. Los más simples son los aritméticos, seguidos de los de asignación (que se pueden componer con los anteriores). Posteriormente se encuentran los de comparación, y finalmente, los operadores lógicos."
      ],
      "metadata": {
        "id": "s_sbnh_Ewsgu"
      }
    },
    {
      "cell_type": "markdown",
      "source": [
        "## Operadores aritméticos\n",
        "\n",
        "Este tipo de operadores se encargan de realizar operaciones aritméticas entre términos. Los de suma y resta pueden ser **unarios** (actúan sobre un elemento) o **binarios** (relacionan dos elementos).\n",
        "\n",
        "Tipos de operadores:\n",
        "* **Suma (`+`)**: suma a un valor otro dado.\n",
        "* **Resta (`-`)**: resta a un valor otro dado.\n",
        "* **Multiplicación (`*`)**: multiplica un valor por otro dado.\n",
        "* __Exponenciación (`**`)__: eleva un valor a otro dado.\n",
        "* **División flotante (`/`)**: divide un valor entre otro dado y devuelve un resultado flotante.\n",
        "* **División entera (`//`)**: divide un valor entre otro dado y devuelve un resultado entero.\n",
        "* **Módulo (`%`)**: divide un valor entre otro dado y devuelve el resto de la división."
      ],
      "metadata": {
        "id": "SvpjY-HSxO1g"
      }
    },
    {
      "cell_type": "code",
      "source": [
        "# Unary operators:\n",
        "\n",
        "# Addition:\n",
        "\n",
        "positive_value = +1  # This is equivalent to 1.\n",
        "\n",
        "# Subtraction:\n",
        "\n",
        "negative_value = -1\n",
        "\n",
        "print(\"Positive: \", positive_value)\n",
        "print(\"Negative: \", negative_value)"
      ],
      "metadata": {
        "id": "GOa8cDAKwxMM"
      },
      "execution_count": null,
      "outputs": []
    },
    {
      "cell_type": "code",
      "source": [
        "# Binary operators:\n",
        "\n",
        "# Addition:\n",
        "\n",
        "print(\"1 + 1\\t= \", 1 + 1)\n",
        "\n",
        "# Subtraction:\n",
        "\n",
        "print(\"2 - 1\\t= \", 2 - 1)\n",
        "\n",
        "# Multiplication:\n",
        "\n",
        "print(\"2 * 3\\t= \", 2 * 3)\n",
        "\n",
        "# Exponentiation:\n",
        "\n",
        "print(\"2 ** 3\\t= \", 2 ** 3)\n",
        "\n",
        "# Floating-point division:\n",
        "\n",
        "print(\"8 / 3\\t= \", 8 / 3)\n",
        "\n",
        "# Integer division:\n",
        "\n",
        "print(\"8 // 3\\t= \", 8 // 3)\n",
        " \n",
        "# Modulus (remainder):\n",
        "# a % b is equal to a - ((a // b) * b).\n",
        "\n",
        "print(\"11 % 2\\t= \", 8 % 3)"
      ],
      "metadata": {
        "id": "Tc16VI_CxwvN",
        "colab": {
          "base_uri": "https://localhost:8080/"
        },
        "outputId": "df09aea3-1c27-45d0-f8cc-e081aae7072c"
      },
      "execution_count": null,
      "outputs": [
        {
          "output_type": "stream",
          "name": "stdout",
          "text": [
            "1 + 1\t=  2\n",
            "2 - 1\t=  1\n",
            "2 * 3\t=  6\n",
            "2 ** 3\t=  8\n",
            "8 / 3\t=  2.6666666666666665\n",
            "8 // 3\t=  2\n",
            "11 % 2\t=  2\n"
          ]
        }
      ]
    },
    {
      "cell_type": "markdown",
      "source": [
        "### _Ejercicio: Operadores aritméticos_\n",
        "\n",
        "Dadas dos tuplas de dos elementos contenidas en las variables `vector_1` y `vector_2`, crear una variable `distance` que contenga el resultado de calcular la distancia entre ambas.\n",
        "\n",
        "Sólo podrás utilizar operaciones aritméticas básicas (definidas en el apartado actual)."
      ],
      "metadata": {
        "id": "zurBYu9tItto"
      }
    },
    {
      "cell_type": "code",
      "source": [
        "# Do not modify this (base data):\n",
        "\n",
        "vector_1 = (0, 0)\n",
        "vector_2 = (1, 1)\n",
        "\n",
        "# Write your code below:\n",
        "\n"
      ],
      "metadata": {
        "id": "LNZXiMqAIeYx"
      },
      "execution_count": null,
      "outputs": []
    },
    {
      "cell_type": "markdown",
      "source": [
        "## Operadores de asignación\n",
        "\n",
        "Este tipo de operadores cumplen la función de asignar un valor a una variable, pero pueden combinarse con operadores aritméticos para ofrecer una funcionalidad más completa y compacta.\n",
        "\n",
        "Tipos de operador:\n",
        "* **Asignación (`=`)**: asigna un valor dado a una variable.\n",
        "* **Asignación y suma (`+=`)**: suma al valor de una variable un valor dado y asigna el resultado a la propia variable.\n",
        "* **Asignación y resta (`-=`)**: resta al valor de una variable un valor dado y asigna el resultado a la propia variable.\n",
        "* **Asignación y multiplicación (`*=`)**: multiplica el valor de una variable por un valor dado y asigna el resultado a la propia variable.\n",
        "* __Asignación y exponenciación (`**=`)__: eleva el valor de una variable a un valor dado y asigna el resultado a la propia variable.\n",
        "* **Asignación y división flotante (`/=`)**: divide el valor de una variable entre un valor dado y asigna el resultado (flotante) a la propia variable.\n",
        "* **Asignación y división entera (`//=`)**: divide el valor de una variable entre un valor dado y asigna el resultado (entero) a la propia variable.\n",
        "* **Asignación y división de módulo (`%=`)**: divide el valor de una variable entre un valor dado y asigna el resto a la propia variable."
      ],
      "metadata": {
        "id": "L0Ol7imCFdVM"
      }
    },
    {
      "cell_type": "code",
      "source": [
        "# Assignation:\n",
        "\n",
        "variable = 1  # The value is now 1.\n",
        "\n",
        "# Assignation and addition:\n",
        "\n",
        "variable += 1  # The value is now 2.\n",
        "\n",
        "# Assignation and subtraction:\n",
        "\n",
        "variable -= 3  # The value is now -1.\n",
        "\n",
        "# Assignation and multiplication:\n",
        "\n",
        "variable *= -2  # The value is now 2.\n",
        "\n",
        "# Assignation and exponentiation:\n",
        "\n",
        "variable **= 2  # The value is now 4.\n",
        "\n",
        "# Assignation and floating-point division:\n",
        "\n",
        "variable /= 1  # The value is now 4.0.\n",
        "\n",
        "# Assignation and integer division:\n",
        "\n",
        "variable //= 1  # The value is now 2.\n",
        "\n",
        "# Assignation and modulus division:\n",
        "\n",
        "variable %= 1  # The value is now 1."
      ],
      "metadata": {
        "id": "TcGUhU4jFnPJ"
      },
      "execution_count": null,
      "outputs": []
    },
    {
      "cell_type": "markdown",
      "source": [
        "## Operadores de comparación\n",
        "\n",
        "Este tipo de operadores permiten comparar valores numéricos siguiendo las reglas aritméticas correspondientes.\n",
        "\n",
        "Tipos de operador:\n",
        "* **Igual que (`==`)**: indica si dos elementos son iguales.\n",
        "* **Distinto de (`!=`)**: indica si dos elementos son diferentes.\n",
        "* **Menor que (`<`)**: indica si el primer elemento es menor que el segundo.\n",
        "* **Mayor que (`>`)**: indica si el primer elemento es mayor que el segundo.\n",
        "* **Menor o igual que (`<=`)**: indica si el primer elemento es menor o igual que el segundo.\n",
        "* **Mayor o igual que (`>=`)**: indica si el primer elemento es mayor o igual que el segundo."
      ],
      "metadata": {
        "id": "otcmnO8RIkYs"
      }
    },
    {
      "cell_type": "code",
      "source": [
        "# Equal to:\n",
        "\n",
        "print(\"1 == 1\\t: \", 1 == 1)\n",
        "\n",
        "# Different than:\n",
        "\n",
        "print(\"2 != 1\\t: \", 2 != 1)\n",
        "\n",
        "# Lower than:\n",
        "\n",
        "print(\"2 < 3\\t: \", 2 < 3)\n",
        "\n",
        "# Greater than:\n",
        "\n",
        "print(f\"2 > 3\\t: \", 2 > 3)\n",
        "\n",
        "# Lower than or equal to:\n",
        "\n",
        "print(f\"3 <= 3\\t: \", 8 <= 3)\n",
        "\n",
        "# Greater than or equal to:\n",
        "\n",
        "print(f\"2 >= 3\\t: \", 8 >= 3)"
      ],
      "metadata": {
        "id": "9Rrq5lAWNGsa",
        "colab": {
          "base_uri": "https://localhost:8080/"
        },
        "outputId": "78cb50c0-e7af-4cfb-82cf-9a1e6e8fbaaa"
      },
      "execution_count": null,
      "outputs": [
        {
          "output_type": "stream",
          "name": "stdout",
          "text": [
            "1 == 1\t:  True\n",
            "2 != 1\t:  True\n",
            "2 < 3\t:  True\n",
            "2 > 3\t:  False\n",
            "3 <= 3\t:  False\n",
            "2 >= 3\t:  True\n"
          ]
        }
      ]
    },
    {
      "cell_type": "markdown",
      "source": [
        "## Operadores lógicos\n",
        "\n",
        "Los operadores lógicos sirven para combinar valores booleanos y devolver otro valor booleano que responda a las normas de lógica proposicional establecidas por cada operación.\n",
        "\n",
        "Tipos de operadores:\n",
        "* **No (`not`)**: niega el valor booleano de un elemento.\n",
        "* **Y (`and`)**: comprueba si los valores de dos elementos booleanos es verdadero.\n",
        "* **O (`or`)**: comprueba si todos o alguno de valores de dos elementos booleanos es verdadero."
      ],
      "metadata": {
        "id": "JLqDKf6pN_tT"
      }
    },
    {
      "cell_type": "code",
      "source": [
        "# Not:\n",
        "\n",
        "print(\"not True\\t: \", not True)\n",
        "\n",
        "# And:\n",
        "\n",
        "print(\"True and False\\t: \", True and False)\n",
        "\n",
        "# Or:\n",
        "\n",
        "print(\"True or False\\t: \", True or False)\n",
        "\n",
        "# Xor:\n",
        "\n",
        "print(\"True xor False\\t: \", True ^ True)"
      ],
      "metadata": {
        "id": "z5FvYb8pO3x9",
        "colab": {
          "base_uri": "https://localhost:8080/"
        },
        "outputId": "7dbbf23a-43d9-4ce8-b5e9-02b3ba8aea81"
      },
      "execution_count": null,
      "outputs": [
        {
          "output_type": "stream",
          "name": "stdout",
          "text": [
            "not True\t:  False\n",
            "True and False\t:  False\n",
            "True or False\t:  True\n",
            "True xor False\t:  False\n"
          ]
        }
      ]
    },
    {
      "cell_type": "markdown",
      "source": [
        "# Estructuras de decisión: ¿qué camino sigue el programa?\n",
        "\n",
        "Las estructuras de decisión son instrucciones que, dependiendo de una condición determinada, pueden generar flujos de ejecución alternativos para el programa, alterando su linealidad."
      ],
      "metadata": {
        "id": "jgM44_91PJ6u"
      }
    },
    {
      "cell_type": "markdown",
      "source": [
        "## Condicional simple\n",
        "\n",
        "El condicional simple (_if_) consiste en una sola instrucción que determina si una condición es cierta. En caso de que lo sea, ejecuta el código que contiene."
      ],
      "metadata": {
        "id": "CZ-ETOLYPT4y"
      }
    },
    {
      "cell_type": "code",
      "source": [
        "# If statement:\n",
        "\n",
        "variable = 2\n",
        "\n",
        "if variable == 2:\n",
        "  print(\"The value of the variable is 2!\")"
      ],
      "metadata": {
        "id": "TFY1IcfdPd37"
      },
      "execution_count": null,
      "outputs": []
    },
    {
      "cell_type": "markdown",
      "source": [
        "## Condicional cerrado\n",
        "\n",
        "El condicional cerrado (_if-else_) consiste en dos instrucciones: la primera determina si una condición es cierta, y si lo es, ejecuta el bloque de código asociado. La segunda ejecuta el bloque de código asociado en caso de que la condición de la primera no sea cierta."
      ],
      "metadata": {
        "id": "xQhhJaLuPkl2"
      }
    },
    {
      "cell_type": "code",
      "source": [
        "# If-else:\n",
        "\n",
        "variable = 3\n",
        "\n",
        "if variable == 2:\n",
        "  print(\"The value of the variable is 2!\")\n",
        "  \n",
        "else:\n",
        "  print(\"The value of the variable is not 2!\")"
      ],
      "metadata": {
        "id": "nDAMug-KP79G"
      },
      "execution_count": null,
      "outputs": []
    },
    {
      "cell_type": "markdown",
      "source": [
        "## Condicional compuesto cerrado\n",
        "\n",
        "El condicional compuesto cerrado (_if-elif-else_) consiste en una serie de instrucciones, encabezadas por un `if` que evalúa si una condición determinada es cierta, seguida de una serie de instrucciones `elif` que evalúan si una condición es cierta sólamente cuando ninguna de las evaluadas anteriormente lo haya sido. Finalmente, contiene un `else` que ejecuta un bloque de código en caso de que ninguna de las condiciones haya sido cierta."
      ],
      "metadata": {
        "id": "_IKeLXMdQEF1"
      }
    },
    {
      "cell_type": "code",
      "source": [
        "# If-elif-else:\n",
        "\n",
        "variable = 4\n",
        "\n",
        "if variable < 0:\n",
        "  print(\"The value is negative!\")\n",
        "\n",
        "elif variable >= 1:  # This is True and it has been executed.\n",
        "  print(\"The value is greater or equal to 1!\")\n",
        "\n",
        "elif variable == 4:  # This is True, yet it has not been executed.\n",
        "  print(\"The value is 4\")\n",
        "  \n",
        "else:\n",
        "  print(\"The value must be located between 0 and 1...\")"
      ],
      "metadata": {
        "id": "2iB6piNTRinW",
        "colab": {
          "base_uri": "https://localhost:8080/"
        },
        "outputId": "f91854fa-5c52-43f8-c8ad-12f34c25d18d"
      },
      "execution_count": null,
      "outputs": [
        {
          "output_type": "stream",
          "name": "stdout",
          "text": [
            "The value is greater or equal to 1!\n"
          ]
        }
      ]
    },
    {
      "cell_type": "markdown",
      "source": [
        "### Nota: condicional compuesto cerrado vs. condicionales simples consecutivos\n",
        "\n",
        "Es interesante observar que la instrucción `elif` deja de considerar evaluaciones posteriores si se cumple su condición. Esto no ocurre con los condicionales simples consecutivos, como se puede observar en el ejemplo inferior:"
      ],
      "metadata": {
        "id": "LloG-xx5SQGC"
      }
    },
    {
      "cell_type": "code",
      "source": [
        "# Consecutive ifs:\n",
        "\n",
        "variable = 4\n",
        "\n",
        "if variable < 0:\n",
        "  print(\"The value is negative!\")\n",
        "\n",
        "if variable >= 1:  # This is True and it has been executed.\n",
        "  print(\"The value is greater or equal to 1!\")\n",
        "  \n",
        "if variable == 4:  # This is True and it has been executed.\n",
        "  print(\"The value is 4\")"
      ],
      "metadata": {
        "id": "V2RH6FADSDII",
        "colab": {
          "base_uri": "https://localhost:8080/"
        },
        "outputId": "59816938-1fe8-41df-e21d-9476d2ebe9f9"
      },
      "execution_count": null,
      "outputs": [
        {
          "output_type": "stream",
          "name": "stdout",
          "text": [
            "The value is greater or equal to 1!\n",
            "The value is 4\n"
          ]
        }
      ]
    },
    {
      "cell_type": "markdown",
      "source": [
        "# Estructuras de repetición, repetición, repetición...\n",
        "\n",
        "**Iteración**: ciclo de repetición de una instrucción o bloque de instrucciones.\n",
        "\n",
        "Las estructuras de repetición permiten realizar instrucciones varias veces de manera rápida y cómoda. En Python, existen dos variantes para estas estructuras."
      ],
      "metadata": {
        "id": "t1Nuzv4eToRj"
      }
    },
    {
      "cell_type": "markdown",
      "source": [
        "## Iteración en rango determinado (secuencia)\n",
        "\n",
        "La iteración de rango se realiza un número limitado de veces. Para ello, se utiliza una variable contadora de repeticiones y un tipo de datos secuencial que contiene las repeticiones.\n",
        "\n",
        "En Python, el iterador de rango es el bucle `for`. Su estructura se puede apreciar en el ejemplo inferior:"
      ],
      "metadata": {
        "id": "1NYNq9EITycR"
      }
    },
    {
      "cell_type": "code",
      "source": [
        "# For loop:\n",
        "\n",
        "variable = 3\n",
        "items = [1, 2, 3, 'a', 'b', 'c']\n",
        "\n",
        "for i in items:\n",
        "  print(\"Current element: \", i)"
      ],
      "metadata": {
        "id": "KcyGVhswUSOS",
        "colab": {
          "base_uri": "https://localhost:8080/"
        },
        "outputId": "6da1bed5-dc9d-4e8e-a6f6-4733471b8b5d"
      },
      "execution_count": null,
      "outputs": [
        {
          "output_type": "stream",
          "name": "stdout",
          "text": [
            "Current element:  1\n",
            "Current element:  2\n",
            "Current element:  3\n",
            "Current element:  a\n",
            "Current element:  b\n",
            "Current element:  c\n"
          ]
        }
      ]
    },
    {
      "cell_type": "markdown",
      "source": [
        "## Iteración de rango indeterminado (condición)\n",
        "\n",
        "La iteración de condición se realiza un número indeterminado de veces, siempre y cuando se cumpla que la condición sea cierta.\n",
        "\n",
        "En Python, el iterador de condición es el bucle `while`. Su estructura se puede apreciar en el ejemplo inferior:"
      ],
      "metadata": {
        "id": "KJm94r6hUtCA"
      }
    },
    {
      "cell_type": "code",
      "source": [
        "# While loop:\n",
        "\n",
        "variable = 2\n",
        "iterations = 0\n",
        "\n",
        "while variable > 0:\n",
        "  print(\"This is iteration number \", iterations)\n",
        "  \n",
        "  # Execution break statement:\n",
        "  iterations += 1\n",
        "  if iterations == 20:\n",
        "    break"
      ],
      "metadata": {
        "id": "QIwD4YjcU_Sj",
        "colab": {
          "base_uri": "https://localhost:8080/"
        },
        "outputId": "e212c8a8-aaf8-4d35-ad61-8cb4b4b50758"
      },
      "execution_count": null,
      "outputs": [
        {
          "output_type": "stream",
          "name": "stdout",
          "text": [
            "This is iteration number  0\n",
            "This is iteration number  1\n",
            "This is iteration number  2\n",
            "This is iteration number  3\n",
            "This is iteration number  4\n",
            "This is iteration number  5\n",
            "This is iteration number  6\n",
            "This is iteration number  7\n",
            "This is iteration number  8\n",
            "This is iteration number  9\n",
            "This is iteration number  10\n",
            "This is iteration number  11\n",
            "This is iteration number  12\n",
            "This is iteration number  13\n",
            "This is iteration number  14\n",
            "This is iteration number  15\n",
            "This is iteration number  16\n",
            "This is iteration number  17\n",
            "This is iteration number  18\n",
            "This is iteration number  19\n"
          ]
        }
      ]
    },
    {
      "cell_type": "markdown",
      "source": [
        "## Estructuras generadas por iteración\n",
        "\n",
        "Python ofrece la posibilidad de generar estructuras mediante iteraciones \"incorporadas\" en la propia estructuras. Este concepto se puede entender mediante el razonamiento de cómo funcionan las estructuras secuenciales. Si contienen una serie de elementos, estos elementos se pueden insertar en ellas mediante un bucle.\n",
        "\n",
        "El procedimiento para generar la estructura mediante iteraciones incorporadas se denomina, en inglés, _comprehension_. Para el caso de las listas, se denomina _list comprehension_; para las tuplas, _tuple comprehension_, para los diccionarios, _dictionary comprehension_, etc."
      ],
      "metadata": {
        "id": "cdH3rWwlVkPd"
      }
    },
    {
      "cell_type": "code",
      "source": [
        "# Filling a list with an iterative structure:\n",
        "\n",
        "list_variable = []\n",
        "print(\"List before loop: \", list_variable)\n",
        "\n",
        "for i in range(0, 10, 1):\n",
        "  list_variable.append(i)  # The append method inserts a value (i) in the list.\n",
        "\n",
        "print(\"List after loop: \", list_variable)"
      ],
      "metadata": {
        "id": "j4rv4wkqXnnA",
        "colab": {
          "base_uri": "https://localhost:8080/"
        },
        "outputId": "877d3790-0803-4497-8cc4-d684f06aa1d8"
      },
      "execution_count": null,
      "outputs": [
        {
          "output_type": "stream",
          "name": "stdout",
          "text": [
            "List before loop:  []\n",
            "List after loop:  [0, 1, 2, 3, 4, 5, 6, 7, 8, 9]\n"
          ]
        }
      ]
    },
    {
      "cell_type": "code",
      "source": [
        "# Filling a list using a list comprehension:\n",
        "\n",
        "list_variable = [i for i in range(10)]\n",
        "print(\"Generated list: \", list_variable)"
      ],
      "metadata": {
        "id": "Y-r9qu8fX3VL",
        "colab": {
          "base_uri": "https://localhost:8080/"
        },
        "outputId": "401ec9cc-8c27-4c68-91e8-973ea44de45f"
      },
      "execution_count": null,
      "outputs": [
        {
          "output_type": "stream",
          "name": "stdout",
          "text": [
            "Generated list:  [0, 1, 2, 3, 4, 5, 6, 7, 8, 9]\n"
          ]
        }
      ]
    },
    {
      "cell_type": "markdown",
      "source": [
        "### _Ejercicio: Estructuras generadas por iteración_\n",
        "\n",
        "Genera una lista mediante una _list comprehension_ y guárdala en una variable llamada `gen_list`. La lista deberá contener un rango de valores entre `0` y `-22` con saltos de 3 en 3 y debe excluir los valores `-6` y `-18`."
      ],
      "metadata": {
        "id": "7K7Q7d31J8_H"
      }
    },
    {
      "cell_type": "code",
      "source": [
        "# Write your code below:\n",
        "\n",
        "\n",
        "\n",
        "# Do not modify this (automatic answer check):\n",
        "\n",
        "assert gen_list == [0, -3, -9, -12, -15, -21], \"Error: incorrect result.\"\n",
        "print(\"OK!\")"
      ],
      "metadata": {
        "id": "hbaMqmq8J8lw"
      },
      "execution_count": null,
      "outputs": []
    },
    {
      "cell_type": "markdown",
      "source": [
        "# Funciones, ¿funciona o no funciona?\n",
        "\n",
        "Las funciones son agrupaciones de código que actúan como cajas negras. Pueden tener cero o más entradas y ofrecen una única salida. En Python, el tipo de dato de salida de una función no es estricto (una misma función puede devolver un Entero y un String, por ejemplo)."
      ],
      "metadata": {
        "id": "X8qXa-M0Yhjp"
      }
    },
    {
      "cell_type": "code",
      "source": [
        "# Function definition:\n",
        "\n",
        "def say_hi():\n",
        "  print(\"Hi!\")\n",
        "\n",
        "# Function call:\n",
        "\n",
        "say_hi()"
      ],
      "metadata": {
        "id": "5hXAb2ziYxwn",
        "colab": {
          "base_uri": "https://localhost:8080/"
        },
        "outputId": "4610b365-175d-4f41-8de2-a8d212e0c425"
      },
      "execution_count": null,
      "outputs": [
        {
          "output_type": "stream",
          "name": "stdout",
          "text": [
            "Hi!\n"
          ]
        }
      ]
    },
    {
      "cell_type": "markdown",
      "source": [
        "## Funciones de argumentos únicos\n",
        "\n",
        "**Argumento**: elemento de entrada de una función.\n",
        "\n",
        "Las funciones de argumentos únicos contienen un numero estable y fijo de argumentos. Estos argumentos pueden ser obligatorios u opcionales (con valor predefinido)."
      ],
      "metadata": {
        "id": "S8jeq3fdY6Xy"
      }
    },
    {
      "cell_type": "markdown",
      "source": [
        "### Argumentos posicionales (positional args)\n",
        "\n",
        "Los argumentos posicionales definidos son aquellos que han sido declarados específicamente en la propia función y que deben ser siempre pasados en su llamada."
      ],
      "metadata": {
        "id": "dmiG35lVZehr"
      }
    },
    {
      "cell_type": "code",
      "source": [
        "# Single positional arguments function:\n",
        "\n",
        "def say_hi(name, status):\n",
        "  print(\"Hi, \" + name + \", you are \" + status + \", right?\")\n",
        "\n",
        "say_hi(\"Queen Elizabeth\", \"dead\")"
      ],
      "metadata": {
        "id": "O_dxo8UOK2zU",
        "colab": {
          "base_uri": "https://localhost:8080/"
        },
        "outputId": "7601a323-d6d1-4fd8-9de1-b63ed2acfe2c"
      },
      "execution_count": null,
      "outputs": [
        {
          "output_type": "stream",
          "name": "stdout",
          "text": [
            "Hi, Queen Elizabeth, you are dead, right?\n"
          ]
        }
      ]
    },
    {
      "cell_type": "markdown",
      "source": [
        "### Argumentos clave-valor (keyword args)\n",
        "\n",
        "Los argumentos clave-valor definidos son aquellos que han sido declarados específicamente en la propia función y que pueden ser pasados en la llamada a la función de manera opcional."
      ],
      "metadata": {
        "id": "3gZQ8rg-HAZn"
      }
    },
    {
      "cell_type": "code",
      "source": [
        "# Single positional arguments function:\n",
        "\n",
        "def say_hi(name, status=\"happy\"):\n",
        "  print(\"Hi, \" + name + \", you are \" + status + \", right?\")\n",
        "\n",
        "say_hi(\"Antonio Quintela\", \"drunk\")\n",
        "say_hi(\"Antonio Quintela\")"
      ],
      "metadata": {
        "id": "22ukBVBzLkBr",
        "colab": {
          "base_uri": "https://localhost:8080/"
        },
        "outputId": "5d28931d-f456-4650-e3ad-6d981f646b92"
      },
      "execution_count": null,
      "outputs": [
        {
          "output_type": "stream",
          "name": "stdout",
          "text": [
            "Hi, Antonio Quintela, you are drunk, right?\n",
            "Hi, Antonio Quintela, you are happy, right?\n"
          ]
        }
      ]
    },
    {
      "cell_type": "markdown",
      "source": [
        "## Fuciones de argumentos variables\n",
        "\n",
        "Las funciones de argumentos variables contienen un número indeterminado de argumentos, no definidos el la propia función. Este tipo de argumentos aceptan cero o más elementos."
      ],
      "metadata": {
        "id": "XxuPAxAHIH82"
      }
    },
    {
      "cell_type": "markdown",
      "source": [
        "### Argumentos posicionales (positional args)"
      ],
      "metadata": {
        "id": "YMZp5or4IP2W"
      }
    },
    {
      "cell_type": "code",
      "source": [
        "# Multiple positional arguments function:\n",
        "\n",
        "def sum_values(*args):\n",
        "  counter = 0\n",
        "  for value in args:\n",
        "    counter += value\n",
        "\n",
        "  return counter\n",
        "\n",
        "print(\"No arguments = \", sum_values())\n",
        "print(\"Arguments 1, 2 = \", sum_values(1, 2))\n",
        "print(\"Arguments 1, 2, 3.14159 = \", sum_values(1, 2, 3.14159))"
      ],
      "metadata": {
        "id": "CvpN7WUcMKc1",
        "colab": {
          "base_uri": "https://localhost:8080/"
        },
        "outputId": "e2b7a31e-5962-4ebb-ff2c-122166d1f2de"
      },
      "execution_count": null,
      "outputs": [
        {
          "output_type": "stream",
          "name": "stdout",
          "text": [
            "No arguments =  0\n",
            "Arguments 1, 2 =  3\n",
            "Arguments 1, 2, 3.14159 =  6.14159\n"
          ]
        }
      ]
    },
    {
      "cell_type": "markdown",
      "source": [
        "#### _Ejercicio: Argumentos posicionales únicos y variables_\n",
        "\n",
        "Define una función que tome un argumento posicional y más argumentos variables. El primer argumento debe ser el título de una historia. Cada uno de los demás argumentos debe ser una línea de la historia, por ejemplo:\n",
        "\n",
        "> _Título (argumento posicional único)_\n",
        "\n",
        ">> _Línea 1 (argumento posicional variable 1)_\n",
        "\n",
        ">> _Línea 1 (argumento posicional variable 2)_\n",
        "\n",
        "...\n",
        "\n",
        ">> _Línea n (argumento posicional variable n)_\n",
        "\n",
        "La función debe devolver un String con la estructura descrita y el contenido pasado a la función.\n",
        "\n",
        "_**Sugerencia**: para indentar las líneas de texto puedes utilizar el caracter escapado del tabulador '\\t'. Para separar líneas puedes utilizar el caracter escapado de nueva línea '\\n'._"
      ],
      "metadata": {
        "id": "3jCEwYLQLcHo"
      }
    },
    {
      "cell_type": "code",
      "source": [
        "# Write your code below:\n",
        "\n"
      ],
      "metadata": {
        "id": "PuYAJcRlNA7H"
      },
      "execution_count": null,
      "outputs": []
    },
    {
      "cell_type": "markdown",
      "source": [
        "### Argumentos clave-valor (keyword args)"
      ],
      "metadata": {
        "id": "VXOdCTCPIVAu"
      }
    },
    {
      "cell_type": "code",
      "source": [
        "# Multiple keyword arguments function:\n",
        "\n",
        "def generate_report(**kwargs):\n",
        "  for key, value in kwargs.items():\n",
        "    print(\"Name: \", key.capitalize(), \"\\tSalary: \", value)\n",
        "\n",
        "generate_report(\n",
        "    lete=0,\n",
        "    ruben=69,\n",
        "    feijoo=1_476_124 \n",
        ")"
      ],
      "metadata": {
        "id": "MLkFtKFlM78U",
        "colab": {
          "base_uri": "https://localhost:8080/"
        },
        "outputId": "b9f0b70c-fd05-4157-f049-c47bbe263478"
      },
      "execution_count": null,
      "outputs": [
        {
          "output_type": "stream",
          "name": "stdout",
          "text": [
            "Name:  Lete \tSalary:  0\n",
            "Name:  Ruben \tSalary:  69\n",
            "Name:  Feijoo \tSalary:  1476124\n"
          ]
        }
      ]
    },
    {
      "cell_type": "markdown",
      "source": [
        "## Strings de documentación (_docstrings_)\n",
        "\n",
        "Los Strings de documentación sirven para indicar qué hace una función en concreto. Permiten utilizar la función estándar `help` para mostrar su documentación en pantalla según se ejecuta el programa.\n",
        "\n",
        "Los _docstrings_ de funciones se sitúan inmediatamente debajo de la línea que define la función (`def ...`). Se inician con tres dobles comillas, al lado de las cuales se indica un resumen (una línea) de lo que hace la función. Tras esa línea se inserta otra en blanco, y posteriormente se procede a realizar una explicación detallada del desarrollo de la función.\n",
        "\n",
        "Veamos como crear una función sencilla con un _docstring_."
      ],
      "metadata": {
        "id": "n_6EgSf5wVBH"
      }
    },
    {
      "cell_type": "code",
      "source": [
        "# Docstring example:\n",
        "\n",
        "def sum_values(*args):\n",
        "  \"\"\"Sums several values passed as arguments.\n",
        "\n",
        "  This method allows the user to sum up multiple values of data types int and\n",
        "  float. The output is a single value (the combination of all the inputs).\n",
        "  \"\"\"\n",
        "\n",
        "  counter = 0\n",
        "  for value in args:\n",
        "    counter += value\n",
        "\n",
        "  return counter\n",
        "\n",
        "help(sum_values)  # Docstring visualization via `help` method."
      ],
      "metadata": {
        "id": "qf0XHWsFwp_n",
        "colab": {
          "base_uri": "https://localhost:8080/"
        },
        "outputId": "9ca5a634-d44e-47a6-e4ee-5056ae3e804b"
      },
      "execution_count": null,
      "outputs": [
        {
          "output_type": "stream",
          "name": "stdout",
          "text": [
            "Help on function sum_values in module __main__:\n",
            "\n",
            "sum_values(*args)\n",
            "    Sums several values passed as arguments.\n",
            "    \n",
            "    This method allows the user to sum up multiple values of data types int and\n",
            "    float. The output is a single value (the combination of all the inputs).\n",
            "\n"
          ]
        }
      ]
    },
    {
      "cell_type": "markdown",
      "source": [
        "# Clases y objetos\n",
        "\n",
        "**Instancia**: generación individual y específica de una clase.\n",
        "\n",
        "Las clases son el elemento principal de la programación con Python. Los objetos son instancias de una clase, pudiendo tener valores específicos para ciertos componentes de la misma, que permiten diferenciar objetos distintos.\n",
        "\n",
        "Realmente, cada elemento en Python es un objeto (¡incluso las propias clases!), por lo que la explicación siguiente puede ofrecer mucha claridad sobre el funcionamiento del lenguaje."
      ],
      "metadata": {
        "id": "1qhIr4_eIcWO"
      }
    },
    {
      "cell_type": "markdown",
      "source": [
        "## Los elementos inanimados: atributos\n",
        "\n",
        "Los atributos son variables ligadas a una instancia de una clase. Funcionan como cualquier variable normal, sólo que contienen una referencia al propio objeto que permite operar de manera interna con ellos.\n",
        "\n",
        "Esta referencia es, concretamente, la palabra `self`, que en inglés significa \"uno mismo\" o \"sobre sí mismo\". Como se puede deducir, dicha referencia indica que todo lo que vaya ligado a ella estará relacionado internamente con la clase a la que señala."
      ],
      "metadata": {
        "id": "BtYd_VPjsdfL"
      }
    },
    {
      "cell_type": "markdown",
      "source": [
        "## Los elementos animados: métodos\n",
        "\n",
        "Los métodos de una clase son funciones normales y corrientes que pueden actuar de manera interna en la propia clase, quedando su acceso restringido desde fuera de la misma."
      ],
      "metadata": {
        "id": "ZAlj9cKHIfsG"
      }
    },
    {
      "cell_type": "markdown",
      "source": [
        "### La base: el constructor\n",
        "\n",
        "El constructor es una función o método fundamental para cada clase. Permite generar instancias de la misma con valores específicos que se le podrán pasar como argumentos.\n",
        "\n",
        "Que no os asuste el nombre, es una función muy sencilla con un comportamiento _super_ predecible."
      ],
      "metadata": {
        "id": "ACS12vgvswhM"
      }
    },
    {
      "cell_type": "code",
      "source": [
        "# Basic class example 1:\n",
        "\n",
        "# Class definition:\n",
        "\n",
        "class Cube:\n",
        "\n",
        "  def __init__(self):  # Constructor method.\n",
        "    self.color = \"red\"\n",
        "    self.size = 3\n",
        "\n",
        "# Class instantiation:\n",
        "\n",
        "my_cube = Cube()  # This calls the constructor method.\n",
        "\n",
        "print(Cube)\n",
        "print(my_cube)\n",
        "\n",
        "print(\"Cube color: \", my_cube.color)\n",
        "print(\"Cube size: \", my_cube.size)"
      ],
      "metadata": {
        "id": "0gJXXbcAtNzF",
        "colab": {
          "base_uri": "https://localhost:8080/"
        },
        "outputId": "43cf066b-4563-41ed-b9ae-3f4ae7515ada"
      },
      "execution_count": null,
      "outputs": [
        {
          "output_type": "stream",
          "name": "stdout",
          "text": [
            "<class '__main__.Cube'>\n",
            "<__main__.Cube object at 0x7fd4ea88f1d0>\n",
            "Cube color:  red\n",
            "Cube size:  3\n"
          ]
        }
      ]
    },
    {
      "cell_type": "markdown",
      "source": [
        "En este ejemplo, sin embargo, se puede apreciar que aunque se creen diversos objetos a partir de la clase `Car`, todos ellos tendrán el color rojo y 5 puertas. Conviene entonces añadir algo de funcionalidad que permita personalizar el objeto como tal."
      ],
      "metadata": {
        "id": "-Gi7FPnNtsr0"
      }
    },
    {
      "cell_type": "code",
      "source": [
        "# Basic class example 2:\n",
        "\n",
        "class Cube:\n",
        "\n",
        "  def __init__(self, color, size):\n",
        "    self.color = color\n",
        "    self.size = size\n",
        "\n",
        "\n",
        "my_cube = Cube(\"blue\", 3)\n",
        "\n",
        "print(\"Cube color: \", my_cube.color)\n",
        "print(\"Cube size: \", my_cube.size)"
      ],
      "metadata": {
        "id": "avetJ-_xt5kc",
        "colab": {
          "base_uri": "https://localhost:8080/"
        },
        "outputId": "fb3b6bba-c77a-4fdd-8111-baecd522de5e"
      },
      "execution_count": null,
      "outputs": [
        {
          "output_type": "stream",
          "name": "stdout",
          "text": [
            "Cube color:  blue\n",
            "Cube size:  3\n"
          ]
        }
      ]
    },
    {
      "cell_type": "markdown",
      "source": [
        "### Métodos propios\n",
        "\n",
        "Los métodos propios son todas aquellas funcionalidades implementadas por el usuario de manera manual, que contengan una rutina personalizada.\n",
        "\n",
        "Una vez más, siguen siendo métodos, por lo que la definición de la función no es nada del otro mundo.\n",
        "\n",
        "Vamos a añadir una función que haga rebotar al cubo creado anteriormente:"
      ],
      "metadata": {
        "id": "q2uvqKvhJLLV"
      }
    },
    {
      "cell_type": "code",
      "source": [
        "# Basic class example 3:\n",
        "\n",
        "class Cube:\n",
        "\n",
        "  def __init__(self, color, size):\n",
        "    self.color = color\n",
        "    self.size = size\n",
        "\n",
        "  def bounce(self):  # Custom method.\n",
        "    print(\"Boing!\")\n",
        "\n",
        "\n",
        "my_cube = Cube(\"blue\", 3)\n",
        "\n",
        "print(\"Cube color: \", my_cube.color)\n",
        "print(\"Cube size: \", my_cube.size)\n",
        "\n",
        "for _ in range(3):\n",
        "  my_cube.bounce()"
      ],
      "metadata": {
        "id": "fu8Yupf7vC81",
        "colab": {
          "base_uri": "https://localhost:8080/"
        },
        "outputId": "c680ee07-b7ca-4b64-cec6-2d0f7056b142"
      },
      "execution_count": null,
      "outputs": [
        {
          "output_type": "stream",
          "name": "stdout",
          "text": [
            "Cube color:  blue\n",
            "Cube size:  3\n",
            "Boing!\n",
            "Boing!\n",
            "Boing!\n"
          ]
        }
      ]
    },
    {
      "cell_type": "markdown",
      "source": [
        "### Métodos mágicos\n",
        "\n",
        "Los métodos mágicos son rutinas especiales que permiten a la clase interactuar con estructuras básicas de Python, como pueden ser la función `len`, las operaciones sobre elementos e incluso su representación en pantalla.\n",
        "\n",
        "Dichos métodos se definen encapsulados entre dos barras bajas (`__`). Si lo estais pensando... efectivamente: ¡el constructor es un método mágico!\n",
        "\n",
        "Vamos a añadirle al cubo la posibilidad de operar correctamente con la función estándar `len`: "
      ],
      "metadata": {
        "id": "POOEAcmfJQGV"
      }
    },
    {
      "cell_type": "code",
      "source": [
        "# Basic class example 4:\n",
        "\n",
        "class Cube:\n",
        "\n",
        "  def __init__(self, color, size):\n",
        "    self.color = color\n",
        "    self.size = size\n",
        "\n",
        "  def bounce(self):\n",
        "    print(\"Boing!\")\n",
        "\n",
        "  def __len__(self):  # Magic method.\n",
        "    return self.size\n",
        "\n",
        "\n",
        "my_cube = Cube(\"blue\", 3)\n",
        "\n",
        "print(\"Cube color: \", my_cube.color)\n",
        "print(\"Cube size: \", len(my_cube))  # New method call."
      ],
      "metadata": {
        "id": "miiHLu9Cv4En",
        "colab": {
          "base_uri": "https://localhost:8080/"
        },
        "outputId": "a9a50765-d73b-456e-e73e-3e2d6480c710"
      },
      "execution_count": null,
      "outputs": [
        {
          "output_type": "stream",
          "name": "stdout",
          "text": [
            "Cube color:  blue\n",
            "Cube size:  3\n"
          ]
        }
      ]
    },
    {
      "cell_type": "markdown",
      "source": [
        "## Visibilidad de métodos\n",
        "\n",
        "Python permite visualizar una lista de métodos definidos para cada clase. La función utilizada para ello es `dir`. Se le pasa como argumento la clase en cuestión (no el objeto)."
      ],
      "metadata": {
        "id": "T-nW8msnJTGF"
      }
    },
    {
      "cell_type": "code",
      "source": [
        "# Method visualization:\n",
        "\n",
        "class Cube:\n",
        "\n",
        "  def __init__(self, color, size):\n",
        "    self.color = color\n",
        "    self.size = size\n",
        "\n",
        "  def bounce(self):\n",
        "    print(\"Boing!\")\n",
        "\n",
        "  def __len__(self):\n",
        "    return self.size\n",
        "\n",
        "\n",
        "print(dir(Cube))"
      ],
      "metadata": {
        "id": "XpBHvBlrxu3g",
        "colab": {
          "base_uri": "https://localhost:8080/"
        },
        "outputId": "583975b3-02c5-4de0-edce-a95b316f8595"
      },
      "execution_count": null,
      "outputs": [
        {
          "output_type": "stream",
          "name": "stdout",
          "text": [
            "['__class__', '__delattr__', '__dict__', '__dir__', '__doc__', '__eq__', '__format__', '__ge__', '__getattribute__', '__gt__', '__hash__', '__init__', '__init_subclass__', '__le__', '__len__', '__lt__', '__module__', '__ne__', '__new__', '__reduce__', '__reduce_ex__', '__repr__', '__setattr__', '__sizeof__', '__str__', '__subclasshook__', '__weakref__', 'bounce']\n"
          ]
        }
      ]
    },
    {
      "cell_type": "markdown",
      "source": [
        "Como se puede apreciar, hay multitud de métodos mágicos definidos en la clase, a pesar de no haberlos definido manualmente. Esto se debe a que Python genera una plantilla de clase con cada definición de la misma, para evitar posibles errores de compatibilidad.\n",
        "\n",
        "Al final de la lista se puede encontrar el método `bounce` definido con anterioridad."
      ],
      "metadata": {
        "id": "msXJhPwKyjV5"
      }
    },
    {
      "cell_type": "markdown",
      "source": [
        "### Privatización de métodos y atributos\n",
        "\n",
        "Python no tiene niveles de restricción de acceso (otros lenguajes, como Java, sí). Sin embargo, existe cierta funcionalidad y convención que establece cómo definir un atributo o método de una clase para denotar que no debería ser accesible por el usuario.\n",
        "\n",
        "Existen tres niveles de privatización, dependiendo de la cantidad de barras bajas que precedan al nombre del atributo o método que se define:\n",
        "\n",
        "* __Público__: ninguna barra baja (*p.ej.: `bounce`*).\n",
        "* __Protegido__: una barra baja (*p.ej.: `_bounce`*).\n",
        "* __Privado__: dos barras bajas (*p.ej.: `__bounce`*).\n",
        "\n",
        "Los métodos públicos deberían ser accesibles dentro y fuera de la clase. Los métodos protegidos deberían ser accesibles fuera de la clase, pero no utilizados públicamente. Los métodos privados deberían ser utilizados sólo dentro de la clase."
      ],
      "metadata": {
        "id": "lgPTvEC83m0W"
      }
    },
    {
      "cell_type": "markdown",
      "source": [
        "#### *Ejercicio: Privatización de métodos y atributos*\n",
        "\n",
        "Crea una clase llamada Coche que contenga tres atributos: `color`, `license_plate` y `VIN_number`. Los atributos deberán ser público, protegido y privado, respectivamente.\n",
        "\n",
        "Seguidamente, crea una instancia de la clase mediante su constructor e intenta imprimir en pantalla los valores de los tres atributos creados. ¿Qué dificultades observas según incrementa el nivel de privatización?"
      ],
      "metadata": {
        "id": "fdV43WEB4gHW"
      }
    },
    {
      "cell_type": "code",
      "source": [
        "# Write your code below:\n",
        "\n"
      ],
      "metadata": {
        "id": "VBfvVwL84fqP"
      },
      "execution_count": null,
      "outputs": []
    },
    {
      "cell_type": "markdown",
      "source": [
        "## Decoradores\n",
        "\n",
        "Los decoradores son funciones que reciben como argumento otra función. En este curso no se verán en profundidad debido a la complejidad que pueden añadir, pero se utilizarán un par de ejemplos muy básicos de los mismos que permiten estructurar las clases de una manera más organizada."
      ],
      "metadata": {
        "id": "x1W1BVL-PqPQ"
      }
    },
    {
      "cell_type": "markdown",
      "source": [
        "### Getters y setters\n",
        "\n",
        "Los _getters_ y _setters_ son métodos especiales destinados a establecer y visualizar los valores de los atributos de una clase. Esto es especialmente útil cuando se quiere permitir al usuario el establecimiento del valor de un atributo pero se quiere controlar ese proceso (por ejemplo, para evitar entradas de tipos de datos incorrectos).\n",
        "\n",
        "Los _getters_ se definen mediante como sigue:"
      ],
      "metadata": {
        "id": "a8QPiK_QPvPP"
      }
    },
    {
      "cell_type": "code",
      "source": [
        "# Getter definition:\n",
        "\n",
        "class Cube:\n",
        "\n",
        "  def __init__(self, color, size):\n",
        "    self._color = color\n",
        "    self._size = size\n",
        "\n",
        "  @property  # This indicates that the method is a getter.\n",
        "  def color(self):  # This defines the getter.\n",
        "    return self._color  # Returns the value of the protected attribute.\n",
        "\n",
        "  def bounce(self):\n",
        "    print(\"Boing!\")\n",
        "\n",
        "  def __len__(self):\n",
        "    return self._size"
      ],
      "metadata": {
        "id": "J_oqizb5QP5_"
      },
      "execution_count": null,
      "outputs": []
    },
    {
      "cell_type": "markdown",
      "source": [
        "De un modo similar se definen también los _setters_, pero hay que tener en cuenta que no se puede definir un setter sin que exista un _getter_."
      ],
      "metadata": {
        "id": "w8vShhMQQluw"
      }
    },
    {
      "cell_type": "code",
      "source": [
        "# Setter definition:\n",
        "\n",
        "class Cube:\n",
        "\n",
        "  def __init__(self, color, size):\n",
        "    self._color = color\n",
        "    self._size = size\n",
        "\n",
        "  @property\n",
        "  def color(self):\n",
        "    return self._color\n",
        "\n",
        "  @color.setter  # This indicates that the method is a setter.\n",
        "  def color(self, value):  # The value argument is the new attribute value.\n",
        "    # Type check:\n",
        "    if not isinstance(value, str):\n",
        "      raise TypeError(\"the value must be a `str` type.\")\n",
        "    \n",
        "    self._color = value  # Assigns the value to the protected attribute.\n",
        "\n",
        "  def bounce(self):\n",
        "    print(\"Boing!\")\n",
        "\n",
        "  def __len__(self):\n",
        "    return self._size"
      ],
      "metadata": {
        "id": "I772UxpnQxYN"
      },
      "execution_count": null,
      "outputs": []
    },
    {
      "cell_type": "code",
      "source": [
        "# Attribute modification:\n",
        "\n",
        "# Class definition:\n",
        "\n",
        "class Cube:\n",
        "\n",
        "  def __init__(self, color, size):\n",
        "    self._color = color\n",
        "    self._size = size\n",
        "\n",
        "  @property\n",
        "  def color(self):\n",
        "    return self._color\n",
        "\n",
        "  @color.setter\n",
        "  def color(self, value):\n",
        "    if not isinstance(value, str):\n",
        "      raise TypeError(\"the value must be a `str` type.\")\n",
        "    \n",
        "    self._color = value\n",
        "\n",
        "# Class instantiation:\n",
        "\n",
        "cube = Cube(\"red\", 21)\n",
        "\n",
        "print(\"Color: \", cube.color)\n",
        "print(\"Size: \", cube._size)\n",
        "\n",
        "cube.color = \"blue\"\n",
        "\n",
        "print(\"Color: \", cube.color)\n",
        "print(\"Size: \", cube._size)"
      ],
      "metadata": {
        "id": "abM5--q2UlnX",
        "colab": {
          "base_uri": "https://localhost:8080/"
        },
        "outputId": "c76ecc1e-1ed9-4176-cbbd-fbb61507d4d3"
      },
      "execution_count": null,
      "outputs": [
        {
          "output_type": "stream",
          "name": "stdout",
          "text": [
            "Color:  red\n",
            "Size:  21\n",
            "Color:  blue\n",
            "Size:  21\n"
          ]
        }
      ]
    },
    {
      "cell_type": "markdown",
      "source": [
        "# Herencia de clases\n",
        "\n",
        "Dado que Python es un lenguaje orientado a objetos que se basa en las clases, también dispone de las funciones básicas de su paradigma. De hecho, Python permite no sólo la herencia de clases, sino la herencia múltiple. Esto quiere decir que una clase hijo puede tener cero o más clases padre.\n",
        "\n",
        "Generalmente, es una buena práctica definir una clase con estructura de interfaz para que luego otra clase con funcionalidades específicas la herede."
      ],
      "metadata": {
        "id": "r-Rz_VPURUv3"
      }
    },
    {
      "cell_type": "code",
      "source": [
        "# Class inheritance:\n",
        "\n",
        "# Parent class 1:\n",
        "\n",
        "class Human:\n",
        "  \n",
        "  HOME_PLANET = \"Earth\"\n",
        "  HOME_GALAXY = \"Milky Way\"\n",
        "\n",
        "# Parent class 2:\n",
        "\n",
        "class Worker:\n",
        "  \n",
        "  def __init__(self, salary):\n",
        "    self.salary = salary\n",
        "\n",
        "  @property\n",
        "  def salary(self):\n",
        "    return self._salary\n",
        "\n",
        "  @salary.setter\n",
        "  def salary(self, value):\n",
        "    if not isinstance(value, (int, float)):\n",
        "      raise TypeError(\"the salary must be a float or integer.\")\n",
        "\n",
        "    self._salary = value\n",
        "\n",
        "# Child class:\n",
        "\n",
        "class AverageSpanishPerson(Human, Worker):\n",
        "  def __init__(self, name, age, mood, salary):\n",
        "    self.name = name\n",
        "    self.age = age\n",
        "    self.mood = mood\n",
        "    super().__init__(salary)\n",
        "\n",
        "  @property\n",
        "  def name(self):\n",
        "    return self._name\n",
        "\n",
        "  @name.setter\n",
        "  def name(self, value):\n",
        "    if not isinstance(value, str):\n",
        "      raise TypeError(\"name must be a string.\")\n",
        "\n",
        "    self._name = value\n",
        "\n",
        "  @property\n",
        "  def age(self):\n",
        "    return self._age\n",
        "\n",
        "  @age.setter\n",
        "  def age(self, value):\n",
        "    if not isinstance(value, int):\n",
        "      raise TypeError(\"age must be an integer.\")\n",
        "\n",
        "    self._age = value\n",
        "\n",
        "  @property\n",
        "  def mood(self):\n",
        "    return self._mood\n",
        "\n",
        "  @mood.setter\n",
        "  def mood(self, value):\n",
        "    if not isinstance(value, str):\n",
        "      raise TypeError(\"mood must be a string.\")\n",
        "    \n",
        "    self._mood = value\n",
        "\n",
        "# Class instantiation:\n",
        "\n",
        "lete = AverageSpanishPerson(\"Lete\", 20, \"Stressed\", 0)\n",
        "print(\"Name: \", lete.name)\n",
        "print(\"Age: \", lete.age)\n",
        "print(\"Mood: \", lete.mood)\n",
        "print(\"Salary: \", lete.salary)\n",
        "print(\"Home planet: \", lete.HOME_PLANET)\n",
        "print(\"Home galaxy: \", lete.HOME_GALAXY)"
      ],
      "metadata": {
        "colab": {
          "base_uri": "https://localhost:8080/"
        },
        "id": "ueTNYesJRv5X",
        "outputId": "392bad1a-239b-429f-f552-71adcee811a8"
      },
      "execution_count": null,
      "outputs": [
        {
          "output_type": "stream",
          "name": "stdout",
          "text": [
            "Name:  Lete\n",
            "Age:  20\n",
            "Mood:  Stressed\n",
            "Salary:  0\n",
            "Home planet:  Earth\n",
            "Home galaxy:  Milky Way\n"
          ]
        }
      ]
    },
    {
      "cell_type": "markdown",
      "source": [
        "# _Ejercicio final_\n",
        "\n",
        "Crea una clase para manejar números complejos Esta ha de permitir suma, resta, multiplicacion, division, igualdad y ha de poder convertise en cadena con el formato \"a + bi\". Ten en cuenta que `i**2 = -1`."
      ],
      "metadata": {
        "id": "4x2sVx3jVD1N"
      }
    },
    {
      "cell_type": "code",
      "source": [
        "# Write your code below:\n",
        "\n"
      ],
      "metadata": {
        "id": "tmgKK2CqVN1-"
      },
      "execution_count": null,
      "outputs": []
    }
  ]
}