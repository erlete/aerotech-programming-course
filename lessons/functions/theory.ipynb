{
  "cells": [
    {
      "cell_type": "markdown",
      "metadata": {},
      "source": [
        "> Remember to create a branch named `functions`\n",
        "\n",
        "# **Functions**\n",
        "\n",
        "Here's what you will learn in this lesson:\n",
        "\n",
        "- **Definition** - Custom function definitions\n",
        "- **Return values** - Data generated from functions\n",
        "- **Arguments** - Data introduced to functions\n",
        "  - **Fixed arguments**\n",
        "  - **Variable arguments**\n",
        "- **Docstrings** - Advanced documentation method for Python "
      ]
    },
    {
      "attachments": {},
      "cell_type": "markdown",
      "metadata": {
        "id": "X8qXa-M0Yhjp"
      },
      "source": [
        "## **Custom function definition**\n",
        "\n",
        "Functions are statement groups that act as black boxes. They can have zero or more inputs and offer a single output. In Python, the output data type of a function is not strict (a same function can return an Integer and a String, for example)."
      ]
    },
    {
      "cell_type": "code",
      "execution_count": null,
      "metadata": {},
      "outputs": [],
      "source": [
        "# Function definition:\n",
        "\n",
        "def say_hi():\n",
        "    print(\"Hi!\")\n",
        "\n",
        "# Function call:\n",
        "\n",
        "say_hi()\n"
      ]
    },
    {
      "attachments": {},
      "cell_type": "markdown",
      "metadata": {},
      "source": [
        "## **Return values**\n",
        "\n",
        "The return value of a function is the value that is returned to the caller of the function. The return value is specified with the `return` keyword.\n",
        "\n",
        "Functions that do not return any values return the `None` element. These are called void functions."
      ]
    },
    {
      "cell_type": "code",
      "execution_count": null,
      "metadata": {},
      "outputs": [],
      "source": [
        "def void_function():\n",
        "    print(\"This function doesn't return anything.\")\n",
        "\n",
        "def return_function():\n",
        "    return 42  # This is the answer to life, the universe, and everything.\n"
      ]
    },
    {
      "attachments": {},
      "cell_type": "markdown",
      "metadata": {},
      "source": [
        "### ***Exercise 19: Return values***\n",
        "\n",
        "Steps:\n",
        "\n",
        "1. Design a function named `get_100` that does not accept any arguments and returns the value `100`. No need to call it, just define it.\n",
        "\n",
        "- [Click here to open the script in the editor](./exercises/exercise_19.py)\n",
        "- Test the script using `Ctrl + Shift + P` > `Tasks: Run Task` > `Test exercise`"
      ]
    },
    {
      "attachments": {},
      "cell_type": "markdown",
      "metadata": {},
      "source": [
        "## **Arguments**\n",
        "\n",
        "Arguments are the values that are passed to a function when it is called. They can be of any type, including other functions.\n",
        "\n",
        "Arguments can be classified in two types, depending on whether they are mandatory or optional:\n",
        "\n",
        "- **Positional arguments**: arguments that must be passed to a function in the same order they are defined. They are represented as a single value (i.e. `1`)\n",
        "- **Keyword (default) arguments**: arguments that can be passed to a function in any order, as long as they are identified by a name. They are defined with a default value that is used if they are not passed to the function. They are represented as a name-value pair (i.e. `name=\"John\"`).\n",
        "\n",
        "**Observation**: positional arguments must be defined before keyword arguments.\n",
        "\n",
        "Furthermore, arguments can be classified in another two types, depending on whether they are fixed or variable:\n",
        "\n",
        "- **Fixed arguments**: arguments that must be passed to a function in a fixed number. They are represented as a tuple of values (i.e. `(1, 2, 3)`)\n",
        "- **Variable arguments**: arguments that can be passed to a function in an indeterminate number. They are represented as a dictionary of name-value pairs (i.e. `{'name': \"John\", 'age': 23}`)\n",
        "\n",
        "**Observation**: fixed arguments must be defined before variable arguments."
      ]
    },
    {
      "attachments": {},
      "cell_type": "markdown",
      "metadata": {},
      "source": [
        "### **Fixed argument functions**\n",
        "\n",
        "Fixed argument functions are functions that require a fixed number of arguments to be passed to them. These arguments can be mandatory or optional."
      ]
    },
    {
      "attachments": {},
      "cell_type": "markdown",
      "metadata": {},
      "source": [
        "#### **Positional arguments**"
      ]
    },
    {
      "cell_type": "code",
      "execution_count": null,
      "metadata": {},
      "outputs": [],
      "source": [
        "# Definition with positional arguments:\n",
        "\n",
        "def my_function(a, b, c):\n",
        "    print(\"Calling function...\")\n",
        "    print(\"a: \", a)\n",
        "    print(\"b: \", b)\n",
        "    print(\"c: \", c)\n",
        "    print()\n",
        "\n",
        "# Function call:\n",
        "\n",
        "my_function(1, 2, 3)\n",
        "my_function(\"John\", \"Doe\", 42)\n",
        "\n",
        "# Attempting to run this function with less or more arguments will result in an error.\n",
        "# Uncomment the following lines to see the error (but remember to comment them again later!):\n",
        "\n",
        "# my_function(1, 2)\n",
        "# my_function(1, 2, 3, 4)\n"
      ]
    },
    {
      "attachments": {},
      "cell_type": "markdown",
      "metadata": {},
      "source": [
        "#### **Keyword (default) arguments**"
      ]
    },
    {
      "cell_type": "code",
      "execution_count": null,
      "metadata": {},
      "outputs": [],
      "source": [
        "# Definition with keyword (default) arguments:\n",
        "\n",
        "def my_function(a=\"default_a\", b=\"default_b\", c=\"default_c\"):\n",
        "    print(\"Calling function...\")\n",
        "    print(\"a: \", a)\n",
        "    print(\"b: \", b)\n",
        "    print(\"c: \", c)\n",
        "    print()\n",
        "\n",
        "# Function call:\n",
        "\n",
        "my_function()\n",
        "my_function(1)\n",
        "my_function(1, 2)\n",
        "my_function(1, 2, 3)\n",
        "\n",
        "# Attempting to run this function with more arguments will result in an error.\n",
        "# Uncomment the following line to see the error (but remember to comment it again later!):\n",
        "\n",
        "# my_function(1, 2, 3, 4)\n",
        "\n",
        "# Function call with named arguments:\n",
        "\n",
        "my_function(a=1, b=2, c=3)\n",
        "my_function(c=3, b=2, a=1)  # Order does not matter while all arguments are named.\n"
      ]
    },
    {
      "attachments": {},
      "cell_type": "markdown",
      "metadata": {},
      "source": [
        "#### ***Exercise 20: Fixed argument functions***\n",
        "\n",
        "Steps:\n",
        "\n",
        "1. Design a function named `can_buy` that accepts a positional argument `cost` and a keyword argument `balance`. It should return a boolean value indicating whether the balance is enough to pay the cost. The `balance` argument must default to `0` if it is not passed to the function.\n",
        "\n",
        "- [Click here to open the script in the editor](./exercises/exercise_20.py)\n",
        "- Test the script using `Ctrl + Shift + P` > `Tasks: Run Task` > `Test exercise`"
      ]
    },
    {
      "attachments": {},
      "cell_type": "markdown",
      "metadata": {},
      "source": [
        "### **Variable argument functions**\n",
        "\n",
        "Variable argument functions are functions that can receive an indeterminate number of arguments. These arguments can be variable or keyword."
      ]
    },
    {
      "attachments": {},
      "cell_type": "markdown",
      "metadata": {},
      "source": [
        "#### **Positional arguments**"
      ]
    },
    {
      "cell_type": "code",
      "execution_count": null,
      "metadata": {},
      "outputs": [],
      "source": [
        "# Definition with variable arguments:\n",
        "\n",
        "def my_function(*args):\n",
        "    print(\"Calling my function...\")\n",
        "    print(\"Arguments\", args)\n",
        "\n",
        "# Function call:\n",
        "\n",
        "my_function()\n",
        "my_function(1)\n",
        "my_function(1, 2)\n",
        "my_function(1, 2, 3)\n",
        "\n",
        "# Attempting to run this function with keyword arguments will result in an error.\n",
        "# Uncomment the following line to see the error (but remember to comment it again later!):\n",
        "\n",
        "# my_function(1, 2, 3, last=4)\n"
      ]
    },
    {
      "attachments": {},
      "cell_type": "markdown",
      "metadata": {},
      "source": [
        "#### **Keyword (default) arguments**"
      ]
    },
    {
      "cell_type": "code",
      "execution_count": null,
      "metadata": {},
      "outputs": [],
      "source": [
        "# Definition with keyword arguments:\n",
        "\n",
        "def my_function(**kwargs):\n",
        "    print(\"Calling my function...\")\n",
        "    print(\"Arguments\", kwargs)\n",
        "\n",
        "# Function call:\n",
        "\n",
        "my_function()\n",
        "my_function(name=\"John\")\n",
        "my_function(name=\"John\", age=30)\n",
        "\n",
        "# Attempting to run this function with variable arguments will result in an error.\n",
        "# Uncomment the following line to see the error (but remember to comment it again later!):\n",
        "\n",
        "# my_function(\"John\", age=30)\n"
      ]
    },
    {
      "cell_type": "code",
      "execution_count": null,
      "metadata": {},
      "outputs": [],
      "source": [
        "# Complex function example:\n",
        "\n",
        "def complex_function(a, b, c=123, *args, **kwargs):\n",
        "    print(\"First positional argument: \", a)\n",
        "    print(\"Second positional argument: \", b)\n",
        "    print(\"First keyword (default) argument: \", c)\n",
        "    print(\"Variable positional arguments: \", args)\n",
        "    print(\"Variable keyword (positional) arguments: \", kwargs)\n"
      ]
    },
    {
      "attachments": {},
      "cell_type": "markdown",
      "metadata": {},
      "source": [
        "#### ***Exercise 21: Variable argument functions***\n",
        "\n",
        "Steps:\n",
        "\n",
        "1. Find information about a function that accepts a sequence of elements and returns their **sum**.\n",
        "1. Design a function named `sum_up` that accepts indefinite positional arguments and returns the double of the sum of all of them.\n",
        "\n",
        "- [Click here to open the script in the editor](./exercises/exercise_21.py)\n",
        "- Test the script using `Ctrl + Shift + P` > `Tasks: Run Task` > `Test exercise`"
      ]
    },
    {
      "attachments": {},
      "cell_type": "markdown",
      "metadata": {
        "id": "n_6EgSf5wVBH"
      },
      "source": [
        "## **Docstrings**\n",
        "\n",
        "Docstrings are strings that are used to document functions. They are used by the standard function `help` to display the documentation of a function when the program is executed.\n",
        "\n",
        "As expected, they have a very specific structure and location. They must be placed immediately below the line that defines the function (`def ...`). They start with three double quotes, followed by a summary of what the function does (one line) in imperative mood. After that line, a blank line is inserted, and then the detailed explanation of the function is written. Finally, a new line with three double quotes is inserted and closes the docstring.\n",
        "\n",
        "There are many documentation formats. One of the most appealing and easy to read is the [Google Style Docstring Format](https://sphinxcontrib-napoleon.readthedocs.io/en/latest/example_google.html)."
      ]
    },
    {
      "cell_type": "code",
      "execution_count": null,
      "metadata": {},
      "outputs": [],
      "source": [
        "def dosctring_example(arg1, arg2=0):\n",
        "    \"\"\"Do something with arg1 and arg2.\n",
        "\n",
        "    This method does something extremely important and useful with arg1 and\n",
        "    arg2. The very important thing it does can be understood thanks to this\n",
        "    docstring, which is highly informative.\n",
        "\n",
        "    Args:\n",
        "        arg1 (int): The first argument.\n",
        "        arg2 (int, optional): The second argument. Defaults to 0.\n",
        "\n",
        "    Returns:\n",
        "        int: The result of the very important thing this method does.\n",
        "    \"\"\"  # No spaces after this line and the first instruction.\n",
        "    return arg1 + arg2\n",
        "\n",
        "\n",
        "help(dosctring_example)  # Docstring visualization via `help` method.\n"
      ]
    },
    {
      "cell_type": "markdown",
      "metadata": {},
      "source": [
        "## **Block example 3: Fast range normalization operation**\n",
        "\n",
        "Sometimes it can be really useful to normalize a set of input values in a specified range, that is:\n",
        "\n",
        "- If the input value is lower than the specified `MIN` value, set it to `MIN`\n",
        "- If the input value is between `MIN` and `MAX` values, keep the original input\n",
        "- If the input value is greater than the specified `MAX` value, set it to `MAX`\n",
        "\n",
        "There is a really simple way to do this:"
      ]
    },
    {
      "cell_type": "code",
      "execution_count": null,
      "metadata": {},
      "outputs": [],
      "source": [
        "from random import randrange\n",
        "\n",
        "MIN = 69\n",
        "MAX = 420\n",
        "VALUES = [randrange(-1000, 1000) for i in range(100)]\n",
        "\n",
        "for value in VALUES:\n",
        "\n",
        "    limited_value = # Fill expression here.\n",
        "\n",
        "    # Tests:\n",
        "    assert MIN <= limited_value <= MAX, \\\n",
        "        f\"Value {limited_value} is not in range [{MIN}, {MAX}]\"\n",
        "\n",
        "print(\"All tests passed!\")\n"
      ]
    },
    {
      "attachments": {},
      "cell_type": "markdown",
      "metadata": {},
      "source": [
        "> Remember to create a pull request for branch `functions`\n",
        "\n",
        "# **Navigation**\n",
        "\n",
        "- **Previous lesson**: [Iteration structures](../iteration-structures/theory.ipynb)\n",
        "- **Next lesson**: [Classes](../classes/theory.ipynb)"
      ]
    }
  ],
  "metadata": {
    "colab": {
      "collapsed_sections": [],
      "provenance": []
    },
    "kernelspec": {
      "display_name": "Python 3",
      "language": "python",
      "name": "python3"
    },
    "language_info": {
      "codemirror_mode": {
        "name": "ipython",
        "version": 3
      },
      "file_extension": ".py",
      "mimetype": "text/x-python",
      "name": "python",
      "nbconvert_exporter": "python",
      "pygments_lexer": "ipython3",
      "version": "3.11.1"
    },
    "vscode": {
      "interpreter": {
        "hash": "5238573367df39f7286bb46f9ff5f08f63a01a80960060ce41e3c79b190280fa"
      }
    }
  },
  "nbformat": 4,
  "nbformat_minor": 0
}
