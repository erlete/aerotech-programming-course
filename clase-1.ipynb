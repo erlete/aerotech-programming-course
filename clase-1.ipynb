{
  "nbformat": 4,
  "nbformat_minor": 0,
  "metadata": {
    "colab": {
      "provenance": [],
      "authorship_tag": "ABX9TyM+bO1F13Zl7USFAO7z5Ku5",
      "include_colab_link": true
    },
    "kernelspec": {
      "name": "python3",
      "display_name": "Python 3"
    },
    "language_info": {
      "name": "python"
    }
  },
  "cells": [
    {
      "cell_type": "markdown",
      "metadata": {
        "id": "view-in-github",
        "colab_type": "text"
      },
      "source": [
        "<a href=\"https://colab.research.google.com/github/erlete/curso-python-motorsport/blob/master/clase-1.ipynb\" target=\"_parent\"><img src=\"https://colab.research.google.com/assets/colab-badge.svg\" alt=\"Open In Colab\"/></a>"
      ]
    },
    {
      "cell_type": "code",
      "execution_count": null,
      "metadata": {
        "id": "__fHhL5HT5RQ"
      },
      "outputs": [],
      "source": []
    },
    {
      "cell_type": "markdown",
      "source": [
        "# Clase 1\n",
        "\n",
        "Este es el notebook interactivo de la primera clase del curso de Python para UVigo Motorsport (2022 - 2023).\n",
        "\n",
        "## Guión de contenidos\n",
        "\n",
        "1. ¿Qué es Python?\n",
        "2. ¿Dónde elaborar y ejecutar código en Python?\n",
        "3. Tipos de datos\n",
        "  31. Literales y variables\n",
        "  32. Tipos de datos no secuenciales\n",
        "  33. Tipos de datos secuenciales\n",
        "  34. Tipos de datos mutables e inmutables\n",
        "4. Estructuras de decisión\n",
        "  41. Condicional if\n",
        "  42. Condicional if-else\n",
        "  43. Condicional if-elif-else\n",
        "5. Estructuras de repetición\n",
        "  51. Bucle for\n",
        "  52. Bucle while\n",
        "  53. Estructuras generadas por iteración\n",
        "6. Funciones\n",
        "  61. Funciones de parámetros definidos\n",
        "    611. Parámetros posicionales\n",
        "    612. Parámetros clave-valor\n",
        "  62. Funciones de parámetros indefinidos\n",
        "    621. Parámetros posicionales\n",
        "    622. Parámetros clave-valor\n",
        "7. Clases y objetos\n",
        "  71. El constructor\n",
        "  72. Atributos\n",
        "  73. Instancias de una clase (objetos)\n",
        "  74. Métodos de instancia, de clase y estáticos\n",
        "8. Importación de paquetes"
      ],
      "metadata": {
        "id": "iQy4mx5LUj5r"
      }
    }
  ]
}