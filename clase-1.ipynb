{
  "nbformat": 4,
  "nbformat_minor": 0,
  "metadata": {
    "colab": {
      "provenance": [],
      "toc_visible": true,
      "authorship_tag": "ABX9TyME096ajXtlAy5q8Rf3RVj0",
      "include_colab_link": true
    },
    "kernelspec": {
      "name": "python3",
      "display_name": "Python 3"
    },
    "language_info": {
      "name": "python"
    }
  },
  "cells": [
    {
      "cell_type": "markdown",
      "metadata": {
        "id": "view-in-github",
        "colab_type": "text"
      },
      "source": [
        "<a href=\"https://colab.research.google.com/github/erlete/curso-python-motorsport/blob/master/clase-1.ipynb\" target=\"_parent\"><img src=\"https://colab.research.google.com/assets/colab-badge.svg\" alt=\"Open In Colab\"/></a>"
      ]
    },
    {
      "cell_type": "markdown",
      "source": [
        "# Guion de contenidos\n",
        "\n",
        "Este es el notebook interactivo de la primera clase del curso de Python para UVigo Motorsport (2022 - 2023).\n",
        "\n",
        "## Guión de contenidos\n",
        "\n",
        "1. ¿Qué es Python?\n",
        "2. ¿Dónde elaborar y ejecutar código en Python?\n",
        "3. Tipos de datos\n",
        "  * Literales y variables\n",
        "  * Tipos de datos no secuenciales\n",
        "  * Tipos de datos secuenciales\n",
        "  * Tipos de datos mutables e inmutables\n",
        "4. Operadores\n",
        "  * Aritméticos\n",
        "  * De asignación\n",
        "  * Comparativos\n",
        "  * Lógicos\n",
        "4. Estructuras de decisión\n",
        "  * Condicional if\n",
        "  * Condicional if-else\n",
        "  * Condicional if-elif-else\n",
        "5. Estructuras de repetición\n",
        "  * Bucle for\n",
        "  * Bucle while\n",
        "  * Estructuras generadas por iteración\n",
        "6. Funciones\n",
        "  * Funciones de parámetros definidos\n",
        "    * Parámetros posicionales\n",
        "    * Parámetros clave-valor\n",
        "  * Funciones de parámetros indefinidos\n",
        "    * Parámetros posicionales\n",
        "    * Parámetros clave-valor\n",
        "7. Clases y objetos\n",
        "  * El constructor\n",
        "  * Atributos\n",
        "  * Instancias de una clase (objetos)\n",
        "  * Métodos de instancia, de clase y estáticos\n",
        "8. Importación de paquetes"
      ],
      "metadata": {
        "id": "iQy4mx5LUj5r"
      }
    },
    {
      "cell_type": "markdown",
      "source": [
        "# ¿Qué es Python?\n",
        "\n",
        "Python es un lenguaje interpretado, orientado a objetos y multipropósito. Tiene gran variedad de aplicaciones y extensiones de su funcionalidad."
      ],
      "metadata": {
        "id": "fa0IqaRlUL0P"
      }
    },
    {
      "cell_type": "markdown",
      "source": [
        "# ¿Dónde elaborar y ejecutar código en Python?\n",
        "\n",
        "Se puede escribir código en Python desde la terminal (consola), el propio IDE de Python o cualquier editor de texto/código disponible hoy en día (recomendable el uso de VSCode).\n",
        "\n",
        "¡Incluso se puede ejecutar desde Google Collab en máquinas virtuales remotas!"
      ],
      "metadata": {
        "id": "Z4WTjn0RUay2"
      }
    },
    {
      "cell_type": "code",
      "source": [
        "# This is a comment.\n",
        "\n",
        "print(\"Hello, World!\")  # This statement prints a phrase to the console."
      ],
      "metadata": {
        "id": "no-CxxrzUz_O"
      },
      "execution_count": null,
      "outputs": []
    },
    {
      "cell_type": "markdown",
      "source": [
        "# Tipos de datos\n",
        "\n",
        "Como todo lenguaje, Python dispone de varios tipos de datos con diferentes peculiaridades, que estudiaremos a continuación."
      ],
      "metadata": {
        "id": "IIWKXTYkU6ow"
      }
    },
    {
      "cell_type": "markdown",
      "source": [
        "## Literales y variables\n",
        "\n",
        "**Literales**: valores genéricos asociados a símbolos concretos o conjuntos de los mismos.\n",
        "\n",
        "**Variables**: referencias a valores genéricos localizados en la memoria del dispositivo que ejecuta el programa.\n",
        "\n",
        "En Python, las variables no están ligadas a un tipo de dato concreto, por lo que se pueden sobreescribir sin errores."
      ],
      "metadata": {
        "id": "e4XETFi_VHlF"
      }
    },
    {
      "cell_type": "code",
      "source": [
        "# This is a literal:\n",
        "\n",
        "2\n",
        "\n",
        "# This is a literal assigned to a variable:\n",
        "\n",
        "variable_1 = 2\n",
        "\n",
        "# Now, you can print the value of the variable on-screen:\n",
        "\n",
        "print(variable_1)"
      ],
      "metadata": {
        "id": "4GwVDrlQVYfW"
      },
      "execution_count": null,
      "outputs": []
    },
    {
      "cell_type": "markdown",
      "source": [
        "### Ejercicio 1: Creación de variables\n",
        "\n",
        "Crea una variable llamada `my_first_variable` que contenga un valor 69."
      ],
      "metadata": {
        "id": "PHk4urEyjaBG"
      }
    },
    {
      "cell_type": "code",
      "source": [
        "# Write your answer below:\n",
        "\n"
      ],
      "metadata": {
        "id": "jA5t7pYcjqAJ"
      },
      "execution_count": null,
      "outputs": []
    },
    {
      "cell_type": "markdown",
      "source": [
        "## Tipos de datos no secuenciales\n",
        "\n",
        "**Secuencialidad**: capacidad de un tipo de dato para definir una secuencia de valores.\n",
        "\n",
        "Los tipos de datos no secuenciales básicos en Python abarcan los Enteros (int), Decimales (float) y Complejos (complex):\n",
        "\n",
        "* **Enteros**: valores numéricos sin parte decimal.\n",
        "* **Decimales**: valores numéricos con parte decimal.\n",
        "* **Complejos**: valores numéricos con parte real y compleja."
      ],
      "metadata": {
        "id": "6oOOkT45XuXu"
      }
    },
    {
      "cell_type": "code",
      "source": [
        "# Let's assign non-sequential values to variables:\n",
        "\n",
        "# Integer value:\n",
        "\n",
        "integer_variable = 1\n",
        "\n",
        "# Float value:\n",
        "\n",
        "float_variable = 1.2\n",
        "\n",
        "# Complex value:\n",
        "\n",
        "complex_variable = 1 + 2j"
      ],
      "metadata": {
        "id": "8tIDwTgtY6r0"
      },
      "execution_count": null,
      "outputs": []
    },
    {
      "cell_type": "markdown",
      "source": [
        "### Ejercicio 2: Tipos de datos no secuenciales\n",
        "\n",
        "Crea dos variables llamadas `var_1` y `var_2` que contengan, respectivamente, el valor de Pi (con cuatro decimales) y el número de horas en un día.\n",
        "\n",
        "En la misma línea de cada variable definida indica, mediante un comentario, el tipo de dato que contiene."
      ],
      "metadata": {
        "id": "T06h9c4SnQJ9"
      }
    },
    {
      "cell_type": "code",
      "source": [
        "# Write your answer below:\n",
        "\n"
      ],
      "metadata": {
        "id": "m0OQRNY3oDkW"
      },
      "execution_count": null,
      "outputs": []
    },
    {
      "cell_type": "markdown",
      "source": [
        "## Tipos de datos secuenciales\n",
        "\n",
        "Los tipos de datos secuenciales básicos en Python abarcan los Strings (str), Tuplas (tuple), Listas (list), Sets (set) y Diccionarios (dict):\n",
        "\n",
        "* **Strings**: conjuntos ordenados de caracteres.\n",
        "* **Tuplas/Listas**: conjuntos ordenados de elementos.\n",
        "* **Sets**: conjuntos no ordenados de elementos.\n",
        "* **Diccionarios**: conjuntos de elementos relacionados mediante pares clave-valor."
      ],
      "metadata": {
        "id": "aQZD0ZaVY7bL"
      }
    },
    {
      "cell_type": "code",
      "source": [
        "# Let's assign sequential values to a variable:\n",
        "\n",
        "# String value:\n",
        "\n",
        "string_value = \"Strong string strung in the stream\"\n",
        "\n",
        "# Tuple value:\n",
        "\n",
        "tuple_variable = (1, 2, 3)\n",
        "\n",
        "# List value:\n",
        "\n",
        "list_variable = [1, 2, 3]\n",
        "\n",
        "# Set value:\n",
        "\n",
        "set_variable = {1, 2, 3}\n",
        "\n",
        "# Dictionary value:\n",
        "\n",
        "dictionary_variable = {\n",
        "    \"key_1\": \"value_1\",\n",
        "    \"key_2\": \"value_2\",\n",
        "}"
      ],
      "metadata": {
        "id": "TzUhnhAeYCl-"
      },
      "execution_count": null,
      "outputs": []
    },
    {
      "cell_type": "markdown",
      "source": [
        "### Ejercicio 3: Tipos de datos secuenciales\n",
        "\n",
        "Crea tres variables (llámalas como quieras) que contengan los siguientes datos:\n",
        "\n",
        "1. Lista con valores del 1 al 5 (incluidos).\n",
        "2. Set con valores del -2 al 0 (incluidos).\n",
        "3. String con los caracteres 'a', 'b' y 'c'.\n",
        "4. Lista de las palabras contenidas en la frase \"I'm learning Python\".\n",
        "5. Diccionario que relacione las claves de \"seconds\", \"minutes\" y \"hours\" con la cantidad de los segundos, minutos y horas que hay en un día (respectivamente)."
      ],
      "metadata": {
        "id": "OnnQ2dKwoNti"
      }
    },
    {
      "cell_type": "code",
      "source": [
        "# Write your answer below:\n",
        "\n"
      ],
      "metadata": {
        "id": "jGlGKBt4pRUV"
      },
      "execution_count": null,
      "outputs": []
    },
    {
      "cell_type": "markdown",
      "source": [
        "## Tipos de datos mutables e inmutables\n",
        "\n",
        "**Mutabilidad**: capacidad de un tipo de dato para cambiar alguno o todos los valores que lo componen.\n",
        "\n",
        "TODO"
      ],
      "metadata": {
        "id": "yCP4FGmZbloz"
      }
    },
    {
      "cell_type": "markdown",
      "source": [
        "## Cambio de tipo de datos (*type casting*)\n",
        "\n",
        "Python permite cambiar el tipo de datos de sus elementos con cierta flexibilidad. De este modo, es posible convertir un Decimal en un Entero y viceversa, pero (por ejemplo) no es posible convertir un String a un Entero."
      ],
      "metadata": {
        "id": "-wLghVJBcgTI"
      }
    },
    {
      "cell_type": "code",
      "source": [
        "# This is a float value assigned to a variable:\n",
        "\n",
        "variable = 6.9\n",
        "print(\"The value of the variable is: \", variable)\n",
        "\n",
        "# Now, its value is being casted into an integer:\n",
        "\n",
        "variable = int(variable)  # The value will be truncated (not rounded).\n",
        "print(\"The value of the variable is: \", variable)"
      ],
      "metadata": {
        "id": "l-OQZayYc23i"
      },
      "execution_count": null,
      "outputs": []
    },
    {
      "cell_type": "markdown",
      "source": [
        "### Ejercicio 5: Cambio de tipo de datos (1)\n",
        "\n",
        "Convierte un entero cualquiera a un float y asigna el resultado a una variable. Seguidamente, convierte un float cualquiera a un entero y asigna el resultado a otra variable distinta.\n",
        "\n",
        "Finalmente, imprime los resultados en pantalla."
      ],
      "metadata": {
        "id": "gyh4tAzSpoSS"
      }
    },
    {
      "cell_type": "code",
      "source": [
        "# Write your answer below:\n",
        "\n"
      ],
      "metadata": {
        "id": "L7VuDxdOpnc3"
      },
      "execution_count": null,
      "outputs": []
    },
    {
      "cell_type": "markdown",
      "source": [
        "### Ejercicio 6: Cambio de tipo de datos (2)\n",
        "\n",
        "Prueba a crear una variable que contenga un String e intenta cambiar el tipo de datos de dicha variable a Entero. ¿Qué ocurre?"
      ],
      "metadata": {
        "id": "nZiRVHwsrBLL"
      }
    },
    {
      "cell_type": "code",
      "source": [
        "# Write your answer below:\n",
        "\n"
      ],
      "metadata": {
        "id": "hX_DdzpYrEjm"
      },
      "execution_count": null,
      "outputs": []
    },
    {
      "cell_type": "markdown",
      "source": [
        "## Booleano... ¿verdadero o falso?\n",
        "\n",
        "El tipo de dato Booleano (bool) es el que actúa sobre cualquier instrucción de Python de manera interna, sin que nadie se dé cuenta.\n",
        "\n",
        "Las variantes de este dato son los literales True y False.\n",
        "\n",
        "Un dato curioso acerca de este tipo de dato es que cualquier otro tipo de dato en Python lo contiene, implícitamente. En otras palabras, cualquier tipo de dato en Python puede ser *casteado* a booleano, como se puede ver a continuación:"
      ],
      "metadata": {
        "id": "TQp5fZDvcFYV"
      }
    },
    {
      "cell_type": "code",
      "source": [
        "# Boolean casting for every basic data type in Python:\n",
        "\n",
        "print(\"Boolean value of True: \", bool(True))\n",
        "print(\"Boolean value of False: \", bool(False))\n",
        "\n",
        "print(\"Boolean value of 1: \", bool(1))\n",
        "print(\"Boolean value of 1.2: \", bool(1.2))\n",
        "print(\"Boolean value of 1 + 2j:\", bool(1 + 2j))\n",
        "\n",
        "print(\"Boolean value of 'Hello':\", bool(\"Hello\"))\n",
        "print(\"Boolean value of (1, 2, 3):\", bool((1, 2, 3)))\n",
        "print(\"Boolean value of [1, 2, 3]:\", bool([1, 2, 3]))\n",
        "print(\"Boolean value of {1, 2, 3}:\", bool({1, 2, 3}))\n",
        "print(\"Boolean value of {'key_1': 'value_1'}:\", bool({\"key_1\": \"value_1\"}))"
      ],
      "metadata": {
        "id": "ic8oWd8Gdo_L"
      },
      "execution_count": null,
      "outputs": []
    },
    {
      "cell_type": "code",
      "source": [
        "# Wait... what?\n",
        "\n",
        "print(\"Boolean value of the boolean type: \", bool(bool))\n",
        "print(\"Boolean value of a generic boolean value: \", bool(bool()))"
      ],
      "metadata": {
        "id": "tYn7pXnRfZbr"
      },
      "execution_count": null,
      "outputs": []
    },
    {
      "cell_type": "markdown",
      "source": [
        "### Ejercicio 6: Booleano\n",
        "\n",
        "Crea una serie de variables (mínimo 5, máximo 6) que contengan distintos tipos de datos (los que quieras, con los contenidos que te parezca) e imprime su valor booleano en pantalla.\n",
        "\n",
        "_**Sugerencia**: prueba a crear una lista vacía y una tupla con varios elementos y razona por qué sus valores booleanos son, respectivamente, `False` y `True`._"
      ],
      "metadata": {
        "id": "El2v0RFbp_D_"
      }
    },
    {
      "cell_type": "code",
      "source": [
        "# Write your answer below:\n",
        "\n"
      ],
      "metadata": {
        "id": "-xdxgipCsUmQ"
      },
      "execution_count": null,
      "outputs": []
    },
    {
      "cell_type": "markdown",
      "source": [
        "# Operadores\n",
        "\n",
        "En Python existen una serie de operadores. Los más simples son los aritméticos, seguidos de los de asignación (que se pueden componer con los anteriores). Posteriormente se encuentran los de comparación, y finalmente, los operadores lógicos."
      ],
      "metadata": {
        "id": "s_sbnh_Ewsgu"
      }
    },
    {
      "cell_type": "markdown",
      "source": [
        "## Aritméticos\n",
        "\n",
        "Este tipo de operadores se encargan de realizar operaciones aritméticas entre términos. Los de suma y resta pueden ser unarios (actúan sobre un elemento) o binarios (relacionan dos elementos)."
      ],
      "metadata": {
        "id": "SvpjY-HSxO1g"
      }
    },
    {
      "cell_type": "code",
      "source": [
        "# Unary operators:\n",
        "\n",
        "# Addition:\n",
        "\n",
        "positive_value = +1  # This is equivalent to 1.\n",
        "\n",
        "# Subtraction:\n",
        "\n",
        "negative_value = -1\n",
        "\n",
        "print(\"Positive: \", positive_value)\n",
        "print(\"Negative: \", negative_value)"
      ],
      "metadata": {
        "id": "GOa8cDAKwxMM",
        "outputId": "3d6216e3-9255-422a-bf41-a21c45fd9c59",
        "colab": {
          "base_uri": "https://localhost:8080/"
        }
      },
      "execution_count": 15,
      "outputs": [
        {
          "output_type": "stream",
          "name": "stdout",
          "text": [
            "Positive:  1\n",
            "Negative:  -1\n"
          ]
        }
      ]
    },
    {
      "cell_type": "code",
      "source": [
        "# Binary operators:\n",
        "\n",
        "# Addition:\n",
        "\n",
        "1 + 1\n",
        "\n",
        "# Subtraction:\n",
        "\n",
        "print(f\"{2 - 1 = }\")\n",
        "\n",
        "# Product:\n",
        "\n",
        "print(f\"{2 * 3 = }\")\n",
        "\n",
        "# Exponent:\n",
        "\n",
        "print(f\"{2 ** 3 = }\")\n",
        "\n",
        "# Division (floating-point):\n",
        "\n",
        "print(f\"{8 / 3 = }\")\n",
        "\n",
        "# Division (integer):\n",
        "\n",
        "print(f\"{8 // 3 = }\")\n",
        "\n",
        "# Modulus (remainder):\n",
        "# a % b is equal to a - ((a // b) * b).\n",
        "\n",
        "print(f\"{8 % 3 = }\")"
      ],
      "metadata": {
        "id": "Tc16VI_CxwvN",
        "outputId": "964129c6-bb5c-4331-cc2b-46f7c5679baf",
        "colab": {
          "base_uri": "https://localhost:8080/",
          "height": 131
        }
      },
      "execution_count": 21,
      "outputs": [
        {
          "output_type": "error",
          "ename": "SyntaxError",
          "evalue": "ignored",
          "traceback": [
            "\u001b[0;36m  File \u001b[0;32m\"<fstring>\"\u001b[0;36m, line \u001b[0;32m1\u001b[0m\n\u001b[0;31m    (2 - 1 = )\u001b[0m\n\u001b[0m           ^\u001b[0m\n\u001b[0;31mSyntaxError\u001b[0m\u001b[0;31m:\u001b[0m invalid syntax\n"
          ]
        }
      ]
    }
  ]
}