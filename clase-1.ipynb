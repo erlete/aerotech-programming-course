{
  "nbformat": 4,
  "nbformat_minor": 0,
  "metadata": {
    "colab": {
      "provenance": [],
      "toc_visible": true,
      "authorship_tag": "ABX9TyPYNQJALSQ85swZjvdlA6XH",
      "include_colab_link": true
    },
    "kernelspec": {
      "name": "python3",
      "display_name": "Python 3"
    },
    "language_info": {
      "name": "python"
    }
  },
  "cells": [
    {
      "cell_type": "markdown",
      "metadata": {
        "id": "view-in-github",
        "colab_type": "text"
      },
      "source": [
        "<a href=\"https://colab.research.google.com/github/erlete/curso-python-motorsport/blob/master/clase-1.ipynb\" target=\"_parent\"><img src=\"https://colab.research.google.com/assets/colab-badge.svg\" alt=\"Open In Colab\"/></a>"
      ]
    },
    {
      "cell_type": "markdown",
      "source": [
        "# Guion de contenidos\n",
        "\n",
        "Este es el notebook interactivo de la primera clase del curso de Python para UVigo Motorsport (2022 - 2023).\n",
        "\n",
        "## Guión de contenidos\n",
        "\n",
        "1. ¿Qué es Python?\n",
        "2. ¿Dónde elaborar y ejecutar código en Python?\n",
        "3. Tipos de datos\n",
        "  * Literales y variables\n",
        "  * Tipos de datos no secuenciales\n",
        "  * Tipos de datos secuenciales\n",
        "  * Tipos de datos mutables e inmutables\n",
        "4. Operadores\n",
        "  * Aritméticos\n",
        "  * De asignación\n",
        "  * Comparativos\n",
        "  * Lógicos\n",
        "4. Estructuras de decisión\n",
        "  * Condicional if\n",
        "  * Condicional if-else\n",
        "  * Condicional if-elif-else\n",
        "5. Estructuras de repetición\n",
        "  * Bucle for\n",
        "  * Bucle while\n",
        "  * Estructuras generadas por iteración\n",
        "6. Funciones\n",
        "  * Funciones de parámetros definidos\n",
        "    * Parámetros posicionales\n",
        "    * Parámetros clave-valor\n",
        "  * Funciones de parámetros indefinidos\n",
        "    * Parámetros posicionales\n",
        "    * Parámetros clave-valor\n",
        "7. Clases y objetos\n",
        "  * El constructor\n",
        "  * Atributos\n",
        "  * Instancias de una clase (objetos)\n",
        "  * Métodos de instancia, de clase y estáticos\n",
        "8. Importación de paquetes"
      ],
      "metadata": {
        "id": "iQy4mx5LUj5r"
      }
    },
    {
      "cell_type": "markdown",
      "source": [
        "# ¿Qué es Python?\n",
        "\n",
        "Python es un lenguaje interpretado, orientado a objetos y multipropósito. Tiene gran variedad de aplicaciones y extensiones de su funcionalidad."
      ],
      "metadata": {
        "id": "fa0IqaRlUL0P"
      }
    },
    {
      "cell_type": "markdown",
      "source": [
        "# ¿Dónde elaborar y ejecutar código en Python?\n",
        "\n",
        "Se puede escribir código en Python desde la terminal (consola), el propio IDE de Python o cualquier editor de texto/código disponible hoy en día (recomendable el uso de VSCode).\n",
        "\n",
        "¡Incluso se puede ejecutar desde Google Collab en máquinas virtuales remotas!"
      ],
      "metadata": {
        "id": "Z4WTjn0RUay2"
      }
    },
    {
      "cell_type": "code",
      "source": [
        "# This is a comment.\n",
        "\n",
        "print(\"Hello, World!\")  # This statement prints a phrase to the console."
      ],
      "metadata": {
        "id": "no-CxxrzUz_O"
      },
      "execution_count": null,
      "outputs": []
    },
    {
      "cell_type": "markdown",
      "source": [
        "# Tipos de datos: maneras de clasificar la información\n",
        "\n",
        "Como todo lenguaje, Python dispone de varios tipos de datos con diferentes peculiaridades, que estudiaremos a continuación."
      ],
      "metadata": {
        "id": "IIWKXTYkU6ow"
      }
    },
    {
      "cell_type": "markdown",
      "source": [
        "## Literales y variables, literalmente\n",
        "\n",
        "**Literales**: valores genéricos asociados a símbolos concretos o conjuntos de los mismos.\n",
        "\n",
        "**Variables**: referencias a valores genéricos localizados en la memoria del dispositivo que ejecuta el programa.\n",
        "\n",
        "En Python, las variables no están ligadas a un tipo de dato concreto, por lo que se pueden sobreescribir sin errores."
      ],
      "metadata": {
        "id": "e4XETFi_VHlF"
      }
    },
    {
      "cell_type": "code",
      "source": [
        "# This is a literal:\n",
        "\n",
        "2\n",
        "\n",
        "# This is a literal assigned to a variable:\n",
        "\n",
        "variable_1 = 2\n",
        "\n",
        "# Now, you can print the value of the variable on-screen:\n",
        "\n",
        "print(variable_1)"
      ],
      "metadata": {
        "id": "4GwVDrlQVYfW"
      },
      "execution_count": null,
      "outputs": []
    },
    {
      "cell_type": "markdown",
      "source": [
        "### Ejercicio 1: Creación de variables\n",
        "\n",
        "Crea una variable llamada `my_first_variable` que contenga un valor 69."
      ],
      "metadata": {
        "id": "PHk4urEyjaBG"
      }
    },
    {
      "cell_type": "code",
      "source": [
        "# Write your answer below:\n",
        "\n"
      ],
      "metadata": {
        "id": "jA5t7pYcjqAJ"
      },
      "execution_count": null,
      "outputs": []
    },
    {
      "cell_type": "markdown",
      "source": [
        "## Tipos de datos no secuenciales\n",
        "\n",
        "**Secuencialidad**: capacidad de un tipo de dato para definir una secuencia de valores.\n",
        "\n",
        "Los tipos de datos no secuenciales básicos en Python abarcan los Enteros (int), Decimales (float) y Complejos (complex):\n",
        "\n",
        "* **Enteros**: valores numéricos sin parte decimal.\n",
        "* **Decimales**: valores numéricos con parte decimal.\n",
        "* **Complejos**: valores numéricos con parte real y compleja."
      ],
      "metadata": {
        "id": "6oOOkT45XuXu"
      }
    },
    {
      "cell_type": "code",
      "source": [
        "# Let's assign non-sequential values to variables:\n",
        "\n",
        "# Integer value:\n",
        "\n",
        "integer_variable = 1\n",
        "\n",
        "# Float value:\n",
        "\n",
        "float_variable = 1.2\n",
        "\n",
        "# Complex value:\n",
        "\n",
        "complex_variable = 1 + 2j"
      ],
      "metadata": {
        "id": "8tIDwTgtY6r0"
      },
      "execution_count": null,
      "outputs": []
    },
    {
      "cell_type": "markdown",
      "source": [
        "### Ejercicio 2: Tipos de datos no secuenciales\n",
        "\n",
        "Crea dos variables llamadas `var_1` y `var_2` que contengan, respectivamente, el valor de Pi (con cuatro decimales) y el número de horas en un día.\n",
        "\n",
        "En la misma línea de cada variable definida indica, mediante un comentario, el tipo de dato que contiene."
      ],
      "metadata": {
        "id": "T06h9c4SnQJ9"
      }
    },
    {
      "cell_type": "code",
      "source": [
        "# Write your answer below:\n",
        "\n"
      ],
      "metadata": {
        "id": "m0OQRNY3oDkW"
      },
      "execution_count": null,
      "outputs": []
    },
    {
      "cell_type": "markdown",
      "source": [
        "## Tipos de datos secuenciales\n",
        "\n",
        "Los tipos de datos secuenciales básicos en Python abarcan los Strings (str), Tuplas (tuple), Listas (list), Sets (set) y Diccionarios (dict):\n",
        "\n",
        "* **Strings**: conjuntos ordenados de caracteres.\n",
        "* **Tuplas/Listas**: conjuntos ordenados de elementos.\n",
        "* **Sets**: conjuntos no ordenados de elementos.\n",
        "* **Diccionarios**: conjuntos de elementos relacionados mediante pares clave-valor."
      ],
      "metadata": {
        "id": "aQZD0ZaVY7bL"
      }
    },
    {
      "cell_type": "code",
      "source": [
        "# Let's assign sequential values to a variable:\n",
        "\n",
        "# String value:\n",
        "\n",
        "string_value = \"Strong string strung in the stream\"\n",
        "\n",
        "# Tuple value:\n",
        "\n",
        "tuple_variable = (1, 2, 3)\n",
        "\n",
        "# List value:\n",
        "\n",
        "list_variable = [1, 2, 3]\n",
        "\n",
        "# Set value:\n",
        "\n",
        "set_variable = {1, 2, 3}\n",
        "\n",
        "# Dictionary value:\n",
        "\n",
        "dictionary_variable = {\n",
        "    \"key_1\": \"value_1\",\n",
        "    \"key_2\": \"value_2\",\n",
        "}"
      ],
      "metadata": {
        "id": "TzUhnhAeYCl-"
      },
      "execution_count": null,
      "outputs": []
    },
    {
      "cell_type": "markdown",
      "source": [
        "### Ejercicio 3: Tipos de datos secuenciales\n",
        "\n",
        "Crea tres variables (llámalas como quieras) que contengan los siguientes datos:\n",
        "\n",
        "1. Lista con valores del 1 al 5 (incluidos).\n",
        "2. Set con valores del -2 al 0 (incluidos).\n",
        "3. String con los caracteres 'a', 'b' y 'c'.\n",
        "4. Lista de las palabras contenidas en la frase \"I'm learning Python\".\n",
        "5. Diccionario que relacione las claves de \"seconds\", \"minutes\" y \"hours\" con la cantidad de los segundos, minutos y horas que hay en un día (respectivamente)."
      ],
      "metadata": {
        "id": "OnnQ2dKwoNti"
      }
    },
    {
      "cell_type": "code",
      "source": [
        "# Write your answer below:\n",
        "\n"
      ],
      "metadata": {
        "id": "jGlGKBt4pRUV"
      },
      "execution_count": null,
      "outputs": []
    },
    {
      "cell_type": "markdown",
      "source": [
        "## Tipos de datos mutables e inmutables\n",
        "\n",
        "**Mutabilidad**: capacidad de un tipo de dato para cambiar alguno o todos los valores que lo componen.\n",
        "\n",
        "TODO"
      ],
      "metadata": {
        "id": "yCP4FGmZbloz"
      }
    },
    {
      "cell_type": "markdown",
      "source": [
        "## Cambio de tipo de datos (*type casting*)\n",
        "\n",
        "Python permite cambiar el tipo de datos de sus elementos con cierta flexibilidad. De este modo, es posible convertir un Decimal en un Entero y viceversa, pero (por ejemplo) no es posible convertir un String a un Entero."
      ],
      "metadata": {
        "id": "-wLghVJBcgTI"
      }
    },
    {
      "cell_type": "code",
      "source": [
        "# This is a float value assigned to a variable:\n",
        "\n",
        "variable = 6.9\n",
        "print(\"The value of the variable is: \", variable)\n",
        "\n",
        "# Now, its value is being casted into an integer:\n",
        "\n",
        "variable = int(variable)  # The value will be truncated (not rounded).\n",
        "print(\"The value of the variable is: \", variable)"
      ],
      "metadata": {
        "id": "l-OQZayYc23i"
      },
      "execution_count": null,
      "outputs": []
    },
    {
      "cell_type": "markdown",
      "source": [
        "### Ejercicio 5: Cambio de tipo de datos (1)\n",
        "\n",
        "Convierte un entero cualquiera a un float y asigna el resultado a una variable. Seguidamente, convierte un float cualquiera a un entero y asigna el resultado a otra variable distinta.\n",
        "\n",
        "Finalmente, imprime los resultados en pantalla."
      ],
      "metadata": {
        "id": "gyh4tAzSpoSS"
      }
    },
    {
      "cell_type": "code",
      "source": [
        "# Write your answer below:\n",
        "\n"
      ],
      "metadata": {
        "id": "L7VuDxdOpnc3"
      },
      "execution_count": null,
      "outputs": []
    },
    {
      "cell_type": "markdown",
      "source": [
        "### Ejercicio 6: Cambio de tipo de datos (2)\n",
        "\n",
        "Prueba a crear una variable que contenga un String e intenta cambiar el tipo de datos de dicha variable a Entero. ¿Qué ocurre?"
      ],
      "metadata": {
        "id": "nZiRVHwsrBLL"
      }
    },
    {
      "cell_type": "code",
      "source": [
        "# Write your answer below:\n",
        "\n"
      ],
      "metadata": {
        "id": "hX_DdzpYrEjm"
      },
      "execution_count": null,
      "outputs": []
    },
    {
      "cell_type": "markdown",
      "source": [
        "## Booleanos... ¿verdadero o falso?\n",
        "\n",
        "El tipo de dato Booleano (`bool`) es el que actúa sobre cualquier instrucción de Python de manera interna, sin que nadie se dé cuenta.\n",
        "\n",
        "Las variantes de este dato son los literales True y False.\n",
        "\n",
        "Un dato curioso acerca de este tipo de dato es que cualquier otro tipo de dato en Python lo contiene, implícitamente. En otras palabras, cualquier tipo de dato en Python puede ser *casteado* a booleano, como se puede ver a continuación:"
      ],
      "metadata": {
        "id": "TQp5fZDvcFYV"
      }
    },
    {
      "cell_type": "code",
      "source": [
        "# Boolean casting for every basic data type in Python:\n",
        "\n",
        "print(\"Boolean value of True: \", bool(True))\n",
        "print(\"Boolean value of False: \", bool(False))\n",
        "\n",
        "print(\"Boolean value of 1: \", bool(1))\n",
        "print(\"Boolean value of 1.2: \", bool(1.2))\n",
        "print(\"Boolean value of 1 + 2j:\", bool(1 + 2j))\n",
        "\n",
        "print(\"Boolean value of 'Hello':\", bool(\"Hello\"))\n",
        "print(\"Boolean value of (1, 2, 3):\", bool((1, 2, 3)))\n",
        "print(\"Boolean value of [1, 2, 3]:\", bool([1, 2, 3]))\n",
        "print(\"Boolean value of {1, 2, 3}:\", bool({1, 2, 3}))\n",
        "print(\"Boolean value of {'key_1': 'value_1'}:\", bool({\"key_1\": \"value_1\"}))"
      ],
      "metadata": {
        "id": "ic8oWd8Gdo_L"
      },
      "execution_count": null,
      "outputs": []
    },
    {
      "cell_type": "code",
      "source": [
        "# Wait... what?\n",
        "\n",
        "print(\"Boolean value of the boolean type: \", bool(bool))\n",
        "print(\"Boolean value of a generic boolean value: \", bool(bool()))"
      ],
      "metadata": {
        "id": "tYn7pXnRfZbr"
      },
      "execution_count": null,
      "outputs": []
    },
    {
      "cell_type": "markdown",
      "source": [
        "### Ejercicio 6: Booleanos\n",
        "\n",
        "Crea una serie de variables (mínimo 5, máximo 6) que contengan distintos tipos de datos (los que quieras, con los contenidos que te parezca) e imprime su valor booleano en pantalla.\n",
        "\n",
        "_**Sugerencia**: prueba a crear una lista vacía y una tupla con varios elementos y razona por qué sus valores booleanos son, respectivamente, `False` y `True`._"
      ],
      "metadata": {
        "id": "El2v0RFbp_D_"
      }
    },
    {
      "cell_type": "code",
      "source": [
        "# Write your answer below:\n",
        "\n"
      ],
      "metadata": {
        "id": "-xdxgipCsUmQ"
      },
      "execution_count": null,
      "outputs": []
    },
    {
      "cell_type": "markdown",
      "source": [
        "# Operadores: relaciones entre datos\n",
        "\n",
        "En Python existen una serie de operadores. Los más simples son los aritméticos, seguidos de los de asignación (que se pueden componer con los anteriores). Posteriormente se encuentran los de comparación, y finalmente, los operadores lógicos."
      ],
      "metadata": {
        "id": "s_sbnh_Ewsgu"
      }
    },
    {
      "cell_type": "markdown",
      "source": [
        "## Operadores aritméticos\n",
        "\n",
        "Este tipo de operadores se encargan de realizar operaciones aritméticas entre términos. Los de suma y resta pueden ser **unarios** (actúan sobre un elemento) o **binarios** (relacionan dos elementos).\n",
        "\n",
        "Tipos de operadores:\n",
        "* **Suma (`+`)**: suma a un valor otro dado.\n",
        "* **Resta (`-`)**: resta a un valor otro dado.\n",
        "* **Multiplicación (`*`)**: multiplica un valor por otro dado.\n",
        "* __Exponenciación (`**`)__: eleva un valor a otro dado.\n",
        "* **División flotante (`/`)**: divide un valor entre otro dado y devuelve un resultado flotante.\n",
        "* **División entera (`//`)**: divide un valor entre otro dado y devuelve un resultado entero.\n",
        "* **Módulo (`%`)**: divide un valor entre otro dado y devuelve el resto de la división."
      ],
      "metadata": {
        "id": "SvpjY-HSxO1g"
      }
    },
    {
      "cell_type": "code",
      "source": [
        "# Unary operators:\n",
        "\n",
        "# Addition:\n",
        "\n",
        "positive_value = +1  # This is equivalent to 1.\n",
        "\n",
        "# Subtraction:\n",
        "\n",
        "negative_value = -1\n",
        "\n",
        "print(\"Positive: \", positive_value)\n",
        "print(\"Negative: \", negative_value)"
      ],
      "metadata": {
        "id": "GOa8cDAKwxMM"
      },
      "execution_count": null,
      "outputs": []
    },
    {
      "cell_type": "code",
      "source": [
        "# Binary operators:\n",
        "\n",
        "# Addition:\n",
        "\n",
        "print(\"1 + 1\\t= \", 1 + 1)\n",
        "\n",
        "# Subtraction:\n",
        "\n",
        "print(\"2 - 1\\t= \", 2 - 1)\n",
        "\n",
        "# Multiplication:\n",
        "\n",
        "print(\"2 * 3\\t= \", 2 * 3)\n",
        "\n",
        "# Exponentiation:\n",
        "\n",
        "print(f\"2 ** 3\\t= \", 2 ** 3)\n",
        "\n",
        "# Floating-point division:\n",
        "\n",
        "print(f\"8 / 3\\t= \", 8 / 3)\n",
        "\n",
        "# Integer division:\n",
        "\n",
        "print(f\"8 // 3\\t= \", 8 // 3)\n",
        "\n",
        "# Modulus (remainder):\n",
        "# a % b is equal to a - ((a // b) * b).\n",
        "\n",
        "print(f\"11 % 2\\t= \", 8 % 3)"
      ],
      "metadata": {
        "id": "Tc16VI_CxwvN"
      },
      "execution_count": null,
      "outputs": []
    },
    {
      "cell_type": "markdown",
      "source": [
        "## Operadores de asignación\n",
        "\n",
        "Este tipo de operadores cumplen la función de asignar un valor a una variable, pero pueden combinarse con operadores aritméticos para ofrecer una funcionalidad más completa y compacta.\n",
        "\n",
        "Tipos de operador:\n",
        "* **Asignación (`=`)**: asigna un valor dado a una variable.\n",
        "* **Asignación y suma (`+=`)**: suma al valor de una variable un valor dado y asigna el resultado a la propia variable.\n",
        "* **Asignación y resta (`-=`)**: resta al valor de una variable un valor dado y asigna el resultado a la propia variable.\n",
        "* **Asignación y multiplicación (`*=`)**: multiplica el valor de una variable por un valor dado y asigna el resultado a la propia variable.\n",
        "* __Asignación y exponenciación (`**=`)__: eleva el valor de una variable a un valor dado y asigna el resultado a la propia variable.\n",
        "* **Asignación y división flotante (`/=`)**: divide el valor de una variable entre un valor dado y asigna el resultado (flotante) a la propia variable.\n",
        "* **Asignación y división entera (`//=`)**: divide el valor de una variable entre un valor dado y asigna el resultado (entero) a la propia variable.\n",
        "* **Asignación y división de módulo (`%=`)**: divide el valor de una variable entre un valor dado y asigna el resto a la propia variable."
      ],
      "metadata": {
        "id": "L0Ol7imCFdVM"
      }
    },
    {
      "cell_type": "code",
      "source": [
        "# Assignation:\n",
        "\n",
        "variable = 1  # The value is now 1.\n",
        "\n",
        "# Assignation and addition:\n",
        "\n",
        "variable += 1  # The value is now 2.\n",
        "\n",
        "# Assignation and subtraction:\n",
        "\n",
        "variable -= 3  # The value is now -1.\n",
        "\n",
        "# Assignation and multiplication:\n",
        "\n",
        "variable *= -2  # The value is now 2.\n",
        "\n",
        "# Assignation and exponentiation:\n",
        "\n",
        "variable **= 2  # The value is now 4.\n",
        "\n",
        "# Assignation and floating-point division:\n",
        "\n",
        "variable /= 1  # The value is now 4.0.\n",
        "\n",
        "# Assignation and integer division:\n",
        "\n",
        "variable //= 1  # The value is now 2.\n",
        "\n",
        "# Assignation and modulus division:\n",
        "\n",
        "variable %= 1  # The value is now 1."
      ],
      "metadata": {
        "id": "TcGUhU4jFnPJ"
      },
      "execution_count": null,
      "outputs": []
    },
    {
      "cell_type": "markdown",
      "source": [
        "## Operadores de comparación\n",
        "\n",
        "Este tipo de operadores permiten comparar valores numéricos siguiendo las reglas aritméticas correspondientes.\n",
        "\n",
        "Tipos de operador:\n",
        "* **Igual que (`==`)**: indica si dos elementos son iguales.\n",
        "* **Distinto de (`!=`)**: indica si dos elementos son diferentes.\n",
        "* **Menor que (`<`)**: indica si el primer elemento es menor que el segundo.\n",
        "* **Mayor que (`>`)**: indica si el primer elemento es mayor que el segundo.\n",
        "* **Menor o igual que (`<=`)**: indica si el primer elemento es menor o igual que el segundo.\n",
        "* **Mayor o igual que (`>=`)**: indica si el primer elemento es mayor o igual que el segundo."
      ],
      "metadata": {
        "id": "otcmnO8RIkYs"
      }
    },
    {
      "cell_type": "code",
      "source": [
        "# Equal to:\n",
        "\n",
        "print(\"1 == 1\\t: \", 1 == 1)\n",
        "\n",
        "# Different than:\n",
        "\n",
        "print(\"2 != 1\\t: \", 2 != 1)\n",
        "\n",
        "# Lower than:\n",
        "\n",
        "print(\"2 < 3\\t: \", 2 < 3)\n",
        "\n",
        "# Greater than:\n",
        "\n",
        "print(f\"2 > 3\\t: \", 2 > 3)\n",
        "\n",
        "# Lower than or equal to:\n",
        "\n",
        "print(f\"3 <= 3\\t: \", 8 <= 3)\n",
        "\n",
        "# Greater than or equal to:\n",
        "\n",
        "print(f\"2 >= 3\\t: \", 8 >= 3)"
      ],
      "metadata": {
        "id": "9Rrq5lAWNGsa"
      },
      "execution_count": null,
      "outputs": []
    },
    {
      "cell_type": "markdown",
      "source": [
        "## Operadores lógicos\n",
        "\n",
        "Los operadores lógicos sirven para combinar valores booleanos y devolver otro valor booleano que responda a las normas de lógica proposicional establecidas por cada operación.\n",
        "\n",
        "Tipos de operadores:\n",
        "* **No (`not`)**: niega el valor booleano de un elemento.\n",
        "* **Y (`and`)**: comprueba si los valores de dos elementos booleanos es verdadero.\n",
        "* **O (`or`)**: comprueba si todos o alguno de valores de dos elementos booleanos es verdadero."
      ],
      "metadata": {
        "id": "JLqDKf6pN_tT"
      }
    },
    {
      "cell_type": "code",
      "source": [
        "# Not:\n",
        "\n",
        "print(\"not True\\t: \", not True)\n",
        "\n",
        "# And:\n",
        "\n",
        "print(\"True and False\\t: \", True and False)\n",
        "\n",
        "# Or:\n",
        "\n",
        "print(\"True or False\\t: \", True or False)"
      ],
      "metadata": {
        "id": "z5FvYb8pO3x9"
      },
      "execution_count": null,
      "outputs": []
    },
    {
      "cell_type": "markdown",
      "source": [
        "# Estructuras de decisión: ¿qué camino sigue el programa?\n",
        "\n",
        "Las estructuras de decisión son instrucciones que, dependiendo de una condición determinada, pueden generar flujos de ejecución alternativos para el programa, alterando su linealidad."
      ],
      "metadata": {
        "id": "jgM44_91PJ6u"
      }
    },
    {
      "cell_type": "markdown",
      "source": [
        "## Condicional simple\n",
        "\n",
        "El condicional simple (_if_) consiste en una sola instrucción que determina si una condición es cierta. En caso de que lo sea, ejecuta el código que contiene."
      ],
      "metadata": {
        "id": "CZ-ETOLYPT4y"
      }
    },
    {
      "cell_type": "code",
      "source": [
        "# If statement:\n",
        "\n",
        "variable = 2\n",
        "\n",
        "if variable == 2:\n",
        "  print(\"The value of the variable is 2!\")"
      ],
      "metadata": {
        "id": "TFY1IcfdPd37"
      },
      "execution_count": null,
      "outputs": []
    },
    {
      "cell_type": "markdown",
      "source": [
        "## Condicional cerrado\n",
        "\n",
        "El condicional cerrado (_if-else_) consiste en dos instrucciones: la primera determina si una condición es cierta, y si lo es, ejecuta el bloque de código asociado. La segunda ejecuta el bloque de código asociado en caso de que la condición de la primera no sea cierta."
      ],
      "metadata": {
        "id": "xQhhJaLuPkl2"
      }
    },
    {
      "cell_type": "code",
      "source": [
        "# If-else:\n",
        "\n",
        "variable = 3\n",
        "\n",
        "if variable == 2:\n",
        "  print(\"The value of the variable is 2!\")\n",
        "  \n",
        "else:\n",
        "  print(\"The value of the variable is not 2!\")"
      ],
      "metadata": {
        "id": "nDAMug-KP79G"
      },
      "execution_count": null,
      "outputs": []
    },
    {
      "cell_type": "markdown",
      "source": [
        "## Condicional compuesto cerrado\n",
        "\n",
        "El condicional compuesto cerrado (_if-elif-else_) consiste en una serie de instrucciones, encabezadas por un `if` que evalúa si una condición determinada es cierta, seguida de una serie de instrucciones `elif` que evalúan si una condición es cierta sólamente cuando ninguna de las evaluadas anteriormente lo haya sido. Finalmente, contiene un `else` que ejecuta un bloque de código en caso de que ninguna de las condiciones haya sido cierta."
      ],
      "metadata": {
        "id": "_IKeLXMdQEF1"
      }
    },
    {
      "cell_type": "code",
      "source": [
        "# If-elif-else:\n",
        "\n",
        "variable = 4\n",
        "\n",
        "if variable < 0:\n",
        "  print(\"The value is negative!\")\n",
        "\n",
        "elif variable >= 1:  # This is True and it has been executed.\n",
        "  print(\"The value is greater or equal to 1!\")\n",
        "\n",
        "elif variable == 4:  # This is True, yet it has not been executed.\n",
        "  print(\"The value is 4\")\n",
        "  \n",
        "else:\n",
        "  print(\"The value must be located between 0 and 1...\")"
      ],
      "metadata": {
        "id": "2iB6piNTRinW"
      },
      "execution_count": null,
      "outputs": []
    },
    {
      "cell_type": "markdown",
      "source": [
        "### Nota: condicional compuesto cerrado vs. condicionales simples consecutivos\n",
        "\n",
        "Es interesante observar que la instrucción `elif` deja de considerar evaluaciones posteriores si se cumple su condición. Esto no ocurre con los condicionales simples consecutivos, como se puede observar en el ejemplo inferior:"
      ],
      "metadata": {
        "id": "LloG-xx5SQGC"
      }
    },
    {
      "cell_type": "code",
      "source": [
        "# Consecutive ifs:\n",
        "\n",
        "variable = 4\n",
        "\n",
        "if variable < 0:\n",
        "  print(\"The value is negative!\")\n",
        "\n",
        "if variable >= 1:  # This is True and it has been executed.\n",
        "  print(\"The value is greater or equal to 1!\")\n",
        "  \n",
        "if variable == 4:  # This is True and it has been executed.\n",
        "  print(\"The value is 4\")"
      ],
      "metadata": {
        "id": "V2RH6FADSDII"
      },
      "execution_count": null,
      "outputs": []
    },
    {
      "cell_type": "markdown",
      "source": [
        "# Estructuras de repetición, repetición, repetición...\n",
        "\n",
        "**Iteración**: ciclo de repetición de una instrucción o bloque de instrucciones.\n",
        "\n",
        "Las estructuras de repetición permiten realizar instrucciones varias veces de manera rápida y cómoda. En Python, existen dos variantes para estas estructuras."
      ],
      "metadata": {
        "id": "t1Nuzv4eToRj"
      }
    },
    {
      "cell_type": "markdown",
      "source": [
        "## Iteración en rango determinado (secuencia)\n",
        "\n",
        "La iteración de rango se realiza un número limitado de veces. Para ello, se utiliza una variable contadora de repeticiones y un tipo de datos secuencial que contiene las repeticiones.\n",
        "\n",
        "En Python, el iterador de rango es el bucle `for`. Su estructura se puede apreciar en el ejemplo inferior:"
      ],
      "metadata": {
        "id": "1NYNq9EITycR"
      }
    },
    {
      "cell_type": "code",
      "source": [
        "# For loop:\n",
        "\n",
        "variable = 3\n",
        "\n",
        "# The range() function generates a sequence of integer values, in this case,\n",
        "#   range(3) generates elements from 0 to 2 (the end is excluded).\n",
        "\n",
        "for i in range(variable):\n",
        "  print(\"This is iteration number \", i)"
      ],
      "metadata": {
        "id": "KcyGVhswUSOS"
      },
      "execution_count": null,
      "outputs": []
    },
    {
      "cell_type": "markdown",
      "source": [
        "## Iteración de rango indeterminado (condición)\n",
        "\n",
        "La iteración de condición se realiza un número indeterminado de veces, siempre y cuando se cumpla que la condición sea cierta.\n",
        "\n",
        "En Python, el iterador de condición es el bucle `while`. Su estructura se puede apreciar en el ejemplo inferior:"
      ],
      "metadata": {
        "id": "KJm94r6hUtCA"
      }
    },
    {
      "cell_type": "code",
      "source": [
        "# While loop:\n",
        "\n",
        "variable = 2\n",
        "iterations = 0\n",
        "\n",
        "while variable > 0:\n",
        "  print(\"This is iteration number \", iterations)\n",
        "  \n",
        "  # Execution break statement:\n",
        "  iterations += 1\n",
        "  if iterations == 20:\n",
        "    variable = -100"
      ],
      "metadata": {
        "id": "QIwD4YjcU_Sj"
      },
      "execution_count": null,
      "outputs": []
    },
    {
      "cell_type": "markdown",
      "source": [
        "## Estructuras generadas por iteración\n",
        "\n",
        "Python ofrece la posibilidad de generar estructuras mediante iteraciones \"incorporadas\" en la propia estructuras. Este concepto se puede entender mediante el razonamiento de cómo funcionan las estructuras secuenciales. Si contienen una serie de elementos, estos elementos se pueden insertar en ellas mediante un bucle.\n",
        "\n",
        "El procedimiento para generar la estructura mediante iteraciones incorporadas se denomina, en inglés, _comprehension_. Para el caso de las listas, se denomina _list comprehension_; para las tuplas, _tuple comprehension_, para los diccionarios, _dictionary comprehension_, etc."
      ],
      "metadata": {
        "id": "cdH3rWwlVkPd"
      }
    },
    {
      "cell_type": "code",
      "source": [
        "# Filling a list with an iterative structure:\n",
        "\n",
        "list_variable = []\n",
        "print(\"List before loop: \", list_variable)\n",
        "\n",
        "for i in range(10):\n",
        "  list_variable.append(i)  # The append method inserts a value (i) in the list.\n",
        "\n",
        "print(\"List after loop: \", list_variable)"
      ],
      "metadata": {
        "id": "j4rv4wkqXnnA"
      },
      "execution_count": null,
      "outputs": []
    },
    {
      "cell_type": "code",
      "source": [
        "# Filling a list using a list comprehension:\n",
        "\n",
        "list_variable = [i for i in range(10)]\n",
        "print(\"Generated list: \", list_variable)"
      ],
      "metadata": {
        "id": "Y-r9qu8fX3VL"
      },
      "execution_count": null,
      "outputs": []
    },
    {
      "cell_type": "markdown",
      "source": [
        "# Funciones, ¿funciona o no funciona?\n",
        "\n",
        "Las funciones son agrupaciones de código que actúan como cajas negras. Pueden tener cero o más entradas y ofrecen una única salida. En Python, el tipo de dato de salida de una función no es estricto (una misma función puede devolver un Entero y un String, por ejemplo)."
      ],
      "metadata": {
        "id": "X8qXa-M0Yhjp"
      }
    },
    {
      "cell_type": "code",
      "source": [
        "# Function definition:\n",
        "\n",
        "def say_hi():\n",
        "  print(\"Hi!\")\n",
        "\n",
        "# Function call:\n",
        "\n",
        "say_hi()"
      ],
      "metadata": {
        "id": "5hXAb2ziYxwn"
      },
      "execution_count": null,
      "outputs": []
    },
    {
      "cell_type": "markdown",
      "source": [
        "## Funciones de argumentos definidos\n",
        "\n",
        "**Argumento**: elemento de entrada de una función.\n",
        "\n",
        "Las funciones de argumentos definidos contienen un numero estable y fijo de argumentos. Estos argumentos pueden ser obligatorios u opcionales (con valor predefinido)."
      ],
      "metadata": {
        "id": "S8jeq3fdY6Xy"
      }
    },
    {
      "cell_type": "markdown",
      "source": [
        "### Argumentos posicionales (positional args)\n",
        "\n"
      ],
      "metadata": {
        "id": "dmiG35lVZehr"
      }
    },
    {
      "cell_type": "markdown",
      "source": [
        "### Argumentos clave-valor (keyword args)"
      ],
      "metadata": {
        "id": "3gZQ8rg-HAZn"
      }
    },
    {
      "cell_type": "markdown",
      "source": [
        "## Fuciones de argumentos indefinidos"
      ],
      "metadata": {
        "id": "XxuPAxAHIH82"
      }
    },
    {
      "cell_type": "markdown",
      "source": [
        "### Argumentos posicionales (positional args)"
      ],
      "metadata": {
        "id": "YMZp5or4IP2W"
      }
    },
    {
      "cell_type": "markdown",
      "source": [
        "### Argumentos clave-valor (keyword args)"
      ],
      "metadata": {
        "id": "VXOdCTCPIVAu"
      }
    },
    {
      "cell_type": "markdown",
      "source": [
        "# Clases y objetos"
      ],
      "metadata": {
        "id": "1qhIr4_eIcWO"
      }
    },
    {
      "cell_type": "markdown",
      "source": [
        "## La base: el constructor"
      ],
      "metadata": {
        "id": "8dBP222vIeye"
      }
    },
    {
      "cell_type": "markdown",
      "source": [
        "## Los elementos inanimados: atributos"
      ],
      "metadata": {
        "id": "nA4aK7fDIf2u"
      }
    },
    {
      "cell_type": "markdown",
      "source": [
        "## Los elementos animados: métodos"
      ],
      "metadata": {
        "id": "ZAlj9cKHIfsG"
      }
    },
    {
      "cell_type": "markdown",
      "source": [
        "### Métodos propios"
      ],
      "metadata": {
        "id": "q2uvqKvhJLLV"
      }
    },
    {
      "cell_type": "markdown",
      "source": [
        "### Métodos mágicos"
      ],
      "metadata": {
        "id": "POOEAcmfJQGV"
      }
    },
    {
      "cell_type": "markdown",
      "source": [
        "### Visibilidad de métodos"
      ],
      "metadata": {
        "id": "T-nW8msnJTGF"
      }
    },
    {
      "cell_type": "markdown",
      "source": [
        "## Herencia de clases"
      ],
      "metadata": {
        "id": "sA3ikQV3Ifau"
      }
    }
  ]
}